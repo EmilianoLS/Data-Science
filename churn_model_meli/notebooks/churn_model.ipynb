{
  "nbformat": 4,
  "nbformat_minor": 0,
  "metadata": {
    "language_info": {
      "codemirror_mode": {
        "name": "ipython",
        "version": 3
      },
      "file_extension": ".py",
      "mimetype": "text/x-python",
      "name": "python",
      "nbconvert_exporter": "python",
      "pygments_lexer": "ipython3",
      "version": "3.7.9"
    },
    "orig_nbformat": 2,
    "kernelspec": {
      "name": "python379jvsc74a57bd02524886862314fd03fbe228b4b52829b788cd62de8c3763297090f09968ba99a",
      "display_name": "Python 3.7.9 64-bit"
    },
    "metadata": {
      "interpreter": {
        "hash": "2524886862314fd03fbe228b4b52829b788cd62de8c3763297090f09968ba99a"
      }
    },
    "colab": {
      "name": "churn_model.ipynb",
      "provenance": [],
      "include_colab_link": true
    }
  },
  "cells": [
    {
      "cell_type": "markdown",
      "metadata": {
        "id": "view-in-github",
        "colab_type": "text"
      },
      "source": [
        "<a href=\"https://colab.research.google.com/github/EmilianoLS/Data-Science/blob/main/churn_model_meli/notebooks/churn_model.ipynb\" target=\"_parent\"><img src=\"https://colab.research.google.com/assets/colab-badge.svg\" alt=\"Open In Colab\"/></a>"
      ]
    },
    {
      "cell_type": "code",
      "metadata": {
        "id": "Ml32Y0tWU_Kf"
      },
      "source": [
        "# Librerias generales\n",
        "import pandas as pd\n",
        "import numpy as np \n",
        "import matplotlib.pyplot as plt\n",
        "import datetime\n",
        "# Librerias para listar archivos\n",
        "from os import listdir\n",
        "from os.path import isfile, join"
      ],
      "execution_count": 1,
      "outputs": []
    },
    {
      "cell_type": "code",
      "metadata": {
        "id": "zgOwp1lAVha-"
      },
      "source": [
        "# Defino url de los csvs\n",
        "\n",
        "url_active_user = 'https://raw.githubusercontent.com/EmilianoLS/Data-Science/main/churn_model_meli/data/ACTIVE_USER.csv'\n",
        "url_demografico = 'https://raw.githubusercontent.com/EmilianoLS/Data-Science/main/churn_model_meli/data/DEMOGRAFICOS.csv'\n",
        "url_dinero_cuenta = 'https://raw.githubusercontent.com/EmilianoLS/Data-Science/main/churn_model_meli/data/DINERO_CUENTA.csv'\n",
        "url_evaluate = 'https://raw.githubusercontent.com/EmilianoLS/Data-Science/main/churn_model_meli/data/EVALUATE.csv'\n",
        "url_marketplace_data = 'https://raw.githubusercontent.com/EmilianoLS/Data-Science/main/churn_model_meli/data/MARKETPLACE_DATA.csv'\n",
        "url_payments = 'https://raw.githubusercontent.com/EmilianoLS/Data-Science/main/churn_model_meli/data/PAYMENTS.csv'"
      ],
      "execution_count": 2,
      "outputs": []
    },
    {
      "cell_type": "markdown",
      "metadata": {
        "id": "_VDENGNPX7E0"
      },
      "source": [
        "# Corrida local"
      ]
    },
    {
      "cell_type": "code",
      "metadata": {
        "id": "nTBZhFviU_Kk"
      },
      "source": [
        "# Importo datasets\n",
        "\n",
        "#active_users = pd.read_csv('../data/ACTIVE_USER.csv') # Datos de visitas a la app\n",
        "#demograficos = pd.read_csv('../data/DEMOGRAFICOS.csv')\n",
        "#dinero_cuenta = pd.read_csv('../data/DINERO_CUENTA.csv') # Datos de la cantidad de dinero en la cuenta y si invierta\n",
        "#evaluate = pd.read_csv('../data/EVALUATE.csv')\n",
        "#marketplace_data = pd.read_csv('../data/MARKETPLACE_DATA.csv') # Movimientos en mercadolibre\n",
        "#payments = pd.read_csv('../data/PAYMENTS.csv') # Datos transaccionales en MP"
      ],
      "execution_count": 3,
      "outputs": []
    },
    {
      "cell_type": "markdown",
      "metadata": {
        "id": "ouTLoMsgX_sG"
      },
      "source": [
        "# Corrida en la nube"
      ]
    },
    {
      "cell_type": "code",
      "metadata": {
        "id": "ThBlXfWdX_Lc"
      },
      "source": [
        "# Importo datasets\n",
        "\n",
        "active_users = pd.read_csv(url_active_user) # Datos de visitas a la app\n",
        "demograficos = pd.read_csv(url_demografico)\n",
        "dinero_cuenta = pd.read_csv(url_dinero_cuenta) # Datos de la cantidad de dinero en la cuenta y si invierta\n",
        "evaluate = pd.read_csv(url_evaluate)\n",
        "marketplace_data = pd.read_csv(url_marketplace_data) # Movimientos en mercadolibre\n",
        "payments = pd.read_csv(url_payments) # Datos transaccionales en MP"
      ],
      "execution_count": 4,
      "outputs": []
    },
    {
      "cell_type": "code",
      "metadata": {
        "id": "2SIt8nXHU_Km",
        "outputId": "99e5f5fd-b87e-4e17-8f31-900eda46c1e8",
        "colab": {
          "base_uri": "https://localhost:8080/",
          "height": 142
        }
      },
      "source": [
        "# Active users\n",
        "active_users.head(3)"
      ],
      "execution_count": 5,
      "outputs": [
        {
          "output_type": "execute_result",
          "data": {
            "text/html": [
              "<div>\n",
              "<style scoped>\n",
              "    .dataframe tbody tr th:only-of-type {\n",
              "        vertical-align: middle;\n",
              "    }\n",
              "\n",
              "    .dataframe tbody tr th {\n",
              "        vertical-align: top;\n",
              "    }\n",
              "\n",
              "    .dataframe thead th {\n",
              "        text-align: right;\n",
              "    }\n",
              "</style>\n",
              "<table border=\"1\" class=\"dataframe\">\n",
              "  <thead>\n",
              "    <tr style=\"text-align: right;\">\n",
              "      <th></th>\n",
              "      <th>CUS_CUST_ID_BUY</th>\n",
              "      <th>MAU_MP_3</th>\n",
              "      <th>MAU_ML_3</th>\n",
              "      <th>MAU_MP_2</th>\n",
              "      <th>MAU_ML_2</th>\n",
              "      <th>MAU_MP_1</th>\n",
              "      <th>MAU_ML_1</th>\n",
              "      <th>last_login_mp_date_1</th>\n",
              "      <th>last_login_ml_date_1</th>\n",
              "    </tr>\n",
              "  </thead>\n",
              "  <tbody>\n",
              "    <tr>\n",
              "      <th>0</th>\n",
              "      <td>424070401</td>\n",
              "      <td>NaN</td>\n",
              "      <td>NaN</td>\n",
              "      <td>1.0</td>\n",
              "      <td>0.0</td>\n",
              "      <td>NaN</td>\n",
              "      <td>NaN</td>\n",
              "      <td>NaN</td>\n",
              "      <td>NaN</td>\n",
              "    </tr>\n",
              "    <tr>\n",
              "      <th>1</th>\n",
              "      <td>271894453</td>\n",
              "      <td>1.0</td>\n",
              "      <td>14.0</td>\n",
              "      <td>11.0</td>\n",
              "      <td>21.0</td>\n",
              "      <td>2.0</td>\n",
              "      <td>12.0</td>\n",
              "      <td>2019-05-17</td>\n",
              "      <td>2019-05-24</td>\n",
              "    </tr>\n",
              "    <tr>\n",
              "      <th>2</th>\n",
              "      <td>327402711</td>\n",
              "      <td>NaN</td>\n",
              "      <td>NaN</td>\n",
              "      <td>0.0</td>\n",
              "      <td>10.0</td>\n",
              "      <td>4.0</td>\n",
              "      <td>26.0</td>\n",
              "      <td>2019-05-28</td>\n",
              "      <td>2019-05-31</td>\n",
              "    </tr>\n",
              "  </tbody>\n",
              "</table>\n",
              "</div>"
            ],
            "text/plain": [
              "   CUS_CUST_ID_BUY  MAU_MP_3  ...  last_login_mp_date_1  last_login_ml_date_1\n",
              "0        424070401       NaN  ...                   NaN                   NaN\n",
              "1        271894453       1.0  ...            2019-05-17            2019-05-24\n",
              "2        327402711       NaN  ...            2019-05-28            2019-05-31\n",
              "\n",
              "[3 rows x 9 columns]"
            ]
          },
          "metadata": {
            "tags": []
          },
          "execution_count": 5
        }
      ]
    },
    {
      "cell_type": "code",
      "metadata": {
        "id": "_rnp88MMU_Ko",
        "outputId": "b80b4c3d-7c10-440b-ec63-e12d8cbcdbad",
        "colab": {
          "base_uri": "https://localhost:8080/",
          "height": 142
        }
      },
      "source": [
        "# Demograficos\n",
        "demograficos.head(3)"
      ],
      "execution_count": 6,
      "outputs": [
        {
          "output_type": "execute_result",
          "data": {
            "text/html": [
              "<div>\n",
              "<style scoped>\n",
              "    .dataframe tbody tr th:only-of-type {\n",
              "        vertical-align: middle;\n",
              "    }\n",
              "\n",
              "    .dataframe tbody tr th {\n",
              "        vertical-align: top;\n",
              "    }\n",
              "\n",
              "    .dataframe thead th {\n",
              "        text-align: right;\n",
              "    }\n",
              "</style>\n",
              "<table border=\"1\" class=\"dataframe\">\n",
              "  <thead>\n",
              "    <tr style=\"text-align: right;\">\n",
              "      <th></th>\n",
              "      <th>CITY</th>\n",
              "      <th>CUS_CUST_ID_BUY</th>\n",
              "      <th>GENDER</th>\n",
              "      <th>RANGO_EDAD</th>\n",
              "      <th>TARJETAS</th>\n",
              "      <th>ESTADO</th>\n",
              "    </tr>\n",
              "  </thead>\n",
              "  <tbody>\n",
              "    <tr>\n",
              "      <th>0</th>\n",
              "      <td>caba</td>\n",
              "      <td>47629682</td>\n",
              "      <td>male</td>\n",
              "      <td>03.Entre 26 y 30 años</td>\n",
              "      <td>Credit Card</td>\n",
              "      <td>capital federal</td>\n",
              "    </tr>\n",
              "    <tr>\n",
              "      <th>1</th>\n",
              "      <td>belen de escobar</td>\n",
              "      <td>184288617</td>\n",
              "      <td>male</td>\n",
              "      <td>03.Entre 26 y 30 años</td>\n",
              "      <td>Account Money</td>\n",
              "      <td>buenos aires</td>\n",
              "    </tr>\n",
              "    <tr>\n",
              "      <th>2</th>\n",
              "      <td>san fernando del valle de catamarca</td>\n",
              "      <td>134359455</td>\n",
              "      <td>female</td>\n",
              "      <td>03.Entre 26 y 30 años</td>\n",
              "      <td>Debit Card</td>\n",
              "      <td>catamarca</td>\n",
              "    </tr>\n",
              "  </tbody>\n",
              "</table>\n",
              "</div>"
            ],
            "text/plain": [
              "                                  CITY  ...           ESTADO\n",
              "0                                 caba  ...  capital federal\n",
              "1                     belen de escobar  ...     buenos aires\n",
              "2  san fernando del valle de catamarca  ...        catamarca\n",
              "\n",
              "[3 rows x 6 columns]"
            ]
          },
          "metadata": {
            "tags": []
          },
          "execution_count": 6
        }
      ]
    },
    {
      "cell_type": "code",
      "metadata": {
        "id": "DzX5aUlJU_Kp",
        "outputId": "32922e91-bf5d-4400-9960-4465daec7178",
        "colab": {
          "base_uri": "https://localhost:8080/",
          "height": 142
        }
      },
      "source": [
        "# Dinero en cuenta\n",
        "dinero_cuenta.head(3)"
      ],
      "execution_count": 7,
      "outputs": [
        {
          "output_type": "execute_result",
          "data": {
            "text/html": [
              "<div>\n",
              "<style scoped>\n",
              "    .dataframe tbody tr th:only-of-type {\n",
              "        vertical-align: middle;\n",
              "    }\n",
              "\n",
              "    .dataframe tbody tr th {\n",
              "        vertical-align: top;\n",
              "    }\n",
              "\n",
              "    .dataframe thead th {\n",
              "        text-align: right;\n",
              "    }\n",
              "</style>\n",
              "<table border=\"1\" class=\"dataframe\">\n",
              "  <thead>\n",
              "    <tr style=\"text-align: right;\">\n",
              "      <th></th>\n",
              "      <th>CUS_CUST_ID_BUY</th>\n",
              "      <th>PLATA_CUENTA_1</th>\n",
              "      <th>PLATA_CUENTA_2</th>\n",
              "      <th>INVERSION</th>\n",
              "    </tr>\n",
              "  </thead>\n",
              "  <tbody>\n",
              "    <tr>\n",
              "      <th>0</th>\n",
              "      <td>54018.0</td>\n",
              "      <td>250.99</td>\n",
              "      <td>0.00</td>\n",
              "      <td>pending</td>\n",
              "    </tr>\n",
              "    <tr>\n",
              "      <th>1</th>\n",
              "      <td>23513.0</td>\n",
              "      <td>20.05</td>\n",
              "      <td>2220.05</td>\n",
              "      <td>warmup</td>\n",
              "    </tr>\n",
              "    <tr>\n",
              "      <th>2</th>\n",
              "      <td>21230.0</td>\n",
              "      <td>0.00</td>\n",
              "      <td>0.00</td>\n",
              "      <td>warmup</td>\n",
              "    </tr>\n",
              "  </tbody>\n",
              "</table>\n",
              "</div>"
            ],
            "text/plain": [
              "   CUS_CUST_ID_BUY  PLATA_CUENTA_1  PLATA_CUENTA_2 INVERSION\n",
              "0          54018.0          250.99            0.00   pending\n",
              "1          23513.0           20.05         2220.05    warmup\n",
              "2          21230.0            0.00            0.00    warmup"
            ]
          },
          "metadata": {
            "tags": []
          },
          "execution_count": 7
        }
      ]
    },
    {
      "cell_type": "code",
      "metadata": {
        "id": "lAFWXXeCU_Kp",
        "outputId": "95dfdf59-d0c7-457d-adee-1dc6d14b5d0f",
        "colab": {
          "base_uri": "https://localhost:8080/",
          "height": 142
        }
      },
      "source": [
        "# Evaluate\n",
        "evaluate.head(3)"
      ],
      "execution_count": 8,
      "outputs": [
        {
          "output_type": "execute_result",
          "data": {
            "text/html": [
              "<div>\n",
              "<style scoped>\n",
              "    .dataframe tbody tr th:only-of-type {\n",
              "        vertical-align: middle;\n",
              "    }\n",
              "\n",
              "    .dataframe tbody tr th {\n",
              "        vertical-align: top;\n",
              "    }\n",
              "\n",
              "    .dataframe thead th {\n",
              "        text-align: right;\n",
              "    }\n",
              "</style>\n",
              "<table border=\"1\" class=\"dataframe\">\n",
              "  <thead>\n",
              "    <tr style=\"text-align: right;\">\n",
              "      <th></th>\n",
              "      <th>CUS_CUST_ID_BUY</th>\n",
              "      <th>churn</th>\n",
              "    </tr>\n",
              "  </thead>\n",
              "  <tbody>\n",
              "    <tr>\n",
              "      <th>0</th>\n",
              "      <td>20663512</td>\n",
              "      <td>1.0</td>\n",
              "    </tr>\n",
              "    <tr>\n",
              "      <th>1</th>\n",
              "      <td>444286946</td>\n",
              "      <td>0.0</td>\n",
              "    </tr>\n",
              "    <tr>\n",
              "      <th>2</th>\n",
              "      <td>348084528</td>\n",
              "      <td>1.0</td>\n",
              "    </tr>\n",
              "  </tbody>\n",
              "</table>\n",
              "</div>"
            ],
            "text/plain": [
              "   CUS_CUST_ID_BUY  churn\n",
              "0         20663512    1.0\n",
              "1        444286946    0.0\n",
              "2        348084528    1.0"
            ]
          },
          "metadata": {
            "tags": []
          },
          "execution_count": 8
        }
      ]
    },
    {
      "cell_type": "code",
      "metadata": {
        "id": "duRD5FUxU_Kq",
        "outputId": "ba639ca3-e47c-4e3c-aeb9-ed493f294c52",
        "colab": {
          "base_uri": "https://localhost:8080/",
          "height": 142
        }
      },
      "source": [
        "# Marketplace \n",
        "marketplace_data.head(3)"
      ],
      "execution_count": 9,
      "outputs": [
        {
          "output_type": "execute_result",
          "data": {
            "text/html": [
              "<div>\n",
              "<style scoped>\n",
              "    .dataframe tbody tr th:only-of-type {\n",
              "        vertical-align: middle;\n",
              "    }\n",
              "\n",
              "    .dataframe tbody tr th {\n",
              "        vertical-align: top;\n",
              "    }\n",
              "\n",
              "    .dataframe thead th {\n",
              "        text-align: right;\n",
              "    }\n",
              "</style>\n",
              "<table border=\"1\" class=\"dataframe\">\n",
              "  <thead>\n",
              "    <tr style=\"text-align: right;\">\n",
              "      <th></th>\n",
              "      <th>CUS_CUST_ID_BUY</th>\n",
              "      <th>SPENT_ML</th>\n",
              "      <th>RECENCY_ML</th>\n",
              "      <th>FREQUENCY_ML</th>\n",
              "    </tr>\n",
              "  </thead>\n",
              "  <tbody>\n",
              "    <tr>\n",
              "      <th>0</th>\n",
              "      <td>53621056</td>\n",
              "      <td>71.51</td>\n",
              "      <td>2019-03-30</td>\n",
              "      <td>1</td>\n",
              "    </tr>\n",
              "    <tr>\n",
              "      <th>1</th>\n",
              "      <td>308208758</td>\n",
              "      <td>269.20</td>\n",
              "      <td>2019-05-30</td>\n",
              "      <td>11</td>\n",
              "    </tr>\n",
              "    <tr>\n",
              "      <th>2</th>\n",
              "      <td>30591970</td>\n",
              "      <td>149.22</td>\n",
              "      <td>2019-03-24</td>\n",
              "      <td>4</td>\n",
              "    </tr>\n",
              "  </tbody>\n",
              "</table>\n",
              "</div>"
            ],
            "text/plain": [
              "   CUS_CUST_ID_BUY  SPENT_ML  RECENCY_ML  FREQUENCY_ML\n",
              "0         53621056     71.51  2019-03-30             1\n",
              "1        308208758    269.20  2019-05-30            11\n",
              "2         30591970    149.22  2019-03-24             4"
            ]
          },
          "metadata": {
            "tags": []
          },
          "execution_count": 9
        }
      ]
    },
    {
      "cell_type": "code",
      "metadata": {
        "id": "PBH_kCgUU_Kq",
        "outputId": "afd73dc2-1860-4278-946d-644f83473e59",
        "colab": {
          "base_uri": "https://localhost:8080/",
          "height": 142
        }
      },
      "source": [
        "# Payments\n",
        "payments.head(3)"
      ],
      "execution_count": 10,
      "outputs": [
        {
          "output_type": "execute_result",
          "data": {
            "text/html": [
              "<div>\n",
              "<style scoped>\n",
              "    .dataframe tbody tr th:only-of-type {\n",
              "        vertical-align: middle;\n",
              "    }\n",
              "\n",
              "    .dataframe tbody tr th {\n",
              "        vertical-align: top;\n",
              "    }\n",
              "\n",
              "    .dataframe thead th {\n",
              "        text-align: right;\n",
              "    }\n",
              "</style>\n",
              "<table border=\"1\" class=\"dataframe\">\n",
              "  <thead>\n",
              "    <tr style=\"text-align: right;\">\n",
              "      <th></th>\n",
              "      <th>FECHA</th>\n",
              "      <th>CUS_CUST_ID_SEL</th>\n",
              "      <th>CUS_CUST_ID_BUY</th>\n",
              "      <th>SPENT</th>\n",
              "      <th>TPV_SEGMENT_DETAIL</th>\n",
              "      <th>DESCUENTO</th>\n",
              "    </tr>\n",
              "  </thead>\n",
              "  <tbody>\n",
              "    <tr>\n",
              "      <th>0</th>\n",
              "      <td>2019-05-25</td>\n",
              "      <td>314941456</td>\n",
              "      <td>20663512</td>\n",
              "      <td>11.3566</td>\n",
              "      <td>Instore</td>\n",
              "      <td>2.2312</td>\n",
              "    </tr>\n",
              "    <tr>\n",
              "      <th>1</th>\n",
              "      <td>2019-06-20</td>\n",
              "      <td>251693291</td>\n",
              "      <td>444286946</td>\n",
              "      <td>4.6190</td>\n",
              "      <td>Transport</td>\n",
              "      <td>0.9238</td>\n",
              "    </tr>\n",
              "    <tr>\n",
              "      <th>2</th>\n",
              "      <td>2019-01-10</td>\n",
              "      <td>251693291</td>\n",
              "      <td>20663512</td>\n",
              "      <td>5.3519</td>\n",
              "      <td>Transport</td>\n",
              "      <td>1.0704</td>\n",
              "    </tr>\n",
              "  </tbody>\n",
              "</table>\n",
              "</div>"
            ],
            "text/plain": [
              "        FECHA  CUS_CUST_ID_SEL  ...  TPV_SEGMENT_DETAIL  DESCUENTO\n",
              "0  2019-05-25        314941456  ...             Instore     2.2312\n",
              "1  2019-06-20        251693291  ...           Transport     0.9238\n",
              "2  2019-01-10        251693291  ...           Transport     1.0704\n",
              "\n",
              "[3 rows x 6 columns]"
            ]
          },
          "metadata": {
            "tags": []
          },
          "execution_count": 10
        }
      ]
    },
    {
      "cell_type": "code",
      "metadata": {
        "id": "HZzTJjnqU_Kr",
        "outputId": "e6d22e74-0018-459d-ac6e-efb4ffcaca39",
        "colab": {
          "base_uri": "https://localhost:8080/"
        }
      },
      "source": [
        "# Revision de payments dataframe\n",
        "payments.info() # La información esta ok con sus clases excepto por la fecha, se convierte a datetime"
      ],
      "execution_count": 11,
      "outputs": [
        {
          "output_type": "stream",
          "text": [
            "<class 'pandas.core.frame.DataFrame'>\n",
            "RangeIndex: 555516 entries, 0 to 555515\n",
            "Data columns (total 6 columns):\n",
            " #   Column              Non-Null Count   Dtype  \n",
            "---  ------              --------------   -----  \n",
            " 0   FECHA               555516 non-null  object \n",
            " 1   CUS_CUST_ID_SEL     555516 non-null  int64  \n",
            " 2   CUS_CUST_ID_BUY     555516 non-null  int64  \n",
            " 3   SPENT               555516 non-null  float64\n",
            " 4   TPV_SEGMENT_DETAIL  555516 non-null  object \n",
            " 5   DESCUENTO           555516 non-null  float64\n",
            "dtypes: float64(2), int64(2), object(2)\n",
            "memory usage: 25.4+ MB\n"
          ],
          "name": "stdout"
        }
      ]
    },
    {
      "cell_type": "code",
      "metadata": {
        "id": "0AwQg48uU_Kr"
      },
      "source": [
        "# Convierto la columna fecha en datetime\n",
        "payments['FECHA'] = [datetime.datetime.strptime(x, '%Y-%m-%d') for x in payments['FECHA']]"
      ],
      "execution_count": 12,
      "outputs": []
    },
    {
      "cell_type": "code",
      "metadata": {
        "id": "LtIjTyIiU_Ks"
      },
      "source": [
        "# La idea es unificar la data por usuario de forma que cada linea tenga toda la información\n",
        "# Por eso primero se dummiza el dataframe payments para que los distintos segmentos estén por columna\n",
        "\n",
        "payments = pd.get_dummies(payments, columns = ['TPV_SEGMENT_DETAIL'], prefix = ['segment'])"
      ],
      "execution_count": 13,
      "outputs": []
    },
    {
      "cell_type": "code",
      "metadata": {
        "id": "uOC7kwXpU_Ks"
      },
      "source": [
        "# Multiplico los valores de spent y discount por las variables dummies\n",
        "for col in payments.iloc[:, 5:11]:\n",
        "    name1 = col + '_spent'\n",
        "    name2 = col + '_discount'\n",
        "    payments[name1] = payments[col].multiply(payments['SPENT'], axis = 'index')\n",
        "    payments[name2] = payments[col].multiply(payments['SPENT'], axis = 'index')"
      ],
      "execution_count": 14,
      "outputs": []
    },
    {
      "cell_type": "code",
      "metadata": {
        "id": "YBCoDIMjU_Ku"
      },
      "source": [
        "#payments.iloc[:,-6:].multiply(payments['SPENT'], axis = 'index')\n",
        "\n",
        "def create_group_date(frequency):\n",
        "  grouped_data = payments.groupby([pd.Grouper(key = 'FECHA', freq = frequency), 'CUS_CUST_ID_BUY'], as_index = True).agg(\n",
        "                        segment_cellphone_recharge_total = ('segment_Cellphone Recharge', 'sum'),\n",
        "                        spent_segment_cellphone_recharge = ('segment_Cellphone Recharge_spent', 'sum'), \n",
        "                        spent_segment_cellphone_recharge_mean = ('segment_Cellphone Recharge_spent', 'mean'),\n",
        "                        spent_segment_cellphone_recharge_max = ('segment_Cellphone Recharge_spent', 'max'),\n",
        "                        segment_instore_total = ('segment_Instore','sum'),\n",
        "                        spent_segment_instore = ('segment_Instore_spent','sum'),\n",
        "                        spent_segment_instore_mean = ('segment_Instore_spent','mean'),\n",
        "                        spent_segment_instore_max = ('segment_Instore_spent','max'),\n",
        "                        segment_money_transfer_total = ('segment_Money Transfer','sum'),\n",
        "                        spent_segment_money_transfer = ('segment_Money Transfer_spent','sum'),\n",
        "                        spent_segment_money_transfer_mean = ('segment_Money Transfer_spent','mean'),\n",
        "                        spent_segment_money_transfer_max = ('segment_Money Transfer_spent','max'),\n",
        "                        segment_other_single_players_total = ('segment_Other Single Players','sum'),\n",
        "                        spent_segment_other_single_players = ('segment_Other Single Players_spent','sum'),\n",
        "                        spent_segment_other_single_players_mean = ('segment_Other Single Players_spent','mean'),\n",
        "                        spent_segment_other_single_players_max = ('segment_Other Single Players_spent','max'),\n",
        "                        segment_transport_total = ('segment_Transport', 'sum'),\n",
        "                        spent_segment_transport = ('segment_Transport_spent','sum'),\n",
        "                        spent_segment_transport_mean = ('segment_Transport_spent','mean'),\n",
        "                        spent_segment_transport_max = ('segment_Transport_spent','max'),\n",
        "                        segment_utilities_total = ('segment_Utilities','sum'),\n",
        "                        spent_segment_utilities = ('segment_Utilities_spent','sum'),\n",
        "                        spent_segment_utilities_mean = ('segment_Utilities_spent','mean'),\n",
        "                        spent_segment_utilities_max = ('segment_Utilities_spent','max'),\n",
        "                        \n",
        "                        discount_segment_cellphone_recharge = ('segment_Cellphone Recharge_discount', 'sum'), \n",
        "                        discount_segment_cellphone_recharge_mean = ('segment_Cellphone Recharge_discount', 'mean'),\n",
        "                        discount_segment_cellphone_recharge_max = ('segment_Cellphone Recharge_discount', 'max'),\n",
        "                        discount_segment_instore = ('segment_Instore_discount','sum'),\n",
        "                        discount_segment_instore_mean = ('segment_Instore_discount','mean'),\n",
        "                        discount_segment_instore_max = ('segment_Instore_discount','max'),\n",
        "                        discount_segment_money_transfer = ('segment_Money Transfer_discount','sum'),\n",
        "                        discount_segment_money_transfer_mean = ('segment_Money Transfer_discount','mean'),\n",
        "                        discount_segment_money_transfer_max = ('segment_Money Transfer_discount','max'),\n",
        "                        discount_segment_other_single_players = ('segment_Other Single Players_discount','sum'),\n",
        "                        discount_segment_other_single_players_mean = ('segment_Other Single Players_discount','mean'),\n",
        "                        discount_segment_other_single_players_max = ('segment_Other Single Players_discount','max'),\n",
        "                        discount_segment_transport = ('segment_Transport_discount','sum'),\n",
        "                        discount_segment_transport_mean = ('segment_Transport_discount','mean'),\n",
        "                        discount_segment_transport_max = ('segment_Transport_discount','max'),\n",
        "                        discount_segment_utilities = ('segment_Utilities_discount','sum'),\n",
        "                        discount_segment_utilities_mean = ('segment_Utilities_discount','mean'),\n",
        "                        discount_segment_utilities_max = ('segment_Utilities_discount','max'))\n",
        "  \n",
        "  return grouped_data"
      ],
      "execution_count": 15,
      "outputs": []
    },
    {
      "cell_type": "code",
      "metadata": {
        "id": "cZ65Rn-IU_Kt",
        "outputId": "33184aab-654d-4a30-cded-128625343c91",
        "colab": {
          "base_uri": "https://localhost:8080/",
          "height": 284
        }
      },
      "source": [
        "# Funcion de agregacion por ventanas de tiempo\n",
        "payments_group_date = create_group_date('3M')\n",
        "payments_group_date = payments_group_date.reset_index() \n",
        "\n",
        "# Creo la variable mes como objeto para dummizar \n",
        "payments_group_date['MES'] = [str(x.month) for x in payments_group_date['FECHA']]\n",
        "\n",
        "# Variable util para automatizar la agregacion\n",
        "k = len(payments_group_date['MES'].unique())\n",
        "\n",
        "# Creo variables dummies\n",
        "payments_group_date = pd.get_dummies(payments_group_date, columns = ['MES'])\n",
        "\n",
        "# Obtengo los indices inicial y final de las columnas dummies porque despues se iran agregando nuevas \n",
        "# columnas en la medida que las multiplique por los features obtenidos anteriormente \n",
        "max_index = payments_group_date.shape[1] - 1\n",
        "low_index = max_index  + 1 - k\n",
        "\n",
        "# Lista de columnas a elminar una vez finalizado el proceso\n",
        "drop_cols = payments_group_date.columns[2:max_index + 1].values.tolist()\n",
        "\n",
        "# Loop que ira greando una nueva columna por cada feature y variable dummie existente.\n",
        "# La idea es que se multiplica la variable dummie por el valor de cada feature \n",
        "for col1 in payments_group_date.columns[2:low_index]:\n",
        "    for col2 in payments_group_date.columns[low_index:max_index + 1]:\n",
        "        col_name = col1 + '_' + col2\n",
        "        payments_group_date[col_name] = payments_group_date[col2].multiply(payments_group_date[col1], axis = 'index')\n",
        "\n",
        "# Elimino columnas que ya no uso\n",
        "payments_group_date.drop(columns = drop_cols, axis = 1, inplace = True)\n",
        "\n",
        "# Group by customer y obtengo un registro unico por cada uno\n",
        "payments_group_date = payments_group_date.groupby('CUS_CUST_ID_BUY').sum()\n",
        "payments_group_date.head()\n"
      ],
      "execution_count": 16,
      "outputs": [
        {
          "output_type": "execute_result",
          "data": {
            "text/html": [
              "<div>\n",
              "<style scoped>\n",
              "    .dataframe tbody tr th:only-of-type {\n",
              "        vertical-align: middle;\n",
              "    }\n",
              "\n",
              "    .dataframe tbody tr th {\n",
              "        vertical-align: top;\n",
              "    }\n",
              "\n",
              "    .dataframe thead th {\n",
              "        text-align: right;\n",
              "    }\n",
              "</style>\n",
              "<table border=\"1\" class=\"dataframe\">\n",
              "  <thead>\n",
              "    <tr style=\"text-align: right;\">\n",
              "      <th></th>\n",
              "      <th>segment_cellphone_recharge_total_MES_1</th>\n",
              "      <th>segment_cellphone_recharge_total_MES_4</th>\n",
              "      <th>segment_cellphone_recharge_total_MES_7</th>\n",
              "      <th>spent_segment_cellphone_recharge_MES_1</th>\n",
              "      <th>spent_segment_cellphone_recharge_MES_4</th>\n",
              "      <th>spent_segment_cellphone_recharge_MES_7</th>\n",
              "      <th>spent_segment_cellphone_recharge_mean_MES_1</th>\n",
              "      <th>spent_segment_cellphone_recharge_mean_MES_4</th>\n",
              "      <th>spent_segment_cellphone_recharge_mean_MES_7</th>\n",
              "      <th>spent_segment_cellphone_recharge_max_MES_1</th>\n",
              "      <th>spent_segment_cellphone_recharge_max_MES_4</th>\n",
              "      <th>spent_segment_cellphone_recharge_max_MES_7</th>\n",
              "      <th>segment_instore_total_MES_1</th>\n",
              "      <th>segment_instore_total_MES_4</th>\n",
              "      <th>segment_instore_total_MES_7</th>\n",
              "      <th>spent_segment_instore_MES_1</th>\n",
              "      <th>spent_segment_instore_MES_4</th>\n",
              "      <th>spent_segment_instore_MES_7</th>\n",
              "      <th>spent_segment_instore_mean_MES_1</th>\n",
              "      <th>spent_segment_instore_mean_MES_4</th>\n",
              "      <th>spent_segment_instore_mean_MES_7</th>\n",
              "      <th>spent_segment_instore_max_MES_1</th>\n",
              "      <th>spent_segment_instore_max_MES_4</th>\n",
              "      <th>spent_segment_instore_max_MES_7</th>\n",
              "      <th>segment_money_transfer_total_MES_1</th>\n",
              "      <th>segment_money_transfer_total_MES_4</th>\n",
              "      <th>segment_money_transfer_total_MES_7</th>\n",
              "      <th>spent_segment_money_transfer_MES_1</th>\n",
              "      <th>spent_segment_money_transfer_MES_4</th>\n",
              "      <th>spent_segment_money_transfer_MES_7</th>\n",
              "      <th>spent_segment_money_transfer_mean_MES_1</th>\n",
              "      <th>spent_segment_money_transfer_mean_MES_4</th>\n",
              "      <th>spent_segment_money_transfer_mean_MES_7</th>\n",
              "      <th>spent_segment_money_transfer_max_MES_1</th>\n",
              "      <th>spent_segment_money_transfer_max_MES_4</th>\n",
              "      <th>spent_segment_money_transfer_max_MES_7</th>\n",
              "      <th>segment_other_single_players_total_MES_1</th>\n",
              "      <th>segment_other_single_players_total_MES_4</th>\n",
              "      <th>segment_other_single_players_total_MES_7</th>\n",
              "      <th>spent_segment_other_single_players_MES_1</th>\n",
              "      <th>...</th>\n",
              "      <th>discount_segment_instore_mean_MES_7</th>\n",
              "      <th>discount_segment_instore_max_MES_1</th>\n",
              "      <th>discount_segment_instore_max_MES_4</th>\n",
              "      <th>discount_segment_instore_max_MES_7</th>\n",
              "      <th>discount_segment_money_transfer_MES_1</th>\n",
              "      <th>discount_segment_money_transfer_MES_4</th>\n",
              "      <th>discount_segment_money_transfer_MES_7</th>\n",
              "      <th>discount_segment_money_transfer_mean_MES_1</th>\n",
              "      <th>discount_segment_money_transfer_mean_MES_4</th>\n",
              "      <th>discount_segment_money_transfer_mean_MES_7</th>\n",
              "      <th>discount_segment_money_transfer_max_MES_1</th>\n",
              "      <th>discount_segment_money_transfer_max_MES_4</th>\n",
              "      <th>discount_segment_money_transfer_max_MES_7</th>\n",
              "      <th>discount_segment_other_single_players_MES_1</th>\n",
              "      <th>discount_segment_other_single_players_MES_4</th>\n",
              "      <th>discount_segment_other_single_players_MES_7</th>\n",
              "      <th>discount_segment_other_single_players_mean_MES_1</th>\n",
              "      <th>discount_segment_other_single_players_mean_MES_4</th>\n",
              "      <th>discount_segment_other_single_players_mean_MES_7</th>\n",
              "      <th>discount_segment_other_single_players_max_MES_1</th>\n",
              "      <th>discount_segment_other_single_players_max_MES_4</th>\n",
              "      <th>discount_segment_other_single_players_max_MES_7</th>\n",
              "      <th>discount_segment_transport_MES_1</th>\n",
              "      <th>discount_segment_transport_MES_4</th>\n",
              "      <th>discount_segment_transport_MES_7</th>\n",
              "      <th>discount_segment_transport_mean_MES_1</th>\n",
              "      <th>discount_segment_transport_mean_MES_4</th>\n",
              "      <th>discount_segment_transport_mean_MES_7</th>\n",
              "      <th>discount_segment_transport_max_MES_1</th>\n",
              "      <th>discount_segment_transport_max_MES_4</th>\n",
              "      <th>discount_segment_transport_max_MES_7</th>\n",
              "      <th>discount_segment_utilities_MES_1</th>\n",
              "      <th>discount_segment_utilities_MES_4</th>\n",
              "      <th>discount_segment_utilities_MES_7</th>\n",
              "      <th>discount_segment_utilities_mean_MES_1</th>\n",
              "      <th>discount_segment_utilities_mean_MES_4</th>\n",
              "      <th>discount_segment_utilities_mean_MES_7</th>\n",
              "      <th>discount_segment_utilities_max_MES_1</th>\n",
              "      <th>discount_segment_utilities_max_MES_4</th>\n",
              "      <th>discount_segment_utilities_max_MES_7</th>\n",
              "    </tr>\n",
              "    <tr>\n",
              "      <th>CUS_CUST_ID_BUY</th>\n",
              "      <th></th>\n",
              "      <th></th>\n",
              "      <th></th>\n",
              "      <th></th>\n",
              "      <th></th>\n",
              "      <th></th>\n",
              "      <th></th>\n",
              "      <th></th>\n",
              "      <th></th>\n",
              "      <th></th>\n",
              "      <th></th>\n",
              "      <th></th>\n",
              "      <th></th>\n",
              "      <th></th>\n",
              "      <th></th>\n",
              "      <th></th>\n",
              "      <th></th>\n",
              "      <th></th>\n",
              "      <th></th>\n",
              "      <th></th>\n",
              "      <th></th>\n",
              "      <th></th>\n",
              "      <th></th>\n",
              "      <th></th>\n",
              "      <th></th>\n",
              "      <th></th>\n",
              "      <th></th>\n",
              "      <th></th>\n",
              "      <th></th>\n",
              "      <th></th>\n",
              "      <th></th>\n",
              "      <th></th>\n",
              "      <th></th>\n",
              "      <th></th>\n",
              "      <th></th>\n",
              "      <th></th>\n",
              "      <th></th>\n",
              "      <th></th>\n",
              "      <th></th>\n",
              "      <th></th>\n",
              "      <th></th>\n",
              "      <th></th>\n",
              "      <th></th>\n",
              "      <th></th>\n",
              "      <th></th>\n",
              "      <th></th>\n",
              "      <th></th>\n",
              "      <th></th>\n",
              "      <th></th>\n",
              "      <th></th>\n",
              "      <th></th>\n",
              "      <th></th>\n",
              "      <th></th>\n",
              "      <th></th>\n",
              "      <th></th>\n",
              "      <th></th>\n",
              "      <th></th>\n",
              "      <th></th>\n",
              "      <th></th>\n",
              "      <th></th>\n",
              "      <th></th>\n",
              "      <th></th>\n",
              "      <th></th>\n",
              "      <th></th>\n",
              "      <th></th>\n",
              "      <th></th>\n",
              "      <th></th>\n",
              "      <th></th>\n",
              "      <th></th>\n",
              "      <th></th>\n",
              "      <th></th>\n",
              "      <th></th>\n",
              "      <th></th>\n",
              "      <th></th>\n",
              "      <th></th>\n",
              "      <th></th>\n",
              "      <th></th>\n",
              "      <th></th>\n",
              "      <th></th>\n",
              "      <th></th>\n",
              "      <th></th>\n",
              "    </tr>\n",
              "  </thead>\n",
              "  <tbody>\n",
              "    <tr>\n",
              "      <th>1276</th>\n",
              "      <td>0.0</td>\n",
              "      <td>3.0</td>\n",
              "      <td>1.0</td>\n",
              "      <td>0.0</td>\n",
              "      <td>6.5167</td>\n",
              "      <td>1.1198</td>\n",
              "      <td>0.0</td>\n",
              "      <td>2.172233</td>\n",
              "      <td>1.1198</td>\n",
              "      <td>0.0</td>\n",
              "      <td>2.6774</td>\n",
              "      <td>1.1198</td>\n",
              "      <td>0.0</td>\n",
              "      <td>0.0</td>\n",
              "      <td>0.0</td>\n",
              "      <td>0.0000</td>\n",
              "      <td>0.0000</td>\n",
              "      <td>0.0000</td>\n",
              "      <td>0.000000</td>\n",
              "      <td>0.00000</td>\n",
              "      <td>0.00000</td>\n",
              "      <td>0.0000</td>\n",
              "      <td>0.0000</td>\n",
              "      <td>0.0000</td>\n",
              "      <td>0</td>\n",
              "      <td>0</td>\n",
              "      <td>0</td>\n",
              "      <td>0.0</td>\n",
              "      <td>0.0000</td>\n",
              "      <td>0.0</td>\n",
              "      <td>0.0</td>\n",
              "      <td>0.0000</td>\n",
              "      <td>0.0</td>\n",
              "      <td>0.0</td>\n",
              "      <td>0.000</td>\n",
              "      <td>0.0</td>\n",
              "      <td>0</td>\n",
              "      <td>0</td>\n",
              "      <td>0</td>\n",
              "      <td>0.0</td>\n",
              "      <td>...</td>\n",
              "      <td>0.00000</td>\n",
              "      <td>0.0000</td>\n",
              "      <td>0.0000</td>\n",
              "      <td>0.0000</td>\n",
              "      <td>0.0</td>\n",
              "      <td>0.0000</td>\n",
              "      <td>0.0</td>\n",
              "      <td>0.0</td>\n",
              "      <td>0.0000</td>\n",
              "      <td>0.0</td>\n",
              "      <td>0.0</td>\n",
              "      <td>0.000</td>\n",
              "      <td>0.0</td>\n",
              "      <td>0.0</td>\n",
              "      <td>0.0</td>\n",
              "      <td>0.0</td>\n",
              "      <td>0.0</td>\n",
              "      <td>0.0</td>\n",
              "      <td>0.0</td>\n",
              "      <td>0.0</td>\n",
              "      <td>0.0</td>\n",
              "      <td>0.0</td>\n",
              "      <td>0.0</td>\n",
              "      <td>0.0000</td>\n",
              "      <td>0.0000</td>\n",
              "      <td>0.0</td>\n",
              "      <td>0.000000</td>\n",
              "      <td>0.00000</td>\n",
              "      <td>0.0</td>\n",
              "      <td>0.0000</td>\n",
              "      <td>0.0000</td>\n",
              "      <td>0.0</td>\n",
              "      <td>0.0</td>\n",
              "      <td>0.0</td>\n",
              "      <td>0.0</td>\n",
              "      <td>0.0</td>\n",
              "      <td>0.0</td>\n",
              "      <td>0.0</td>\n",
              "      <td>0.0</td>\n",
              "      <td>0.0</td>\n",
              "    </tr>\n",
              "    <tr>\n",
              "      <th>14525</th>\n",
              "      <td>0.0</td>\n",
              "      <td>0.0</td>\n",
              "      <td>0.0</td>\n",
              "      <td>0.0</td>\n",
              "      <td>0.0000</td>\n",
              "      <td>0.0000</td>\n",
              "      <td>0.0</td>\n",
              "      <td>0.000000</td>\n",
              "      <td>0.0000</td>\n",
              "      <td>0.0</td>\n",
              "      <td>0.0000</td>\n",
              "      <td>0.0000</td>\n",
              "      <td>2.0</td>\n",
              "      <td>29.0</td>\n",
              "      <td>15.0</td>\n",
              "      <td>14.2774</td>\n",
              "      <td>271.9272</td>\n",
              "      <td>143.1102</td>\n",
              "      <td>7.138700</td>\n",
              "      <td>9.37680</td>\n",
              "      <td>9.54068</td>\n",
              "      <td>7.4721</td>\n",
              "      <td>44.5911</td>\n",
              "      <td>48.3925</td>\n",
              "      <td>0</td>\n",
              "      <td>0</td>\n",
              "      <td>0</td>\n",
              "      <td>0.0</td>\n",
              "      <td>0.0000</td>\n",
              "      <td>0.0</td>\n",
              "      <td>0.0</td>\n",
              "      <td>0.0000</td>\n",
              "      <td>0.0</td>\n",
              "      <td>0.0</td>\n",
              "      <td>0.000</td>\n",
              "      <td>0.0</td>\n",
              "      <td>0</td>\n",
              "      <td>0</td>\n",
              "      <td>0</td>\n",
              "      <td>0.0</td>\n",
              "      <td>...</td>\n",
              "      <td>9.54068</td>\n",
              "      <td>7.4721</td>\n",
              "      <td>44.5911</td>\n",
              "      <td>48.3925</td>\n",
              "      <td>0.0</td>\n",
              "      <td>0.0000</td>\n",
              "      <td>0.0</td>\n",
              "      <td>0.0</td>\n",
              "      <td>0.0000</td>\n",
              "      <td>0.0</td>\n",
              "      <td>0.0</td>\n",
              "      <td>0.000</td>\n",
              "      <td>0.0</td>\n",
              "      <td>0.0</td>\n",
              "      <td>0.0</td>\n",
              "      <td>0.0</td>\n",
              "      <td>0.0</td>\n",
              "      <td>0.0</td>\n",
              "      <td>0.0</td>\n",
              "      <td>0.0</td>\n",
              "      <td>0.0</td>\n",
              "      <td>0.0</td>\n",
              "      <td>0.0</td>\n",
              "      <td>0.0000</td>\n",
              "      <td>0.0000</td>\n",
              "      <td>0.0</td>\n",
              "      <td>0.000000</td>\n",
              "      <td>0.00000</td>\n",
              "      <td>0.0</td>\n",
              "      <td>0.0000</td>\n",
              "      <td>0.0000</td>\n",
              "      <td>0.0</td>\n",
              "      <td>0.0</td>\n",
              "      <td>0.0</td>\n",
              "      <td>0.0</td>\n",
              "      <td>0.0</td>\n",
              "      <td>0.0</td>\n",
              "      <td>0.0</td>\n",
              "      <td>0.0</td>\n",
              "      <td>0.0</td>\n",
              "    </tr>\n",
              "    <tr>\n",
              "      <th>21230</th>\n",
              "      <td>0.0</td>\n",
              "      <td>0.0</td>\n",
              "      <td>0.0</td>\n",
              "      <td>0.0</td>\n",
              "      <td>0.0000</td>\n",
              "      <td>0.0000</td>\n",
              "      <td>0.0</td>\n",
              "      <td>0.000000</td>\n",
              "      <td>0.0000</td>\n",
              "      <td>0.0</td>\n",
              "      <td>0.0000</td>\n",
              "      <td>0.0000</td>\n",
              "      <td>0.0</td>\n",
              "      <td>0.0</td>\n",
              "      <td>0.0</td>\n",
              "      <td>0.0000</td>\n",
              "      <td>0.0000</td>\n",
              "      <td>0.0000</td>\n",
              "      <td>0.000000</td>\n",
              "      <td>0.00000</td>\n",
              "      <td>0.00000</td>\n",
              "      <td>0.0000</td>\n",
              "      <td>0.0000</td>\n",
              "      <td>0.0000</td>\n",
              "      <td>0</td>\n",
              "      <td>0</td>\n",
              "      <td>0</td>\n",
              "      <td>0.0</td>\n",
              "      <td>0.0000</td>\n",
              "      <td>0.0</td>\n",
              "      <td>0.0</td>\n",
              "      <td>0.0000</td>\n",
              "      <td>0.0</td>\n",
              "      <td>0.0</td>\n",
              "      <td>0.000</td>\n",
              "      <td>0.0</td>\n",
              "      <td>0</td>\n",
              "      <td>0</td>\n",
              "      <td>0</td>\n",
              "      <td>0.0</td>\n",
              "      <td>...</td>\n",
              "      <td>0.00000</td>\n",
              "      <td>0.0000</td>\n",
              "      <td>0.0000</td>\n",
              "      <td>0.0000</td>\n",
              "      <td>0.0</td>\n",
              "      <td>0.0000</td>\n",
              "      <td>0.0</td>\n",
              "      <td>0.0</td>\n",
              "      <td>0.0000</td>\n",
              "      <td>0.0</td>\n",
              "      <td>0.0</td>\n",
              "      <td>0.000</td>\n",
              "      <td>0.0</td>\n",
              "      <td>0.0</td>\n",
              "      <td>0.0</td>\n",
              "      <td>0.0</td>\n",
              "      <td>0.0</td>\n",
              "      <td>0.0</td>\n",
              "      <td>0.0</td>\n",
              "      <td>0.0</td>\n",
              "      <td>0.0</td>\n",
              "      <td>0.0</td>\n",
              "      <td>0.0</td>\n",
              "      <td>0.0000</td>\n",
              "      <td>4.4198</td>\n",
              "      <td>0.0</td>\n",
              "      <td>0.000000</td>\n",
              "      <td>4.41980</td>\n",
              "      <td>0.0</td>\n",
              "      <td>0.0000</td>\n",
              "      <td>4.4198</td>\n",
              "      <td>0.0</td>\n",
              "      <td>0.0</td>\n",
              "      <td>0.0</td>\n",
              "      <td>0.0</td>\n",
              "      <td>0.0</td>\n",
              "      <td>0.0</td>\n",
              "      <td>0.0</td>\n",
              "      <td>0.0</td>\n",
              "      <td>0.0</td>\n",
              "    </tr>\n",
              "    <tr>\n",
              "      <th>22083</th>\n",
              "      <td>0.0</td>\n",
              "      <td>0.0</td>\n",
              "      <td>0.0</td>\n",
              "      <td>0.0</td>\n",
              "      <td>0.0000</td>\n",
              "      <td>0.0000</td>\n",
              "      <td>0.0</td>\n",
              "      <td>0.000000</td>\n",
              "      <td>0.0000</td>\n",
              "      <td>0.0</td>\n",
              "      <td>0.0000</td>\n",
              "      <td>0.0000</td>\n",
              "      <td>3.0</td>\n",
              "      <td>6.0</td>\n",
              "      <td>3.0</td>\n",
              "      <td>69.0491</td>\n",
              "      <td>52.1865</td>\n",
              "      <td>53.9070</td>\n",
              "      <td>23.016367</td>\n",
              "      <td>5.21865</td>\n",
              "      <td>10.78140</td>\n",
              "      <td>36.0177</td>\n",
              "      <td>15.1248</td>\n",
              "      <td>28.1215</td>\n",
              "      <td>0</td>\n",
              "      <td>0</td>\n",
              "      <td>0</td>\n",
              "      <td>0.0</td>\n",
              "      <td>0.0000</td>\n",
              "      <td>0.0</td>\n",
              "      <td>0.0</td>\n",
              "      <td>0.0000</td>\n",
              "      <td>0.0</td>\n",
              "      <td>0.0</td>\n",
              "      <td>0.000</td>\n",
              "      <td>0.0</td>\n",
              "      <td>0</td>\n",
              "      <td>0</td>\n",
              "      <td>0</td>\n",
              "      <td>0.0</td>\n",
              "      <td>...</td>\n",
              "      <td>10.78140</td>\n",
              "      <td>36.0177</td>\n",
              "      <td>15.1248</td>\n",
              "      <td>28.1215</td>\n",
              "      <td>0.0</td>\n",
              "      <td>0.0000</td>\n",
              "      <td>0.0</td>\n",
              "      <td>0.0</td>\n",
              "      <td>0.0000</td>\n",
              "      <td>0.0</td>\n",
              "      <td>0.0</td>\n",
              "      <td>0.000</td>\n",
              "      <td>0.0</td>\n",
              "      <td>0.0</td>\n",
              "      <td>0.0</td>\n",
              "      <td>0.0</td>\n",
              "      <td>0.0</td>\n",
              "      <td>0.0</td>\n",
              "      <td>0.0</td>\n",
              "      <td>0.0</td>\n",
              "      <td>0.0</td>\n",
              "      <td>0.0</td>\n",
              "      <td>0.0</td>\n",
              "      <td>13.5931</td>\n",
              "      <td>7.8679</td>\n",
              "      <td>0.0</td>\n",
              "      <td>1.359310</td>\n",
              "      <td>1.57358</td>\n",
              "      <td>0.0</td>\n",
              "      <td>5.9270</td>\n",
              "      <td>4.5485</td>\n",
              "      <td>0.0</td>\n",
              "      <td>0.0</td>\n",
              "      <td>0.0</td>\n",
              "      <td>0.0</td>\n",
              "      <td>0.0</td>\n",
              "      <td>0.0</td>\n",
              "      <td>0.0</td>\n",
              "      <td>0.0</td>\n",
              "      <td>0.0</td>\n",
              "    </tr>\n",
              "    <tr>\n",
              "      <th>23513</th>\n",
              "      <td>0.0</td>\n",
              "      <td>0.0</td>\n",
              "      <td>1.0</td>\n",
              "      <td>0.0</td>\n",
              "      <td>0.0000</td>\n",
              "      <td>0.4459</td>\n",
              "      <td>0.0</td>\n",
              "      <td>0.000000</td>\n",
              "      <td>0.4459</td>\n",
              "      <td>0.0</td>\n",
              "      <td>0.0000</td>\n",
              "      <td>0.4459</td>\n",
              "      <td>0.0</td>\n",
              "      <td>0.0</td>\n",
              "      <td>0.0</td>\n",
              "      <td>0.0000</td>\n",
              "      <td>0.0000</td>\n",
              "      <td>0.0000</td>\n",
              "      <td>0.000000</td>\n",
              "      <td>0.00000</td>\n",
              "      <td>0.00000</td>\n",
              "      <td>0.0000</td>\n",
              "      <td>0.0000</td>\n",
              "      <td>0.0000</td>\n",
              "      <td>0</td>\n",
              "      <td>2</td>\n",
              "      <td>0</td>\n",
              "      <td>0.0</td>\n",
              "      <td>11.2077</td>\n",
              "      <td>0.0</td>\n",
              "      <td>0.0</td>\n",
              "      <td>1.2453</td>\n",
              "      <td>0.0</td>\n",
              "      <td>0.0</td>\n",
              "      <td>11.043</td>\n",
              "      <td>0.0</td>\n",
              "      <td>0</td>\n",
              "      <td>0</td>\n",
              "      <td>0</td>\n",
              "      <td>0.0</td>\n",
              "      <td>...</td>\n",
              "      <td>0.00000</td>\n",
              "      <td>0.0000</td>\n",
              "      <td>0.0000</td>\n",
              "      <td>0.0000</td>\n",
              "      <td>0.0</td>\n",
              "      <td>11.2077</td>\n",
              "      <td>0.0</td>\n",
              "      <td>0.0</td>\n",
              "      <td>1.2453</td>\n",
              "      <td>0.0</td>\n",
              "      <td>0.0</td>\n",
              "      <td>11.043</td>\n",
              "      <td>0.0</td>\n",
              "      <td>0.0</td>\n",
              "      <td>0.0</td>\n",
              "      <td>0.0</td>\n",
              "      <td>0.0</td>\n",
              "      <td>0.0</td>\n",
              "      <td>0.0</td>\n",
              "      <td>0.0</td>\n",
              "      <td>0.0</td>\n",
              "      <td>0.0</td>\n",
              "      <td>0.0</td>\n",
              "      <td>19.4609</td>\n",
              "      <td>0.0000</td>\n",
              "      <td>0.0</td>\n",
              "      <td>2.162322</td>\n",
              "      <td>0.00000</td>\n",
              "      <td>0.0</td>\n",
              "      <td>5.0239</td>\n",
              "      <td>0.0000</td>\n",
              "      <td>0.0</td>\n",
              "      <td>0.0</td>\n",
              "      <td>0.0</td>\n",
              "      <td>0.0</td>\n",
              "      <td>0.0</td>\n",
              "      <td>0.0</td>\n",
              "      <td>0.0</td>\n",
              "      <td>0.0</td>\n",
              "      <td>0.0</td>\n",
              "    </tr>\n",
              "  </tbody>\n",
              "</table>\n",
              "<p>5 rows × 126 columns</p>\n",
              "</div>"
            ],
            "text/plain": [
              "                 segment_cellphone_recharge_total_MES_1  ...  discount_segment_utilities_max_MES_7\n",
              "CUS_CUST_ID_BUY                                          ...                                      \n",
              "1276                                                0.0  ...                                   0.0\n",
              "14525                                               0.0  ...                                   0.0\n",
              "21230                                               0.0  ...                                   0.0\n",
              "22083                                               0.0  ...                                   0.0\n",
              "23513                                               0.0  ...                                   0.0\n",
              "\n",
              "[5 rows x 126 columns]"
            ]
          },
          "metadata": {
            "tags": []
          },
          "execution_count": 16
        }
      ]
    },
    {
      "cell_type": "code",
      "metadata": {
        "id": "GxS8IRmlU_Kx",
        "outputId": "e7a65bbe-21da-45be-fe24-e4b4d855acca",
        "colab": {
          "base_uri": "https://localhost:8080/",
          "height": 204
        }
      },
      "source": [
        "# Agrupo por usuario para obtener la suma, promedio y conteo total de spent y descuento\n",
        "\n",
        "payments_group_spent = payments.groupby('CUS_CUST_ID_BUY', as_index = False).agg({'SPENT':['sum','mean','count'], 'DESCUENTO':['sum','mean']},)\n",
        "payments_group_spent.columns = ['_'.join(col).strip() for col in payments_group_spent.columns.values]\n",
        "payments_group_spent.rename(columns = {'CUS_CUST_ID_BUY_':'CUS_CUST_ID_BUY'}, inplace = True)        \n",
        "payments_group_spent .head()                                                          "
      ],
      "execution_count": 17,
      "outputs": [
        {
          "output_type": "execute_result",
          "data": {
            "text/html": [
              "<div>\n",
              "<style scoped>\n",
              "    .dataframe tbody tr th:only-of-type {\n",
              "        vertical-align: middle;\n",
              "    }\n",
              "\n",
              "    .dataframe tbody tr th {\n",
              "        vertical-align: top;\n",
              "    }\n",
              "\n",
              "    .dataframe thead th {\n",
              "        text-align: right;\n",
              "    }\n",
              "</style>\n",
              "<table border=\"1\" class=\"dataframe\">\n",
              "  <thead>\n",
              "    <tr style=\"text-align: right;\">\n",
              "      <th></th>\n",
              "      <th>CUS_CUST_ID_BUY</th>\n",
              "      <th>SPENT_sum</th>\n",
              "      <th>SPENT_mean</th>\n",
              "      <th>SPENT_count</th>\n",
              "      <th>DESCUENTO_sum</th>\n",
              "      <th>DESCUENTO_mean</th>\n",
              "    </tr>\n",
              "  </thead>\n",
              "  <tbody>\n",
              "    <tr>\n",
              "      <th>0</th>\n",
              "      <td>1276</td>\n",
              "      <td>7.6365</td>\n",
              "      <td>1.909125</td>\n",
              "      <td>4</td>\n",
              "      <td>0.0000</td>\n",
              "      <td>0.000000</td>\n",
              "    </tr>\n",
              "    <tr>\n",
              "      <th>1</th>\n",
              "      <td>14525</td>\n",
              "      <td>429.3148</td>\n",
              "      <td>9.332930</td>\n",
              "      <td>46</td>\n",
              "      <td>18.6575</td>\n",
              "      <td>0.405598</td>\n",
              "    </tr>\n",
              "    <tr>\n",
              "      <th>2</th>\n",
              "      <td>21230</td>\n",
              "      <td>4.4198</td>\n",
              "      <td>4.419800</td>\n",
              "      <td>1</td>\n",
              "      <td>2.2099</td>\n",
              "      <td>2.209900</td>\n",
              "    </tr>\n",
              "    <tr>\n",
              "      <th>3</th>\n",
              "      <td>22083</td>\n",
              "      <td>196.6036</td>\n",
              "      <td>10.922422</td>\n",
              "      <td>18</td>\n",
              "      <td>14.9465</td>\n",
              "      <td>0.830361</td>\n",
              "    </tr>\n",
              "    <tr>\n",
              "      <th>4</th>\n",
              "      <td>23513</td>\n",
              "      <td>31.1145</td>\n",
              "      <td>3.111450</td>\n",
              "      <td>10</td>\n",
              "      <td>0.0000</td>\n",
              "      <td>0.000000</td>\n",
              "    </tr>\n",
              "  </tbody>\n",
              "</table>\n",
              "</div>"
            ],
            "text/plain": [
              "   CUS_CUST_ID_BUY  SPENT_sum  ...  DESCUENTO_sum  DESCUENTO_mean\n",
              "0             1276     7.6365  ...         0.0000        0.000000\n",
              "1            14525   429.3148  ...        18.6575        0.405598\n",
              "2            21230     4.4198  ...         2.2099        2.209900\n",
              "3            22083   196.6036  ...        14.9465        0.830361\n",
              "4            23513    31.1145  ...         0.0000        0.000000\n",
              "\n",
              "[5 rows x 6 columns]"
            ]
          },
          "metadata": {
            "tags": []
          },
          "execution_count": 17
        }
      ]
    },
    {
      "cell_type": "code",
      "metadata": {
        "id": "30xeT29SU_K0"
      },
      "source": [
        "# Final payments data\n",
        "final_payments = pd.merge(payments_group_spent, payments_group_date, on = 'CUS_CUST_ID_BUY', how = 'left')\n",
        "\n",
        "# Join con active users para entender su actividad en las apps\n",
        "final_payments = pd.merge(final_payments, active_users, on = 'CUS_CUST_ID_BUY', how = 'left')\n",
        "\n",
        "# Join con demograficos para obtener datos de los usuarios\n",
        "final_payments = pd.merge(final_payments, demograficos, on = 'CUS_CUST_ID_BUY', how = 'left')\n",
        "\n",
        "# Join con dinero cuenta para ver los movimientos de los usuarios\n",
        "final_payments = pd.merge(final_payments, dinero_cuenta, on = 'CUS_CUST_ID_BUY', how = 'left')\n",
        "\n",
        "# Join con marketplace data para ver actividad de los usuarios\n",
        "final_payments = pd.merge(final_payments, marketplace_data, on = 'CUS_CUST_ID_BUY', how = 'left')"
      ],
      "execution_count": 18,
      "outputs": []
    },
    {
      "cell_type": "code",
      "metadata": {
        "id": "VMo27j5fjJkw"
      },
      "source": [
        "# Las features correspondientes a fechas están como objetos asi que se cambian\n",
        "final_payments['last_login_mp_date_1'] = [datetime.datetime.strptime(x, '%Y-%m-%d') if type(x) != float else x for x in final_payments['last_login_mp_date_1']]\n",
        "final_payments['last_login_ml_date_1'] = [datetime.datetime.strptime(x, '%Y-%m-%d') if type(x) != float else x for x in final_payments['last_login_ml_date_1']]\n",
        "final_payments['RECENCY_ML'] = [datetime.datetime.strptime(x, '%Y-%m-%d') if type(x) != float else x for x in final_payments['RECENCY_ML']]"
      ],
      "execution_count": 19,
      "outputs": []
    },
    {
      "cell_type": "markdown",
      "metadata": {
        "id": "yFZE6oVo042Z"
      },
      "source": [
        "# Exploración de datos tipo *object*"
      ]
    },
    {
      "cell_type": "code",
      "metadata": {
        "id": "tKfFsubvthLO",
        "outputId": "257b73e3-5eb5-430a-fc6b-42589c74f22f",
        "colab": {
          "base_uri": "https://localhost:8080/"
        }
      },
      "source": [
        "# Numero de valores nulos para cada uno de los atributos\n",
        "final_payments.select_dtypes(include = 'object').isna().sum()"
      ],
      "execution_count": 20,
      "outputs": [
        {
          "output_type": "execute_result",
          "data": {
            "text/plain": [
              "CITY          14791\n",
              "GENDER        13036\n",
              "RANGO_EDAD    13036\n",
              "TARJETAS      13036\n",
              "ESTADO        13036\n",
              "INVERSION      2866\n",
              "dtype: int64"
            ]
          },
          "metadata": {
            "tags": []
          },
          "execution_count": 20
        }
      ]
    },
    {
      "cell_type": "code",
      "metadata": {
        "id": "bNtZcjcp4Duk",
        "outputId": "b2fe0a9f-b54b-4fd8-f28c-f6cc63b1b52d",
        "colab": {
          "base_uri": "https://localhost:8080/"
        }
      },
      "source": [
        "# El atributo CITY es mucho más granular que el atributo ESTADO el cual tiene la información a nivel \n",
        "# provincia, lo cual es mucho más manejable. Por este motivo se decide eliminar el feature CITY\n",
        "\n",
        "print('Cantidad de ciudades unicas: {}'.format(len(final_payments.CITY.unique())))\n",
        "print('Cantidad de estados unicos: {}'.format(len(final_payments.ESTADO.unique())))"
      ],
      "execution_count": 21,
      "outputs": [
        {
          "output_type": "stream",
          "text": [
            "Cantidad de ciudades unicas: 3156\n",
            "Cantidad de estados unicos: 33\n"
          ],
          "name": "stdout"
        }
      ]
    },
    {
      "cell_type": "code",
      "metadata": {
        "id": "ZvzOmCji1uwU"
      },
      "source": [
        "# Dropeo el feature CITY\n",
        "final_payments.drop(columns = 'CITY', axis = 1, inplace = True)"
      ],
      "execution_count": 22,
      "outputs": []
    },
    {
      "cell_type": "code",
      "metadata": {
        "id": "TjonGvKC4vB4",
        "outputId": "e2b20680-2240-4d9e-fd5a-7192f6abf471",
        "colab": {
          "base_uri": "https://localhost:8080/"
        }
      },
      "source": [
        "final_payments.select_dtypes(include = 'object').isna().sum()/len(final_payments)"
      ],
      "execution_count": 23,
      "outputs": [
        {
          "output_type": "execute_result",
          "data": {
            "text/plain": [
              "GENDER        0.299664\n",
              "RANGO_EDAD    0.299664\n",
              "TARJETAS      0.299664\n",
              "ESTADO        0.299664\n",
              "INVERSION     0.065882\n",
              "dtype: float64"
            ]
          },
          "metadata": {
            "tags": []
          },
          "execution_count": 23
        }
      ]
    },
    {
      "cell_type": "code",
      "metadata": {
        "id": "MLO_cO284pGN",
        "outputId": "458d5419-b150-4a77-a012-7aa4f775da6d",
        "colab": {
          "base_uri": "https://localhost:8080/"
        }
      },
      "source": [
        "# Valores en las features\n",
        "print('Valores en GENDER')\n",
        "print(final_payments.GENDER.value_counts())\n",
        "print('')\n",
        "\n",
        "print('Valores en RANGO EDAD')\n",
        "print(final_payments.RANGO_EDAD.value_counts())\n",
        "print('')\n",
        "\n",
        "print('Valores en TARJETAS')\n",
        "print(final_payments.TARJETAS.value_counts())\n",
        "print('')\n",
        "\n",
        "print('Valores en INVERSION')\n",
        "print(final_payments.INVERSION.value_counts())\n",
        "print('')"
      ],
      "execution_count": 24,
      "outputs": [
        {
          "output_type": "stream",
          "text": [
            "Valores en GENDER\n",
            "male       15914\n",
            "female     12769\n",
            "Unknown     1783\n",
            "Name: GENDER, dtype: int64\n",
            "\n",
            "Valores en RANGO EDAD\n",
            "06.Entre 41 y 55 años    6822\n",
            "04.Entre 31 y 35 años    5155\n",
            "03.Entre 26 y 30 años    5072\n",
            "05.Entre 36 y 40 años    4331\n",
            "02.Entre 18 y 25 años    4246\n",
            "00. Sin Dato             2700\n",
            "07.Entre 56 y 65 años    1545\n",
            "08.Mayor de 65 años       541\n",
            "01.Menor de 18 años        54\n",
            "Name: RANGO_EDAD, dtype: int64\n",
            "\n",
            "Valores en TARJETAS\n",
            "Credit Card         14308\n",
            "Account Money        7717\n",
            "Debit Card           7440\n",
            "Ticket                945\n",
            "Bank Transfer          20\n",
            "digital_currency       19\n",
            "ATM                    17\n",
            "Name: TARJETAS, dtype: int64\n",
            "\n",
            "Valores en INVERSION\n",
            "eligible           18101\n",
            "warmup              9933\n",
            "pending             5611\n",
            "investing           5591\n",
            "non_eligible         964\n",
            "disabled             236\n",
            "disable_pending      117\n",
            "rejected              53\n",
            "banned                30\n",
            "Name: INVERSION, dtype: int64\n",
            "\n"
          ],
          "name": "stdout"
        }
      ]
    },
    {
      "cell_type": "code",
      "metadata": {
        "id": "g1trcQHm8rcp"
      },
      "source": [
        "# Imputacion de valores nulos en GENDER y RANGO EDAD:\n",
        "# Al existir una categoria que agrupa aquellos usuarios de los cuales no se\n",
        "# tiene informacion, se imputa esta categoria a los valores nulos\n",
        "final_payments['GENDER'].fillna('Unknown', inplace = True)\n",
        "final_payments['RANGO_EDAD'].fillna('00. Sin Dato', inplace = True)\n",
        "\n",
        "# Para los valores nulos de ESTADO se toma una idea similar y se imputa un valor\n",
        "# 'Desconocido' ya que no hay forma de imputar adecuadamente este valor.\n",
        "# Quizá si los valores de 'CITY' estuviesen completos podría inferirse, pero\n",
        "# no es el caso\n",
        "final_payments['ESTADO'].fillna('Unknown', inplace = True)\n",
        "\n",
        "# Para los datos de tarjeta, la tabla de origen no tiene valores nulos, con lo cual\n",
        "# se imputan los valores nulos en el dataset final con un unknown\n",
        "final_payments['TARJETAS'].fillna('Unknown', inplace = True)"
      ],
      "execution_count": 25,
      "outputs": []
    },
    {
      "cell_type": "code",
      "metadata": {
        "id": "eIll-U-MvFSy",
        "outputId": "e44a7840-01dc-42b5-f9bf-be233317e70f",
        "colab": {
          "base_uri": "https://localhost:8080/",
          "height": 798
        }
      },
      "source": [
        "# Para imputar los valores nulos en la actividad en las plataformas es importante\n",
        "# entender la distribución de los valores\n",
        "# Al principio, pensaba que no era posible tener valores iguales a 0 (sin actividad)\n",
        "# pero que hubiese compras. Sin embargo, se vieron resultados donde era posible.\n",
        "# Se observa la distribucion de las variables para entender que valor conviene imputar\n",
        "fig, ax = plt.subplots(nrows = 2, ncols = 3, figsize = (15,10))\n",
        "\n",
        "ax[0,0].hist(active_users['MAU_MP_1'], bins = 30)\n",
        "ax[0,1].hist(active_users['MAU_MP_2'], bins = 30)\n",
        "ax[0,2].hist(active_users['MAU_MP_3'], bins = 30)\n",
        "ax[1,0].hist(active_users['MAU_ML_1'], bins = 30)\n",
        "ax[1,1].hist(active_users['MAU_ML_2'], bins = 30)\n",
        "ax[1,2].hist(active_users['MAU_ML_3'], bins = 30)"
      ],
      "execution_count": 26,
      "outputs": [
        {
          "output_type": "execute_result",
          "data": {
            "text/plain": [
              "(array([8943., 1019., 1038., 1056., 1041., 1095., 1031., 1002.,  946.,\n",
              "         988., 1010.,  941.,  849.,  845.,  895.,  871.,  764.,  775.,\n",
              "         758.,  710.,  696.,  694.,  640.,  622.,  614.,  574.,  565.,\n",
              "         494.,  520., 1020.]),\n",
              " array([ 0.        ,  1.03333333,  2.06666667,  3.1       ,  4.13333333,\n",
              "         5.16666667,  6.2       ,  7.23333333,  8.26666667,  9.3       ,\n",
              "        10.33333333, 11.36666667, 12.4       , 13.43333333, 14.46666667,\n",
              "        15.5       , 16.53333333, 17.56666667, 18.6       , 19.63333333,\n",
              "        20.66666667, 21.7       , 22.73333333, 23.76666667, 24.8       ,\n",
              "        25.83333333, 26.86666667, 27.9       , 28.93333333, 29.96666667,\n",
              "        31.        ]),\n",
              " <a list of 30 Patch objects>)"
            ]
          },
          "metadata": {
            "tags": []
          },
          "execution_count": 26
        },
        {
          "output_type": "display_data",
          "data": {
            "image/png": "[encoded data removed]",
            "text/plain": [
              "<Figure size 1080x720 with 6 Axes>"
            ]
          },
          "metadata": {
            "tags": [],
            "needs_background": "light"
          }
        }
      ]
    },
    {
      "cell_type": "code",
      "metadata": {
        "id": "dmzsh6Qj_toa"
      },
      "source": [
        "# Imputo los valores nulos de la cantidad de veces que se ingreso en las plataformas a 0\n",
        "final_payments['MAU_ML_1'].fillna(0, inplace = True)\n",
        "final_payments['MAU_ML_2'].fillna(0, inplace = True)\n",
        "final_payments['MAU_ML_3'].fillna(0, inplace = True)\n",
        "final_payments['MAU_MP_1'].fillna(0, inplace = True)\n",
        "final_payments['MAU_MP_2'].fillna(0, inplace = True)\n",
        "final_payments['MAU_MP_3'].fillna(0, inplace = True)"
      ],
      "execution_count": 27,
      "outputs": []
    },
    {
      "cell_type": "code",
      "metadata": {
        "id": "qf_tpvAQsse8"
      },
      "source": [
        "# El dataset de PLATA_EN_CUENTA no contiene datos nulos en los features\n",
        "# de PLATA_CUENTA_1 y 2. Pero tiene usuarios faltantes, lo que lleva a suponer\n",
        "# que no tienen datos de los mismos. Por lo tanto, se imputaran los valores \n",
        "# nulos del dataset final con valores negativos en lo que es plata en cuenta\n",
        "# y en condicion de inversion se colocara 'Unknown'\n",
        "final_payments['PLATA_CUENTA_1'].fillna(-1, inplace = True)\n",
        "final_payments['PLATA_CUENTA_2'].fillna(-1, inplace = True)\n",
        "final_payments['INVERSION'].fillna('Unknown', inplace = True)"
      ],
      "execution_count": 28,
      "outputs": []
    },
    {
      "cell_type": "code",
      "metadata": {
        "id": "gL3xDkeV2etZ"
      },
      "source": [
        "# El dataset de marketplace no tiene datos nulos en los features por lo que \n",
        "# se imputan los valores en el dataset final con valores negativos\n",
        "\n",
        "final_payments['SPENT_ML'].fillna(-1, inplace = True)\n",
        "final_payments['RECENCY_ML'].fillna(datetime.datetime(1900,1,1), inplace = True)\n",
        "final_payments['FREQUENCY_ML'].fillna(-1, inplace = True)"
      ],
      "execution_count": 29,
      "outputs": []
    },
    {
      "cell_type": "code",
      "metadata": {
        "id": "Btq2s7Sq45FQ"
      },
      "source": [
        "# Para imputar los valores nulos del last login mp se crea una tabla alterna donde\n",
        "# se obtiene la ultima fecha de payment registrada y se coloca dicha fecha en los \n",
        "# valores nulos \n",
        "\n",
        "temp = payments.groupby('CUS_CUST_ID_BUY', as_index = False).agg({'FECHA':'max'})\n",
        "final_payments = pd.merge(final_payments, temp, on = 'CUS_CUST_ID_BUY', how = 'left')\n",
        "\n",
        "nan_users = final_payments[final_payments['last_login_mp_date_1'].isna()]['CUS_CUST_ID_BUY']\n",
        "for i in nan_users.index.tolist():\n",
        "  final_payments.loc[i, 'last_login_mp_date_1'] = final_payments.loc[i,'FECHA']\n",
        "\n",
        "final_payments.rename(columns = {'FECHA':'fecha_ultima_transaccion'}, inplace = True)\n",
        "final_payments['last_login_ml_date_1'].fillna(datetime.datetime(1900,1,1), inplace = True)"
      ],
      "execution_count": 30,
      "outputs": []
    },
    {
      "cell_type": "code",
      "metadata": {
        "id": "BaKsLDGrETN9"
      },
      "source": [
        "# Agrego la variable target\n",
        "final_payments = pd.merge(final_payments, evaluate, on = 'CUS_CUST_ID_BUY', how = 'left')"
      ],
      "execution_count": 31,
      "outputs": []
    },
    {
      "cell_type": "code",
      "metadata": {
        "id": "Iz14efaNHBIj",
        "outputId": "b2aa94c2-64c7-4000-b9d0-da0e900ca756",
        "colab": {
          "base_uri": "https://localhost:8080/",
          "height": 568
        }
      },
      "source": [
        "import seaborn as sns\n",
        "\n",
        "plt.figure(figsize = (10, 8))\n",
        "sns.countplot(final_payments['churn'])"
      ],
      "execution_count": 32,
      "outputs": [
        {
          "output_type": "stream",
          "text": [
            "/usr/local/lib/python3.7/dist-packages/seaborn/_decorators.py:43: FutureWarning: Pass the following variable as a keyword arg: x. From version 0.12, the only valid positional argument will be `data`, and passing other arguments without an explicit keyword will result in an error or misinterpretation.\n",
            "  FutureWarning\n"
          ],
          "name": "stderr"
        },
        {
          "output_type": "execute_result",
          "data": {
            "text/plain": [
              "<matplotlib.axes._subplots.AxesSubplot at 0x7f2a7f04ea90>"
            ]
          },
          "metadata": {
            "tags": []
          },
          "execution_count": 32
        },
        {
          "output_type": "display_data",
          "data": {
            "image/png": "[encoded data removed]",
            "text/plain": [
              "<Figure size 720x576 with 1 Axes>"
            ]
          },
          "metadata": {
            "tags": [],
            "needs_background": "light"
          }
        }
      ]
    },
    {
      "cell_type": "code",
      "metadata": {
        "id": "5YZe68PvHWYM"
      },
      "source": [
        "final_payments['dif_mp'] =  final_payments['last_login_mp_date_1'] - final_payments['fecha_ultima_transaccion']\n",
        "final_payments['dif_mp'] = [x.days for x in final_payments['dif_mp']]\n",
        "final_payments['dif_ml'] =  final_payments['last_login_ml_date_1'] - final_payments['RECENCY_ML']\n",
        "final_payments['dif_ml'] = [x.days for x in final_payments['dif_ml']]"
      ],
      "execution_count": 33,
      "outputs": []
    },
    {
      "cell_type": "code",
      "metadata": {
        "id": "b-T5WBjVPmsB"
      },
      "source": [
        "final_payments.drop(columns = ['last_login_mp_date_1','last_login_ml_date_1', \n",
        "                               'fecha_ultima_transaccion', 'RECENCY_ML'], axis = 1, inplace = True)"
      ],
      "execution_count": 34,
      "outputs": []
    },
    {
      "cell_type": "code",
      "metadata": {
        "id": "CnXB2yhJQNLf"
      },
      "source": [
        "from sklearn import preprocessing\n",
        "\n",
        "le_gender = preprocessing.LabelEncoder()\n",
        "le_rango_edad = preprocessing.LabelEncoder()\n",
        "le_tarjetas = preprocessing.LabelEncoder()\n",
        "le_estado = preprocessing.LabelEncoder()\n",
        "le_inversion = preprocessing.LabelEncoder()\n",
        "\n",
        "final_payments['GENDER'] = le_gender.fit_transform(final_payments['GENDER'])\n",
        "final_payments['RANGO_EDAD'] = le_rango_edad.fit_transform(final_payments['RANGO_EDAD'])\n",
        "final_payments['TARJETAS'] = le_tarjetas.fit_transform(final_payments['TARJETAS'])\n",
        "final_payments['ESTADO'] = le_estado.fit_transform(final_payments['ESTADO'])\n",
        "final_payments['INVERSION'] = le_inversion.fit_transform(final_payments['INVERSION'])"
      ],
      "execution_count": 35,
      "outputs": []
    },
    {
      "cell_type": "markdown",
      "metadata": {
        "id": "DzDwqFFvUJ1y"
      },
      "source": [
        "# Modeling"
      ]
    },
    {
      "cell_type": "code",
      "metadata": {
        "id": "HcTBl-4tQOOH"
      },
      "source": [
        "# Split train test \n",
        "from sklearn.model_selection import train_test_split\n",
        "X = final_payments.drop(columns = ['CUS_CUST_ID_BUY', 'churn'], axis = 1)\n",
        "y = final_payments['churn']\n",
        "\n",
        "X_train, X_test, y_train, y_test = train_test_split(X, y, test_size = 0.25, random_state=42)"
      ],
      "execution_count": 36,
      "outputs": []
    },
    {
      "cell_type": "code",
      "metadata": {
        "id": "ILjmtQ4ZRjo9"
      },
      "source": [
        "from sklearn.preprocessing import StandardScaler\n",
        "\n",
        "scaler = StandardScaler()\n",
        "\n",
        "X_train = scaler.fit_transform(X_train)\n",
        "X_test  = scaler.transform(X_test) "
      ],
      "execution_count": 37,
      "outputs": []
    },
    {
      "cell_type": "code",
      "metadata": {
        "id": "rfe3O-r7UF2u"
      },
      "source": [
        "from sklearn.linear_model import LogisticRegression\n",
        "from sklearn.ensemble import RandomForestClassifier\n",
        "from sklearn.tree import DecisionTreeClassifier\n",
        "from sklearn.ensemble import AdaBoostClassifier\n",
        "from sklearn.naive_bayes import MultinomialNB\n",
        "from sklearn.neighbors import KNeighborsClassifier\n",
        "from sklearn.svm import SVC\n",
        "from xgboost import XGBClassifier\n",
        "from sklearn.metrics import accuracy_score"
      ],
      "execution_count": 38,
      "outputs": []
    },
    {
      "cell_type": "code",
      "metadata": {
        "id": "HNjpii0kUVgO",
        "outputId": "2b555b3c-fc3c-4271-ee5a-21699313aa07",
        "colab": {
          "base_uri": "https://localhost:8080/"
        }
      },
      "source": [
        "# For Logistic Regression\n",
        "xgb = XGBClassifier()\n",
        "xgb.fit(X_train, y_train)\n",
        "\n",
        "pred_xgb = xgb.predict(X_test)\n",
        "print(\"Accuracy Score of XGBoost model is\", accuracy_score(y_test, pred_xgb)*100)"
      ],
      "execution_count": 39,
      "outputs": [
        {
          "output_type": "stream",
          "text": [
            "Accuracy Score of XGBoost model is 80.13056270687753\n"
          ],
          "name": "stdout"
        }
      ]
    },
    {
      "cell_type": "code",
      "metadata": {
        "id": "egTCZ7lSUlF9",
        "outputId": "95b0e2b9-f620-4005-a229-70e74237e9c2",
        "colab": {
          "base_uri": "https://localhost:8080/"
        }
      },
      "source": [
        "from sklearn.model_selection import cross_val_score\n",
        "\n",
        "xgb_scores = cross_val_score(xgb, X_train, y_train, cv = 10) # cross validating the model\n",
        "print(xgb_scores) # accuracy scores of each cross validation cycle\n",
        "print(f\"Mean of accuracy scores is for XGBoost is {xgb_scores.mean()*100}\\n\")"
      ],
      "execution_count": 40,
      "outputs": [
        {
          "output_type": "stream",
          "text": [
            "[0.80110328 0.79497395 0.79957095 0.79742568 0.80171621 0.80661968\n",
            " 0.79858982 0.79184549 0.80104231 0.81177192]\n",
            "Mean of accuracy scores is for XGBoost is 80.04659285792265\n",
            "\n"
          ],
          "name": "stdout"
        }
      ]
    },
    {
      "cell_type": "code",
      "metadata": {
        "id": "n-ALl6vPVIUx",
        "outputId": "f6a34973-e829-42af-9db8-08568b22baf0",
        "colab": {
          "base_uri": "https://localhost:8080/"
        }
      },
      "source": [
        "from sklearn.model_selection import GridSearchCV\n",
        "xgb = XGBClassifier()\n",
        "param = dict()\n",
        "param['criterion'] = ['gini', 'entropy']\n",
        "param['n_estimators'] = [1, 2, 4, 8, 10, 16, 32, 64, 100, 200]\n",
        "param['min_samples_split'] = [1,2,5,8,10,15,20,25,50,55,60,80,100]\n",
        "\n",
        "\n",
        "gs = GridSearchCV(estimator = xgb, param_grid = param, scoring='f1', cv = 5, n_jobs = 3)\n",
        "gs.fit(X_train, y_train)\n",
        "print(gs.best_score_)\n",
        "print(gs.best_params_)"
      ],
      "execution_count": 41,
      "outputs": [
        {
          "output_type": "stream",
          "text": [
            "0.8435310223152162\n",
            "{'criterion': 'gini', 'min_samples_split': 1, 'n_estimators': 200}\n"
          ],
          "name": "stdout"
        }
      ]
    },
    {
      "cell_type": "code",
      "metadata": {
        "id": "W0mNt-xYiiqQ",
        "outputId": "419bf8b0-02c0-4f8b-bfa0-9ec02cc2e29a",
        "colab": {
          "base_uri": "https://localhost:8080/"
        }
      },
      "source": [
        "xgb = XGBClassifier(criterion = 'gini', min_samples_split = 1, n_estimators = 200)\n",
        "xgb.fit(X_train, y_train)\n",
        "print(xgb.score(X_train, y_train))\n",
        "pred_xgb = xgb.predict(X_test)"
      ],
      "execution_count": 42,
      "outputs": [
        {
          "output_type": "stream",
          "text": [
            "0.8140440139765831\n"
          ],
          "name": "stdout"
        }
      ]
    },
    {
      "cell_type": "code",
      "metadata": {
        "id": "GYGnGZXb235R",
        "outputId": "28fd0080-b641-4a3f-d183-46dad55006ba",
        "colab": {
          "base_uri": "https://localhost:8080/"
        }
      },
      "source": [
        "pip install scikit-plot"
      ],
      "execution_count": 43,
      "outputs": [
        {
          "output_type": "stream",
          "text": [
            "Collecting scikit-plot\n",
            "  Downloading https://files.pythonhosted.org/packages/7c/47/32520e259340c140a4ad27c1b97050dd3254fdc517b1d59974d47037510e/scikit_plot-0.3.7-py3-none-any.whl\n",
            "Requirement already satisfied: joblib>=0.10 in /usr/local/lib/python3.7/dist-packages (from scikit-plot) (1.0.1)\n",
            "Requirement already satisfied: matplotlib>=1.4.0 in /usr/local/lib/python3.7/dist-packages (from scikit-plot) (3.2.2)\n",
            "Requirement already satisfied: scikit-learn>=0.18 in /usr/local/lib/python3.7/dist-packages (from scikit-plot) (0.22.2.post1)\n",
            "Requirement already satisfied: scipy>=0.9 in /usr/local/lib/python3.7/dist-packages (from scikit-plot) (1.4.1)\n",
            "Requirement already satisfied: cycler>=0.10 in /usr/local/lib/python3.7/dist-packages (from matplotlib>=1.4.0->scikit-plot) (0.10.0)\n",
            "Requirement already satisfied: python-dateutil>=2.1 in /usr/local/lib/python3.7/dist-packages (from matplotlib>=1.4.0->scikit-plot) (2.8.1)\n",
            "Requirement already satisfied: pyparsing!=2.0.4,!=2.1.2,!=2.1.6,>=2.0.1 in /usr/local/lib/python3.7/dist-packages (from matplotlib>=1.4.0->scikit-plot) (2.4.7)\n",
            "Requirement already satisfied: numpy>=1.11 in /usr/local/lib/python3.7/dist-packages (from matplotlib>=1.4.0->scikit-plot) (1.19.5)\n",
            "Requirement already satisfied: kiwisolver>=1.0.1 in /usr/local/lib/python3.7/dist-packages (from matplotlib>=1.4.0->scikit-plot) (1.3.1)\n",
            "Requirement already satisfied: six in /usr/local/lib/python3.7/dist-packages (from cycler>=0.10->matplotlib>=1.4.0->scikit-plot) (1.15.0)\n",
            "Installing collected packages: scikit-plot\n",
            "Successfully installed scikit-plot-0.3.7\n"
          ],
          "name": "stdout"
        }
      ]
    },
    {
      "cell_type": "code",
      "metadata": {
        "id": "aVAYGudv2eoY",
        "outputId": "96b9d61d-80fc-40e8-cb44-bd3f8cbc87d8",
        "colab": {
          "base_uri": "https://localhost:8080/",
          "height": 312
        }
      },
      "source": [
        "import scikitplot as skplt\n",
        "\n",
        "y_probas = xgb.predict_proba(X_test)\n",
        "skplt.metrics.plot_roc(y_test, y_probas)\n",
        "plt.title(\"Recevier's Operating Characteristic\")\n",
        "plt.xlabel(\"False Positive Rate\")\n",
        "plt.ylabel(\"True Positive Rate\")\n",
        "plt.show()\n",
        "plt.savefig('ROC_Curve.png')"
      ],
      "execution_count": 44,
      "outputs": [
        {
          "output_type": "display_data",
          "data": {
            "image/png": "[encoded data removed]",
            "text/plain": [
              "<Figure size 432x288 with 1 Axes>"
            ]
          },
          "metadata": {
            "tags": [],
            "needs_background": "light"
          }
        },
        {
          "output_type": "display_data",
          "data": {
            "text/plain": [
              "<Figure size 432x288 with 0 Axes>"
            ]
          },
          "metadata": {
            "tags": []
          }
        }
      ]
    },
    {
      "cell_type": "markdown",
      "metadata": {
        "id": "sNlJVn1umz0w"
      },
      "source": [
        "## Set Up BORUTA"
      ]
    },
    {
      "cell_type": "code",
      "metadata": {
        "id": "oxTJryFBnA2N",
        "outputId": "34995a0d-da30-4cb9-897f-dfbb8c19aaa7",
        "colab": {
          "base_uri": "https://localhost:8080/"
        }
      },
      "source": [
        "pip install boruta"
      ],
      "execution_count": 45,
      "outputs": [
        {
          "output_type": "stream",
          "text": [
            "Collecting boruta\n",
            "\u001b[?25l  Downloading https://files.pythonhosted.org/packages/b2/11/583f4eac99d802c79af9217e1eff56027742a69e6c866b295cce6a5a8fc2/Boruta-0.3-py3-none-any.whl (56kB)\n",
            "\r\u001b[K     |█████▉                          | 10kB 15.0MB/s eta 0:00:01\r\u001b[K     |███████████▋                    | 20kB 15.4MB/s eta 0:00:01\r\u001b[K     |█████████████████▍              | 30kB 10.8MB/s eta 0:00:01\r\u001b[K     |███████████████████████▏        | 40kB 9.3MB/s eta 0:00:01\r\u001b[K     |█████████████████████████████   | 51kB 5.2MB/s eta 0:00:01\r\u001b[K     |████████████████████████████████| 61kB 3.2MB/s \n",
            "\u001b[?25hRequirement already satisfied: scikit-learn>=0.17.1 in /usr/local/lib/python3.7/dist-packages (from boruta) (0.22.2.post1)\n",
            "Requirement already satisfied: numpy>=1.10.4 in /usr/local/lib/python3.7/dist-packages (from boruta) (1.19.5)\n",
            "Requirement already satisfied: scipy>=0.17.0 in /usr/local/lib/python3.7/dist-packages (from boruta) (1.4.1)\n",
            "Requirement already satisfied: joblib>=0.11 in /usr/local/lib/python3.7/dist-packages (from scikit-learn>=0.17.1->boruta) (1.0.1)\n",
            "Installing collected packages: boruta\n",
            "Successfully installed boruta-0.3\n"
          ],
          "name": "stdout"
        }
      ]
    },
    {
      "cell_type": "code",
      "metadata": {
        "id": "OWK4RAfX2zBp",
        "outputId": "066ba22c-2d9a-4d38-b200-8024f6e6f0ab",
        "colab": {
          "base_uri": "https://localhost:8080/"
        }
      },
      "source": [
        "from boruta import BorutaPy\n",
        "\n",
        "rf = RandomForestClassifier(n_jobs=-1, class_weight = 'balanced', max_depth = 5)\n",
        "boruta_feature_selector = BorutaPy(rf, n_estimators='auto', \n",
        "                                   verbose = 2, random_state = 4242, max_iter = 50, perc = 90)\n",
        "boruta_feature_selector.fit(X_train, y_train)"
      ],
      "execution_count": 46,
      "outputs": [
        {
          "output_type": "stream",
          "text": [
            "Iteration: \t1 / 50\n",
            "Confirmed: \t0\n",
            "Tentative: \t148\n",
            "Rejected: \t0\n",
            "Iteration: \t2 / 50\n",
            "Confirmed: \t0\n",
            "Tentative: \t148\n",
            "Rejected: \t0\n",
            "Iteration: \t3 / 50\n",
            "Confirmed: \t0\n",
            "Tentative: \t148\n",
            "Rejected: \t0\n",
            "Iteration: \t4 / 50\n",
            "Confirmed: \t0\n",
            "Tentative: \t148\n",
            "Rejected: \t0\n",
            "Iteration: \t5 / 50\n",
            "Confirmed: \t0\n",
            "Tentative: \t148\n",
            "Rejected: \t0\n",
            "Iteration: \t6 / 50\n",
            "Confirmed: \t0\n",
            "Tentative: \t148\n",
            "Rejected: \t0\n",
            "Iteration: \t7 / 50\n",
            "Confirmed: \t0\n",
            "Tentative: \t148\n",
            "Rejected: \t0\n",
            "Iteration: \t8 / 50\n",
            "Confirmed: \t107\n",
            "Tentative: \t14\n",
            "Rejected: \t27\n",
            "Iteration: \t9 / 50\n",
            "Confirmed: \t107\n",
            "Tentative: \t14\n",
            "Rejected: \t27\n",
            "Iteration: \t10 / 50\n",
            "Confirmed: \t107\n",
            "Tentative: \t14\n",
            "Rejected: \t27\n",
            "Iteration: \t11 / 50\n",
            "Confirmed: \t107\n",
            "Tentative: \t14\n",
            "Rejected: \t27\n",
            "Iteration: \t12 / 50\n",
            "Confirmed: \t107\n",
            "Tentative: \t14\n",
            "Rejected: \t27\n",
            "Iteration: \t13 / 50\n",
            "Confirmed: \t107\n",
            "Tentative: \t14\n",
            "Rejected: \t27\n",
            "Iteration: \t14 / 50\n",
            "Confirmed: \t107\n",
            "Tentative: \t14\n",
            "Rejected: \t27\n",
            "Iteration: \t15 / 50\n",
            "Confirmed: \t107\n",
            "Tentative: \t12\n",
            "Rejected: \t29\n",
            "Iteration: \t16 / 50\n",
            "Confirmed: \t107\n",
            "Tentative: \t12\n",
            "Rejected: \t29\n",
            "Iteration: \t17 / 50\n",
            "Confirmed: \t107\n",
            "Tentative: \t12\n",
            "Rejected: \t29\n",
            "Iteration: \t18 / 50\n",
            "Confirmed: \t107\n",
            "Tentative: \t12\n",
            "Rejected: \t29\n",
            "Iteration: \t19 / 50\n",
            "Confirmed: \t107\n",
            "Tentative: \t11\n",
            "Rejected: \t30\n",
            "Iteration: \t20 / 50\n",
            "Confirmed: \t107\n",
            "Tentative: \t11\n",
            "Rejected: \t30\n",
            "Iteration: \t21 / 50\n",
            "Confirmed: \t107\n",
            "Tentative: \t11\n",
            "Rejected: \t30\n",
            "Iteration: \t22 / 50\n",
            "Confirmed: \t107\n",
            "Tentative: \t11\n",
            "Rejected: \t30\n",
            "Iteration: \t23 / 50\n",
            "Confirmed: \t107\n",
            "Tentative: \t11\n",
            "Rejected: \t30\n",
            "Iteration: \t24 / 50\n",
            "Confirmed: \t107\n",
            "Tentative: \t11\n",
            "Rejected: \t30\n",
            "Iteration: \t25 / 50\n",
            "Confirmed: \t107\n",
            "Tentative: \t11\n",
            "Rejected: \t30\n",
            "Iteration: \t26 / 50\n",
            "Confirmed: \t108\n",
            "Tentative: \t10\n",
            "Rejected: \t30\n",
            "Iteration: \t27 / 50\n",
            "Confirmed: \t108\n",
            "Tentative: \t10\n",
            "Rejected: \t30\n",
            "Iteration: \t28 / 50\n",
            "Confirmed: \t108\n",
            "Tentative: \t10\n",
            "Rejected: \t30\n",
            "Iteration: \t29 / 50\n",
            "Confirmed: \t108\n",
            "Tentative: \t10\n",
            "Rejected: \t30\n",
            "Iteration: \t30 / 50\n",
            "Confirmed: \t108\n",
            "Tentative: \t10\n",
            "Rejected: \t30\n",
            "Iteration: \t31 / 50\n",
            "Confirmed: \t108\n",
            "Tentative: \t10\n",
            "Rejected: \t30\n",
            "Iteration: \t32 / 50\n",
            "Confirmed: \t108\n",
            "Tentative: \t9\n",
            "Rejected: \t31\n",
            "Iteration: \t33 / 50\n",
            "Confirmed: \t108\n",
            "Tentative: \t9\n",
            "Rejected: \t31\n",
            "Iteration: \t34 / 50\n",
            "Confirmed: \t108\n",
            "Tentative: \t8\n",
            "Rejected: \t32\n",
            "Iteration: \t35 / 50\n",
            "Confirmed: \t108\n",
            "Tentative: \t8\n",
            "Rejected: \t32\n",
            "Iteration: \t36 / 50\n",
            "Confirmed: \t108\n",
            "Tentative: \t8\n",
            "Rejected: \t32\n",
            "Iteration: \t37 / 50\n",
            "Confirmed: \t108\n",
            "Tentative: \t8\n",
            "Rejected: \t32\n",
            "Iteration: \t38 / 50\n",
            "Confirmed: \t108\n",
            "Tentative: \t8\n",
            "Rejected: \t32\n",
            "Iteration: \t39 / 50\n",
            "Confirmed: \t108\n",
            "Tentative: \t8\n",
            "Rejected: \t32\n",
            "Iteration: \t40 / 50\n",
            "Confirmed: \t108\n",
            "Tentative: \t8\n",
            "Rejected: \t32\n",
            "Iteration: \t41 / 50\n",
            "Confirmed: \t108\n",
            "Tentative: \t8\n",
            "Rejected: \t32\n",
            "Iteration: \t42 / 50\n",
            "Confirmed: \t108\n",
            "Tentative: \t8\n",
            "Rejected: \t32\n",
            "Iteration: \t43 / 50\n",
            "Confirmed: \t108\n",
            "Tentative: \t8\n",
            "Rejected: \t32\n",
            "Iteration: \t44 / 50\n",
            "Confirmed: \t108\n",
            "Tentative: \t8\n",
            "Rejected: \t32\n",
            "Iteration: \t45 / 50\n",
            "Confirmed: \t108\n",
            "Tentative: \t8\n",
            "Rejected: \t32\n",
            "Iteration: \t46 / 50\n",
            "Confirmed: \t108\n",
            "Tentative: \t8\n",
            "Rejected: \t32\n",
            "Iteration: \t47 / 50\n",
            "Confirmed: \t108\n",
            "Tentative: \t8\n",
            "Rejected: \t32\n",
            "Iteration: \t48 / 50\n",
            "Confirmed: \t108\n",
            "Tentative: \t8\n",
            "Rejected: \t32\n",
            "Iteration: \t49 / 50\n",
            "Confirmed: \t109\n",
            "Tentative: \t7\n",
            "Rejected: \t32\n",
            "\n",
            "\n",
            "BorutaPy finished running.\n",
            "\n",
            "Iteration: \t50 / 50\n",
            "Confirmed: \t109\n",
            "Tentative: \t4\n",
            "Rejected: \t32\n"
          ],
          "name": "stdout"
        },
        {
          "output_type": "execute_result",
          "data": {
            "text/plain": [
              "BorutaPy(alpha=0.05,\n",
              "         estimator=RandomForestClassifier(bootstrap=True, ccp_alpha=0.0,\n",
              "                                          class_weight='balanced',\n",
              "                                          criterion='gini', max_depth=5,\n",
              "                                          max_features='auto',\n",
              "                                          max_leaf_nodes=None, max_samples=None,\n",
              "                                          min_impurity_decrease=0.0,\n",
              "                                          min_impurity_split=None,\n",
              "                                          min_samples_leaf=1,\n",
              "                                          min_samples_split=2,\n",
              "                                          min_weight_fraction_leaf=0.0,\n",
              "                                          n_estimators=304, n_jobs=-1,\n",
              "                                          oob_score=False,\n",
              "                                          random_state=RandomState(MT19937) at 0x7F2AAF7A3270,\n",
              "                                          verbose=0, warm_start=False),\n",
              "         max_iter=50, n_estimators='auto', perc=90,\n",
              "         random_state=RandomState(MT19937) at 0x7F2AAF7A3270, two_step=True,\n",
              "         verbose=2)"
            ]
          },
          "metadata": {
            "tags": []
          },
          "execution_count": 0
        }
      ]
    },
    {
      "cell_type": "code",
      "metadata": {
        "id": "WgIhTlhjnQkk"
      },
      "source": [
        "# Construyo el dataset con las columnas filtradas\n",
        "X_filtered = boruta_feature_selector.transform(X_train)\n",
        "X_test_filtered = boruta_feature_selector.transform(X_test)\n",
        "\n",
        "# Obtengo las columnas finales \n",
        "features = [f for f in X.columns]\n",
        "final_features = list()\n",
        "indexes = np.where(boruta_feature_selector.support_ == True)\n",
        "for x in np.nditer(indexes):\n",
        "    final_features.append(features[x])"
      ],
      "execution_count": 47,
      "outputs": []
    },
    {
      "cell_type": "code",
      "metadata": {
        "id": "xa-qTWuMqPXu",
        "outputId": "24cc4223-fcc4-48dd-c9c9-b2a6d0ed374d",
        "colab": {
          "base_uri": "https://localhost:8080/"
        }
      },
      "source": [
        "xgb = XGBClassifier(criterion = 'gini', min_samples_split = 1, n_estimators = 200)\n",
        "xgb.fit(X_filtered, y_train)\n",
        "print(xgb.score(X_filtered, y_train))\n",
        "#pred_xgb = xgb.predict(X_test)"
      ],
      "execution_count": 48,
      "outputs": [
        {
          "output_type": "stream",
          "text": [
            "0.8129099491203334\n"
          ],
          "name": "stdout"
        }
      ]
    },
    {
      "cell_type": "code",
      "metadata": {
        "id": "BbVqz1FQqYfO",
        "outputId": "1a4202cf-b818-425a-8718-4521ee9ebf55",
        "colab": {
          "base_uri": "https://localhost:8080/",
          "height": 312
        }
      },
      "source": [
        "y_probas = xgb.predict_proba(X_test_filtered)\n",
        "skplt.metrics.plot_roc(y_test, y_probas)\n",
        "plt.title(\"Recevier's Operating Characteristic\")\n",
        "plt.xlabel(\"False Positive Rate\")\n",
        "plt.ylabel(\"True Positive Rate\")\n",
        "plt.show()\n",
        "plt.savefig('ROC_Curve.png')"
      ],
      "execution_count": 49,
      "outputs": [
        {
          "output_type": "display_data",
          "data": {
            "image/png": "[encoded data removed]",
            "text/plain": [
              "<Figure size 432x288 with 1 Axes>"
            ]
          },
          "metadata": {
            "tags": []
          }
        },
        {
          "output_type": "display_data",
          "data": {
            "text/plain": [
              "<Figure size 432x288 with 0 Axes>"
            ]
          },
          "metadata": {
            "tags": []
          }
        }
      ]
    },
    {
      "cell_type": "code",
      "metadata": {
        "id": "X4gQvWJBxjce"
      },
      "source": [
        ""
      ],
      "execution_count": null,
      "outputs": []
    },
    {
      "cell_type": "code",
      "metadata": {
        "id": "nTQI948gqz9O"
      },
      "source": [
        "# PCA Para eliminar features correlacionados\n",
        "\n",
        "from sklearn.decomposition import PCA\n",
        "pca = PCA(n_components = len(final_features))\n",
        "X_pca = pca.fit_transform(X_filtered)\n",
        "X_test_pca = pca.transform(X_test_filtered)"
      ],
      "execution_count": 52,
      "outputs": []
    },
    {
      "cell_type": "code",
      "metadata": {
        "id": "eWLj1znDjOJn",
        "outputId": "99ea9acb-9ea3-46ec-ef86-24dcf0551d3a",
        "colab": {
          "base_uri": "https://localhost:8080/"
        }
      },
      "source": [
        "xgb = XGBClassifier(criterion = 'gini', min_samples_split = 1, n_estimators = 200)\n",
        "xgb.fit(X_pca, y_train)\n",
        "print(xgb.score(X_pca, y_train))"
      ],
      "execution_count": 51,
      "outputs": [
        {
          "output_type": "stream",
          "text": [
            "0.8107644210139153\n"
          ],
          "name": "stdout"
        }
      ]
    },
    {
      "cell_type": "code",
      "metadata": {
        "id": "NTsv5JtljQBE",
        "outputId": "4edf47e1-7620-4d0b-871e-9ff0c4ff7aa2",
        "colab": {
          "base_uri": "https://localhost:8080/",
          "height": 312
        }
      },
      "source": [
        "y_probas = xgb.predict_proba(X_test_pca)\n",
        "skplt.metrics.plot_roc(y_test, y_probas)\n",
        "plt.title(\"Recevier's Operating Characteristic\")\n",
        "plt.xlabel(\"False Positive Rate\")\n",
        "plt.ylabel(\"True Positive Rate\")\n",
        "plt.show()\n",
        "plt.savefig('ROC_Curve.png')"
      ],
      "execution_count": 53,
      "outputs": [
        {
          "output_type": "display_data",
          "data": {
            "image/png": "[encoded data removed]",
            "text/plain": [
              "<Figure size 432x288 with 1 Axes>"
            ]
          },
          "metadata": {
            "tags": [],
            "needs_background": "light"
          }
        },
        {
          "output_type": "display_data",
          "data": {
            "text/plain": [
              "<Figure size 432x288 with 0 Axes>"
            ]
          },
          "metadata": {
            "tags": []
          }
        }
      ]
    },
    {
      "cell_type": "code",
      "metadata": {
        "id": "Kl86_ydgj13c"
      },
      "source": [
        ""
      ],
      "execution_count": null,
      "outputs": []
    }
  ]
}