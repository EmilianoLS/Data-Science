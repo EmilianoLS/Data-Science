{
 "metadata": {
  "language_info": {
   "codemirror_mode": {
    "name": "ipython",
    "version": 3
   },
   "file_extension": ".py",
   "mimetype": "text/x-python",
   "name": "python",
   "nbconvert_exporter": "python",
   "pygments_lexer": "ipython3",
   "version": "3.7.9"
  },
  "orig_nbformat": 2,
  "kernelspec": {
   "name": "python379jvsc74a57bd02524886862314fd03fbe228b4b52829b788cd62de8c3763297090f09968ba99a",
   "display_name": "Python 3.7.9 64-bit"
  },
  "metadata": {
   "interpreter": {
    "hash": "2524886862314fd03fbe228b4b52829b788cd62de8c3763297090f09968ba99a"
   }
  }
 },
 "nbformat": 4,
 "nbformat_minor": 2,
 "cells": [
  {
   "cell_type": "code",
   "execution_count": 1,
   "metadata": {},
   "outputs": [],
   "source": [
    "# Librerias generales\n",
    "import pandas as pd\n",
    "import numpy as np \n",
    "import matplotlib.pyplot as plt\n",
    "import datetime\n",
    "# Librerias para listar archivos\n",
    "from os import listdir\n",
    "from os.path import isfile, join"
   ]
  },
  {
   "cell_type": "code",
   "execution_count": 51,
   "metadata": {},
   "outputs": [],
   "source": [
    "# Importo datasets\n",
    "\n",
    "active_users = pd.read_csv('../data/ACTIVE_USER.csv') # Datos de visitas a la app\n",
    "demograficos = pd.read_csv('../data/DEMOGRAFICOS.csv')\n",
    "dinero_cuenta = pd.read_csv('../data/DINERO_CUENTA.csv') # Datos de la cantidad de dinero en la cuenta y si invierta\n",
    "evaluate = pd.read_csv('../data/EVALUATE.csv')\n",
    "marketplace_data = pd.read_csv('../data/MARKETPLACE_DATA.csv') # Movimientos en mercadolibre\n",
    "payments = pd.read_csv('../data/PAYMENTS.csv') # Datos transaccionales en MP"
   ]
  },
  {
   "cell_type": "code",
   "execution_count": 52,
   "metadata": {},
   "outputs": [
    {
     "output_type": "execute_result",
     "data": {
      "text/plain": [
       "   CUS_CUST_ID_BUY  MAU_MP_3  MAU_ML_3  MAU_MP_2  MAU_ML_2  MAU_MP_1  \\\n",
       "0        424070401       NaN       NaN       1.0       0.0       NaN   \n",
       "1        271894453       1.0      14.0      11.0      21.0       2.0   \n",
       "2        327402711       NaN       NaN       0.0      10.0       4.0   \n",
       "\n",
       "   MAU_ML_1 last_login_mp_date_1 last_login_ml_date_1  \n",
       "0       NaN                  NaN                  NaN  \n",
       "1      12.0           2019-05-17           2019-05-24  \n",
       "2      26.0           2019-05-28           2019-05-31  "
      ],
      "text/html": "<div>\n<style scoped>\n    .dataframe tbody tr th:only-of-type {\n        vertical-align: middle;\n    }\n\n    .dataframe tbody tr th {\n        vertical-align: top;\n    }\n\n    .dataframe thead th {\n        text-align: right;\n    }\n</style>\n<table border=\"1\" class=\"dataframe\">\n  <thead>\n    <tr style=\"text-align: right;\">\n      <th></th>\n      <th>CUS_CUST_ID_BUY</th>\n      <th>MAU_MP_3</th>\n      <th>MAU_ML_3</th>\n      <th>MAU_MP_2</th>\n      <th>MAU_ML_2</th>\n      <th>MAU_MP_1</th>\n      <th>MAU_ML_1</th>\n      <th>last_login_mp_date_1</th>\n      <th>last_login_ml_date_1</th>\n    </tr>\n  </thead>\n  <tbody>\n    <tr>\n      <th>0</th>\n      <td>424070401</td>\n      <td>NaN</td>\n      <td>NaN</td>\n      <td>1.0</td>\n      <td>0.0</td>\n      <td>NaN</td>\n      <td>NaN</td>\n      <td>NaN</td>\n      <td>NaN</td>\n    </tr>\n    <tr>\n      <th>1</th>\n      <td>271894453</td>\n      <td>1.0</td>\n      <td>14.0</td>\n      <td>11.0</td>\n      <td>21.0</td>\n      <td>2.0</td>\n      <td>12.0</td>\n      <td>2019-05-17</td>\n      <td>2019-05-24</td>\n    </tr>\n    <tr>\n      <th>2</th>\n      <td>327402711</td>\n      <td>NaN</td>\n      <td>NaN</td>\n      <td>0.0</td>\n      <td>10.0</td>\n      <td>4.0</td>\n      <td>26.0</td>\n      <td>2019-05-28</td>\n      <td>2019-05-31</td>\n    </tr>\n  </tbody>\n</table>\n</div>"
     },
     "metadata": {},
     "execution_count": 52
    }
   ],
   "source": [
    "# Active users\n",
    "active_users.head(3)"
   ]
  },
  {
   "cell_type": "code",
   "execution_count": 53,
   "metadata": {},
   "outputs": [
    {
     "output_type": "execute_result",
     "data": {
      "text/plain": [
       "                                  CITY  CUS_CUST_ID_BUY  GENDER  \\\n",
       "0                                 caba         47629682    male   \n",
       "1                     belen de escobar        184288617    male   \n",
       "2  san fernando del valle de catamarca        134359455  female   \n",
       "\n",
       "              RANGO_EDAD       TARJETAS           ESTADO  \n",
       "0  03.Entre 26 y 30 años    Credit Card  capital federal  \n",
       "1  03.Entre 26 y 30 años  Account Money     buenos aires  \n",
       "2  03.Entre 26 y 30 años     Debit Card        catamarca  "
      ],
      "text/html": "<div>\n<style scoped>\n    .dataframe tbody tr th:only-of-type {\n        vertical-align: middle;\n    }\n\n    .dataframe tbody tr th {\n        vertical-align: top;\n    }\n\n    .dataframe thead th {\n        text-align: right;\n    }\n</style>\n<table border=\"1\" class=\"dataframe\">\n  <thead>\n    <tr style=\"text-align: right;\">\n      <th></th>\n      <th>CITY</th>\n      <th>CUS_CUST_ID_BUY</th>\n      <th>GENDER</th>\n      <th>RANGO_EDAD</th>\n      <th>TARJETAS</th>\n      <th>ESTADO</th>\n    </tr>\n  </thead>\n  <tbody>\n    <tr>\n      <th>0</th>\n      <td>caba</td>\n      <td>47629682</td>\n      <td>male</td>\n      <td>03.Entre 26 y 30 años</td>\n      <td>Credit Card</td>\n      <td>capital federal</td>\n    </tr>\n    <tr>\n      <th>1</th>\n      <td>belen de escobar</td>\n      <td>184288617</td>\n      <td>male</td>\n      <td>03.Entre 26 y 30 años</td>\n      <td>Account Money</td>\n      <td>buenos aires</td>\n    </tr>\n    <tr>\n      <th>2</th>\n      <td>san fernando del valle de catamarca</td>\n      <td>134359455</td>\n      <td>female</td>\n      <td>03.Entre 26 y 30 años</td>\n      <td>Debit Card</td>\n      <td>catamarca</td>\n    </tr>\n  </tbody>\n</table>\n</div>"
     },
     "metadata": {},
     "execution_count": 53
    }
   ],
   "source": [
    "# Demograficos\n",
    "demograficos.head(3)"
   ]
  },
  {
   "cell_type": "code",
   "execution_count": 54,
   "metadata": {},
   "outputs": [
    {
     "output_type": "execute_result",
     "data": {
      "text/plain": [
       "   CUS_CUST_ID_BUY  PLATA_CUENTA_1  PLATA_CUENTA_2 INVERSION\n",
       "0          54018.0          250.99            0.00   pending\n",
       "1          23513.0           20.05         2220.05    warmup\n",
       "2          21230.0            0.00            0.00    warmup"
      ],
      "text/html": "<div>\n<style scoped>\n    .dataframe tbody tr th:only-of-type {\n        vertical-align: middle;\n    }\n\n    .dataframe tbody tr th {\n        vertical-align: top;\n    }\n\n    .dataframe thead th {\n        text-align: right;\n    }\n</style>\n<table border=\"1\" class=\"dataframe\">\n  <thead>\n    <tr style=\"text-align: right;\">\n      <th></th>\n      <th>CUS_CUST_ID_BUY</th>\n      <th>PLATA_CUENTA_1</th>\n      <th>PLATA_CUENTA_2</th>\n      <th>INVERSION</th>\n    </tr>\n  </thead>\n  <tbody>\n    <tr>\n      <th>0</th>\n      <td>54018.0</td>\n      <td>250.99</td>\n      <td>0.00</td>\n      <td>pending</td>\n    </tr>\n    <tr>\n      <th>1</th>\n      <td>23513.0</td>\n      <td>20.05</td>\n      <td>2220.05</td>\n      <td>warmup</td>\n    </tr>\n    <tr>\n      <th>2</th>\n      <td>21230.0</td>\n      <td>0.00</td>\n      <td>0.00</td>\n      <td>warmup</td>\n    </tr>\n  </tbody>\n</table>\n</div>"
     },
     "metadata": {},
     "execution_count": 54
    }
   ],
   "source": [
    "# Dinero en cuenta\n",
    "dinero_cuenta.head(3)"
   ]
  },
  {
   "cell_type": "code",
   "execution_count": 55,
   "metadata": {},
   "outputs": [
    {
     "output_type": "execute_result",
     "data": {
      "text/plain": [
       "   CUS_CUST_ID_BUY  churn\n",
       "0         20663512    1.0\n",
       "1        444286946    0.0\n",
       "2        348084528    1.0"
      ],
      "text/html": "<div>\n<style scoped>\n    .dataframe tbody tr th:only-of-type {\n        vertical-align: middle;\n    }\n\n    .dataframe tbody tr th {\n        vertical-align: top;\n    }\n\n    .dataframe thead th {\n        text-align: right;\n    }\n</style>\n<table border=\"1\" class=\"dataframe\">\n  <thead>\n    <tr style=\"text-align: right;\">\n      <th></th>\n      <th>CUS_CUST_ID_BUY</th>\n      <th>churn</th>\n    </tr>\n  </thead>\n  <tbody>\n    <tr>\n      <th>0</th>\n      <td>20663512</td>\n      <td>1.0</td>\n    </tr>\n    <tr>\n      <th>1</th>\n      <td>444286946</td>\n      <td>0.0</td>\n    </tr>\n    <tr>\n      <th>2</th>\n      <td>348084528</td>\n      <td>1.0</td>\n    </tr>\n  </tbody>\n</table>\n</div>"
     },
     "metadata": {},
     "execution_count": 55
    }
   ],
   "source": [
    "# Evaluate\n",
    "evaluate.head(3)"
   ]
  },
  {
   "cell_type": "code",
   "execution_count": 56,
   "metadata": {},
   "outputs": [
    {
     "output_type": "execute_result",
     "data": {
      "text/plain": [
       "   CUS_CUST_ID_BUY  SPENT_ML  RECENCY_ML  FREQUENCY_ML\n",
       "0         53621056     71.51  2019-03-30             1\n",
       "1        308208758    269.20  2019-05-30            11\n",
       "2         30591970    149.22  2019-03-24             4"
      ],
      "text/html": "<div>\n<style scoped>\n    .dataframe tbody tr th:only-of-type {\n        vertical-align: middle;\n    }\n\n    .dataframe tbody tr th {\n        vertical-align: top;\n    }\n\n    .dataframe thead th {\n        text-align: right;\n    }\n</style>\n<table border=\"1\" class=\"dataframe\">\n  <thead>\n    <tr style=\"text-align: right;\">\n      <th></th>\n      <th>CUS_CUST_ID_BUY</th>\n      <th>SPENT_ML</th>\n      <th>RECENCY_ML</th>\n      <th>FREQUENCY_ML</th>\n    </tr>\n  </thead>\n  <tbody>\n    <tr>\n      <th>0</th>\n      <td>53621056</td>\n      <td>71.51</td>\n      <td>2019-03-30</td>\n      <td>1</td>\n    </tr>\n    <tr>\n      <th>1</th>\n      <td>308208758</td>\n      <td>269.20</td>\n      <td>2019-05-30</td>\n      <td>11</td>\n    </tr>\n    <tr>\n      <th>2</th>\n      <td>30591970</td>\n      <td>149.22</td>\n      <td>2019-03-24</td>\n      <td>4</td>\n    </tr>\n  </tbody>\n</table>\n</div>"
     },
     "metadata": {},
     "execution_count": 56
    }
   ],
   "source": [
    "# Marketplace \n",
    "marketplace_data.head(3)"
   ]
  },
  {
   "cell_type": "code",
   "execution_count": 57,
   "metadata": {},
   "outputs": [
    {
     "output_type": "execute_result",
     "data": {
      "text/plain": [
       "        FECHA  CUS_CUST_ID_SEL  CUS_CUST_ID_BUY    SPENT TPV_SEGMENT_DETAIL  \\\n",
       "0  2019-05-25        314941456         20663512  11.3566            Instore   \n",
       "1  2019-06-20        251693291        444286946   4.6190          Transport   \n",
       "2  2019-01-10        251693291         20663512   5.3519          Transport   \n",
       "\n",
       "   DESCUENTO  \n",
       "0     2.2312  \n",
       "1     0.9238  \n",
       "2     1.0704  "
      ],
      "text/html": "<div>\n<style scoped>\n    .dataframe tbody tr th:only-of-type {\n        vertical-align: middle;\n    }\n\n    .dataframe tbody tr th {\n        vertical-align: top;\n    }\n\n    .dataframe thead th {\n        text-align: right;\n    }\n</style>\n<table border=\"1\" class=\"dataframe\">\n  <thead>\n    <tr style=\"text-align: right;\">\n      <th></th>\n      <th>FECHA</th>\n      <th>CUS_CUST_ID_SEL</th>\n      <th>CUS_CUST_ID_BUY</th>\n      <th>SPENT</th>\n      <th>TPV_SEGMENT_DETAIL</th>\n      <th>DESCUENTO</th>\n    </tr>\n  </thead>\n  <tbody>\n    <tr>\n      <th>0</th>\n      <td>2019-05-25</td>\n      <td>314941456</td>\n      <td>20663512</td>\n      <td>11.3566</td>\n      <td>Instore</td>\n      <td>2.2312</td>\n    </tr>\n    <tr>\n      <th>1</th>\n      <td>2019-06-20</td>\n      <td>251693291</td>\n      <td>444286946</td>\n      <td>4.6190</td>\n      <td>Transport</td>\n      <td>0.9238</td>\n    </tr>\n    <tr>\n      <th>2</th>\n      <td>2019-01-10</td>\n      <td>251693291</td>\n      <td>20663512</td>\n      <td>5.3519</td>\n      <td>Transport</td>\n      <td>1.0704</td>\n    </tr>\n  </tbody>\n</table>\n</div>"
     },
     "metadata": {},
     "execution_count": 57
    }
   ],
   "source": [
    "# Payments\n",
    "payments.head(3)"
   ]
  },
  {
   "cell_type": "code",
   "execution_count": 58,
   "metadata": {},
   "outputs": [
    {
     "output_type": "stream",
     "name": "stdout",
     "text": [
      "<class 'pandas.core.frame.DataFrame'>\nRangeIndex: 555516 entries, 0 to 555515\nData columns (total 6 columns):\n #   Column              Non-Null Count   Dtype  \n---  ------              --------------   -----  \n 0   FECHA               555516 non-null  object \n 1   CUS_CUST_ID_SEL     555516 non-null  int64  \n 2   CUS_CUST_ID_BUY     555516 non-null  int64  \n 3   SPENT               555516 non-null  float64\n 4   TPV_SEGMENT_DETAIL  555516 non-null  object \n 5   DESCUENTO           555516 non-null  float64\ndtypes: float64(2), int64(2), object(2)\nmemory usage: 25.4+ MB\n"
     ]
    }
   ],
   "source": [
    "# Revision de payments dataframe\n",
    "\n",
    "payments.info() # La información esta ok con sus clases excepto por la fecha, se convierte a datetime"
   ]
  },
  {
   "cell_type": "code",
   "execution_count": 59,
   "metadata": {},
   "outputs": [],
   "source": [
    "# Convierto la columna fecha en datetime\n",
    "payments['FECHA'] = [datetime.datetime.strptime(x, '%Y-%m-%d') for x in payments['FECHA']]"
   ]
  },
  {
   "cell_type": "code",
   "execution_count": 60,
   "metadata": {},
   "outputs": [],
   "source": [
    "# La idea es unificar la data por usuario de forma que cada linea tenga toda la información\n",
    "# Por eso primero se dummiza el dataframe payments para que los distintos segmentos estén por columna\n",
    "\n",
    "payments = pd.get_dummies(payments, columns = ['TPV_SEGMENT_DETAIL'], prefix = ['segment'])"
   ]
  },
  {
   "cell_type": "code",
   "execution_count": 70,
   "metadata": {},
   "outputs": [
    {
     "output_type": "execute_result",
     "data": {
      "text/plain": [
       "                               spent  spent_count  spent_mean  discount\n",
       "FECHA      CUS_CUST_ID_BUY                                             \n",
       "2019-01-31 14525             14.2774            2    7.138700    2.8555\n",
       "           22083             69.0491            3   23.016367    7.7778\n",
       "           34173            136.9079            2   68.453950    0.0000\n",
       "           36482             23.9667            5    4.793340    0.0000\n",
       "           51395             36.4893           11    3.317209    1.0276\n",
       "...                              ...          ...         ...       ...\n",
       "2019-07-31 448290283          4.7100            1    4.710000    0.0000\n",
       "           448313152          4.7100            1    4.710000    0.0000\n",
       "           448326912          7.7715            1    7.771500    1.5543\n",
       "           448330186          9.7025            1    9.702500    1.9405\n",
       "           448374921         17.7095            1   17.709500    3.5325\n",
       "\n",
       "[77028 rows x 4 columns]"
      ],
      "text/html": "<div>\n<style scoped>\n    .dataframe tbody tr th:only-of-type {\n        vertical-align: middle;\n    }\n\n    .dataframe tbody tr th {\n        vertical-align: top;\n    }\n\n    .dataframe thead th {\n        text-align: right;\n    }\n</style>\n<table border=\"1\" class=\"dataframe\">\n  <thead>\n    <tr style=\"text-align: right;\">\n      <th></th>\n      <th></th>\n      <th>spent</th>\n      <th>spent_count</th>\n      <th>spent_mean</th>\n      <th>discount</th>\n    </tr>\n    <tr>\n      <th>FECHA</th>\n      <th>CUS_CUST_ID_BUY</th>\n      <th></th>\n      <th></th>\n      <th></th>\n      <th></th>\n    </tr>\n  </thead>\n  <tbody>\n    <tr>\n      <th rowspan=\"5\" valign=\"top\">2019-01-31</th>\n      <th>14525</th>\n      <td>14.2774</td>\n      <td>2</td>\n      <td>7.138700</td>\n      <td>2.8555</td>\n    </tr>\n    <tr>\n      <th>22083</th>\n      <td>69.0491</td>\n      <td>3</td>\n      <td>23.016367</td>\n      <td>7.7778</td>\n    </tr>\n    <tr>\n      <th>34173</th>\n      <td>136.9079</td>\n      <td>2</td>\n      <td>68.453950</td>\n      <td>0.0000</td>\n    </tr>\n    <tr>\n      <th>36482</th>\n      <td>23.9667</td>\n      <td>5</td>\n      <td>4.793340</td>\n      <td>0.0000</td>\n    </tr>\n    <tr>\n      <th>51395</th>\n      <td>36.4893</td>\n      <td>11</td>\n      <td>3.317209</td>\n      <td>1.0276</td>\n    </tr>\n    <tr>\n      <th>...</th>\n      <th>...</th>\n      <td>...</td>\n      <td>...</td>\n      <td>...</td>\n      <td>...</td>\n    </tr>\n    <tr>\n      <th rowspan=\"5\" valign=\"top\">2019-07-31</th>\n      <th>448290283</th>\n      <td>4.7100</td>\n      <td>1</td>\n      <td>4.710000</td>\n      <td>0.0000</td>\n    </tr>\n    <tr>\n      <th>448313152</th>\n      <td>4.7100</td>\n      <td>1</td>\n      <td>4.710000</td>\n      <td>0.0000</td>\n    </tr>\n    <tr>\n      <th>448326912</th>\n      <td>7.7715</td>\n      <td>1</td>\n      <td>7.771500</td>\n      <td>1.5543</td>\n    </tr>\n    <tr>\n      <th>448330186</th>\n      <td>9.7025</td>\n      <td>1</td>\n      <td>9.702500</td>\n      <td>1.9405</td>\n    </tr>\n    <tr>\n      <th>448374921</th>\n      <td>17.7095</td>\n      <td>1</td>\n      <td>17.709500</td>\n      <td>3.5325</td>\n    </tr>\n  </tbody>\n</table>\n<p>77028 rows × 4 columns</p>\n</div>"
     },
     "metadata": {},
     "execution_count": 70
    }
   ],
   "source": [
    "payments.groupby([pd.Grouper(key = 'FECHA', freq = '3M'), 'CUS_CUST_ID_BUY'], as_index = True).agg(spent = ('SPENT', 'sum'), spent_count = ('SPENT', 'count'), spent_mean = ('SPENT', 'mean'), discount = ('DESCUENTO','sum')) "
   ]
  },
  {
   "cell_type": "code",
   "execution_count": 91,
   "metadata": {},
   "outputs": [],
   "source": [
    "# Funcion de agregacion por ventanas de tiempo\n",
    "payments_group_date = payments.groupby([pd.Grouper(key = 'FECHA', freq = '3M'), 'CUS_CUST_ID_BUY'], as_index = True).agg(spent = ('SPENT', 'sum'), \n",
    "                                                                                                                         spent_count = ('SPENT', 'count'), \n",
    "                                                                                                                         spent_mean = ('SPENT', 'mean'), \n",
    "                                                                                                                         discount = ('DESCUENTO','sum'),\n",
    "                                                                                                                         discount_mean = ('DESCUENTO','mean'))  \n",
    "payments_group_date = payments_group_date.reset_index() \n",
    "payments_group_date['MES'] = [str(x.month) for x in payments_group_date['FECHA']]\n",
    "k = len(payments_group_date['MES'].unique())\n",
    "payments_group_date = pd.get_dummies(payments_group_date, columns = ['MES'])\n",
    "max_index = payments_group_date.shape[1] - 1\n",
    "low_index = max_index  + 1 - k\n",
    "\n",
    "payments_group_date\n",
    "\n",
    "for col1 in payments_group_date.columns[2:low_index]:\n",
    "    for col2 in payments_group_date.columns[low_index:max_index + 1]:\n",
    "        col_name = col1 + '_' + col2\n",
    "        payments_group_date[col_name] = payments_group_date[col2].multiply(payments_group_date[col1], axis = 'index')"
   ]
  },
  {
   "cell_type": "code",
   "execution_count": 92,
   "metadata": {},
   "outputs": [
    {
     "output_type": "execute_result",
     "data": {
      "text/plain": [
       "           FECHA  CUS_CUST_ID_BUY     spent  spent_count  spent_mean  \\\n",
       "0     2019-01-31            14525   14.2774            2    7.138700   \n",
       "1     2019-01-31            22083   69.0491            3   23.016367   \n",
       "2     2019-01-31            34173  136.9079            2   68.453950   \n",
       "3     2019-01-31            36482   23.9667            5    4.793340   \n",
       "4     2019-01-31            51395   36.4893           11    3.317209   \n",
       "...          ...              ...       ...          ...         ...   \n",
       "77023 2019-07-31        448290283    4.7100            1    4.710000   \n",
       "77024 2019-07-31        448313152    4.7100            1    4.710000   \n",
       "77025 2019-07-31        448326912    7.7715            1    7.771500   \n",
       "77026 2019-07-31        448330186    9.7025            1    9.702500   \n",
       "77027 2019-07-31        448374921   17.7095            1   17.709500   \n",
       "\n",
       "       discount  discount_mean  MES_1  MES_4  MES_7  ...  spent_count_MES_7  \\\n",
       "0        2.8555       1.427750      1      0      0  ...                  0   \n",
       "1        7.7778       2.592600      1      0      0  ...                  0   \n",
       "2        0.0000       0.000000      1      0      0  ...                  0   \n",
       "3        0.0000       0.000000      1      0      0  ...                  0   \n",
       "4        1.0276       0.093418      1      0      0  ...                  0   \n",
       "...         ...            ...    ...    ...    ...  ...                ...   \n",
       "77023    0.0000       0.000000      0      0      1  ...                  1   \n",
       "77024    0.0000       0.000000      0      0      1  ...                  1   \n",
       "77025    1.5543       1.554300      0      0      1  ...                  1   \n",
       "77026    1.9405       1.940500      0      0      1  ...                  1   \n",
       "77027    3.5325       3.532500      0      0      1  ...                  1   \n",
       "\n",
       "       spent_mean_MES_1  spent_mean_MES_4  spent_mean_MES_7  discount_MES_1  \\\n",
       "0              7.138700               0.0            0.0000          2.8555   \n",
       "1             23.016367               0.0            0.0000          7.7778   \n",
       "2             68.453950               0.0            0.0000          0.0000   \n",
       "3              4.793340               0.0            0.0000          0.0000   \n",
       "4              3.317209               0.0            0.0000          1.0276   \n",
       "...                 ...               ...               ...             ...   \n",
       "77023          0.000000               0.0            4.7100          0.0000   \n",
       "77024          0.000000               0.0            4.7100          0.0000   \n",
       "77025          0.000000               0.0            7.7715          0.0000   \n",
       "77026          0.000000               0.0            9.7025          0.0000   \n",
       "77027          0.000000               0.0           17.7095          0.0000   \n",
       "\n",
       "       discount_MES_4  discount_MES_7  discount_mean_MES_1  \\\n",
       "0                 0.0          0.0000             1.427750   \n",
       "1                 0.0          0.0000             2.592600   \n",
       "2                 0.0          0.0000             0.000000   \n",
       "3                 0.0          0.0000             0.000000   \n",
       "4                 0.0          0.0000             0.093418   \n",
       "...               ...             ...                  ...   \n",
       "77023             0.0          0.0000             0.000000   \n",
       "77024             0.0          0.0000             0.000000   \n",
       "77025             0.0          1.5543             0.000000   \n",
       "77026             0.0          1.9405             0.000000   \n",
       "77027             0.0          3.5325             0.000000   \n",
       "\n",
       "       discount_mean_MES_4  discount_mean_MES_7  \n",
       "0                      0.0               0.0000  \n",
       "1                      0.0               0.0000  \n",
       "2                      0.0               0.0000  \n",
       "3                      0.0               0.0000  \n",
       "4                      0.0               0.0000  \n",
       "...                    ...                  ...  \n",
       "77023                  0.0               0.0000  \n",
       "77024                  0.0               0.0000  \n",
       "77025                  0.0               1.5543  \n",
       "77026                  0.0               1.9405  \n",
       "77027                  0.0               3.5325  \n",
       "\n",
       "[77028 rows x 25 columns]"
      ],
      "text/html": "<div>\n<style scoped>\n    .dataframe tbody tr th:only-of-type {\n        vertical-align: middle;\n    }\n\n    .dataframe tbody tr th {\n        vertical-align: top;\n    }\n\n    .dataframe thead th {\n        text-align: right;\n    }\n</style>\n<table border=\"1\" class=\"dataframe\">\n  <thead>\n    <tr style=\"text-align: right;\">\n      <th></th>\n      <th>FECHA</th>\n      <th>CUS_CUST_ID_BUY</th>\n      <th>spent</th>\n      <th>spent_count</th>\n      <th>spent_mean</th>\n      <th>discount</th>\n      <th>discount_mean</th>\n      <th>MES_1</th>\n      <th>MES_4</th>\n      <th>MES_7</th>\n      <th>...</th>\n      <th>spent_count_MES_7</th>\n      <th>spent_mean_MES_1</th>\n      <th>spent_mean_MES_4</th>\n      <th>spent_mean_MES_7</th>\n      <th>discount_MES_1</th>\n      <th>discount_MES_4</th>\n      <th>discount_MES_7</th>\n      <th>discount_mean_MES_1</th>\n      <th>discount_mean_MES_4</th>\n      <th>discount_mean_MES_7</th>\n    </tr>\n  </thead>\n  <tbody>\n    <tr>\n      <th>0</th>\n      <td>2019-01-31</td>\n      <td>14525</td>\n      <td>14.2774</td>\n      <td>2</td>\n      <td>7.138700</td>\n      <td>2.8555</td>\n      <td>1.427750</td>\n      <td>1</td>\n      <td>0</td>\n      <td>0</td>\n      <td>...</td>\n      <td>0</td>\n      <td>7.138700</td>\n      <td>0.0</td>\n      <td>0.0000</td>\n      <td>2.8555</td>\n      <td>0.0</td>\n      <td>0.0000</td>\n      <td>1.427750</td>\n      <td>0.0</td>\n      <td>0.0000</td>\n    </tr>\n    <tr>\n      <th>1</th>\n      <td>2019-01-31</td>\n      <td>22083</td>\n      <td>69.0491</td>\n      <td>3</td>\n      <td>23.016367</td>\n      <td>7.7778</td>\n      <td>2.592600</td>\n      <td>1</td>\n      <td>0</td>\n      <td>0</td>\n      <td>...</td>\n      <td>0</td>\n      <td>23.016367</td>\n      <td>0.0</td>\n      <td>0.0000</td>\n      <td>7.7778</td>\n      <td>0.0</td>\n      <td>0.0000</td>\n      <td>2.592600</td>\n      <td>0.0</td>\n      <td>0.0000</td>\n    </tr>\n    <tr>\n      <th>2</th>\n      <td>2019-01-31</td>\n      <td>34173</td>\n      <td>136.9079</td>\n      <td>2</td>\n      <td>68.453950</td>\n      <td>0.0000</td>\n      <td>0.000000</td>\n      <td>1</td>\n      <td>0</td>\n      <td>0</td>\n      <td>...</td>\n      <td>0</td>\n      <td>68.453950</td>\n      <td>0.0</td>\n      <td>0.0000</td>\n      <td>0.0000</td>\n      <td>0.0</td>\n      <td>0.0000</td>\n      <td>0.000000</td>\n      <td>0.0</td>\n      <td>0.0000</td>\n    </tr>\n    <tr>\n      <th>3</th>\n      <td>2019-01-31</td>\n      <td>36482</td>\n      <td>23.9667</td>\n      <td>5</td>\n      <td>4.793340</td>\n      <td>0.0000</td>\n      <td>0.000000</td>\n      <td>1</td>\n      <td>0</td>\n      <td>0</td>\n      <td>...</td>\n      <td>0</td>\n      <td>4.793340</td>\n      <td>0.0</td>\n      <td>0.0000</td>\n      <td>0.0000</td>\n      <td>0.0</td>\n      <td>0.0000</td>\n      <td>0.000000</td>\n      <td>0.0</td>\n      <td>0.0000</td>\n    </tr>\n    <tr>\n      <th>4</th>\n      <td>2019-01-31</td>\n      <td>51395</td>\n      <td>36.4893</td>\n      <td>11</td>\n      <td>3.317209</td>\n      <td>1.0276</td>\n      <td>0.093418</td>\n      <td>1</td>\n      <td>0</td>\n      <td>0</td>\n      <td>...</td>\n      <td>0</td>\n      <td>3.317209</td>\n      <td>0.0</td>\n      <td>0.0000</td>\n      <td>1.0276</td>\n      <td>0.0</td>\n      <td>0.0000</td>\n      <td>0.093418</td>\n      <td>0.0</td>\n      <td>0.0000</td>\n    </tr>\n    <tr>\n      <th>...</th>\n      <td>...</td>\n      <td>...</td>\n      <td>...</td>\n      <td>...</td>\n      <td>...</td>\n      <td>...</td>\n      <td>...</td>\n      <td>...</td>\n      <td>...</td>\n      <td>...</td>\n      <td>...</td>\n      <td>...</td>\n      <td>...</td>\n      <td>...</td>\n      <td>...</td>\n      <td>...</td>\n      <td>...</td>\n      <td>...</td>\n      <td>...</td>\n      <td>...</td>\n      <td>...</td>\n    </tr>\n    <tr>\n      <th>77023</th>\n      <td>2019-07-31</td>\n      <td>448290283</td>\n      <td>4.7100</td>\n      <td>1</td>\n      <td>4.710000</td>\n      <td>0.0000</td>\n      <td>0.000000</td>\n      <td>0</td>\n      <td>0</td>\n      <td>1</td>\n      <td>...</td>\n      <td>1</td>\n      <td>0.000000</td>\n      <td>0.0</td>\n      <td>4.7100</td>\n      <td>0.0000</td>\n      <td>0.0</td>\n      <td>0.0000</td>\n      <td>0.000000</td>\n      <td>0.0</td>\n      <td>0.0000</td>\n    </tr>\n    <tr>\n      <th>77024</th>\n      <td>2019-07-31</td>\n      <td>448313152</td>\n      <td>4.7100</td>\n      <td>1</td>\n      <td>4.710000</td>\n      <td>0.0000</td>\n      <td>0.000000</td>\n      <td>0</td>\n      <td>0</td>\n      <td>1</td>\n      <td>...</td>\n      <td>1</td>\n      <td>0.000000</td>\n      <td>0.0</td>\n      <td>4.7100</td>\n      <td>0.0000</td>\n      <td>0.0</td>\n      <td>0.0000</td>\n      <td>0.000000</td>\n      <td>0.0</td>\n      <td>0.0000</td>\n    </tr>\n    <tr>\n      <th>77025</th>\n      <td>2019-07-31</td>\n      <td>448326912</td>\n      <td>7.7715</td>\n      <td>1</td>\n      <td>7.771500</td>\n      <td>1.5543</td>\n      <td>1.554300</td>\n      <td>0</td>\n      <td>0</td>\n      <td>1</td>\n      <td>...</td>\n      <td>1</td>\n      <td>0.000000</td>\n      <td>0.0</td>\n      <td>7.7715</td>\n      <td>0.0000</td>\n      <td>0.0</td>\n      <td>1.5543</td>\n      <td>0.000000</td>\n      <td>0.0</td>\n      <td>1.5543</td>\n    </tr>\n    <tr>\n      <th>77026</th>\n      <td>2019-07-31</td>\n      <td>448330186</td>\n      <td>9.7025</td>\n      <td>1</td>\n      <td>9.702500</td>\n      <td>1.9405</td>\n      <td>1.940500</td>\n      <td>0</td>\n      <td>0</td>\n      <td>1</td>\n      <td>...</td>\n      <td>1</td>\n      <td>0.000000</td>\n      <td>0.0</td>\n      <td>9.7025</td>\n      <td>0.0000</td>\n      <td>0.0</td>\n      <td>1.9405</td>\n      <td>0.000000</td>\n      <td>0.0</td>\n      <td>1.9405</td>\n    </tr>\n    <tr>\n      <th>77027</th>\n      <td>2019-07-31</td>\n      <td>448374921</td>\n      <td>17.7095</td>\n      <td>1</td>\n      <td>17.709500</td>\n      <td>3.5325</td>\n      <td>3.532500</td>\n      <td>0</td>\n      <td>0</td>\n      <td>1</td>\n      <td>...</td>\n      <td>1</td>\n      <td>0.000000</td>\n      <td>0.0</td>\n      <td>17.7095</td>\n      <td>0.0000</td>\n      <td>0.0</td>\n      <td>3.5325</td>\n      <td>0.000000</td>\n      <td>0.0</td>\n      <td>3.5325</td>\n    </tr>\n  </tbody>\n</table>\n<p>77028 rows × 25 columns</p>\n</div>"
     },
     "metadata": {},
     "execution_count": 92
    }
   ],
   "source": [
    "payments_group_date"
   ]
  },
  {
   "cell_type": "code",
   "execution_count": 62,
   "metadata": {},
   "outputs": [],
   "source": [
    "# Funcion de agregacion por ventanas de tiempo. La idea es obtener distintos valores de agregacion para distintas ventanas temporales\n",
    "# por ejemplo gasto en los ultimos tres meses, seis meses, etc.\n",
    "\n",
    "# Funcion de agregacion por ventanas de tiempo\n",
    "payments_group_date = payments.groupby([pd.Grouper(key = 'FECHA', freq = '3M'), 'CUS_CUST_ID_BUY'], as_index = True).agg(spent = ('SPENT', 'sum'), \n",
    "                                                                                                                         spent_count = ('SPENT', 'count'), \n",
    "                                                                                                                         spent_mean = ('SPENT', 'mean'), \n",
    "                                                                                                                         discount = ('DESCUENTO','sum'),\n",
    "                                                                                                                         discount_mean = ('DESCUENTO','mean'))  \n",
    "payments_group_date = payments_group_date.reset_index()\n",
    "\n",
    "# Creo un feature indicando el mes para poder crear columnas dummies con esta variable y asi obtener lo gastado y el descuento en esos meses\n",
    "payments_group_date['MES'] = [str(x.month) for x in payments_group_date['FECHA']]\n",
    "k = len(payments_group_date['MES'].unique())\n",
    "\n",
    "# Spent \n",
    "payments_group_date_spent = pd.get_dummies(payments_group_date, columns = ['MES'])\n",
    "payments_group_date_spent.iloc[:,-k:] = payments_group_date_spent.iloc[:,-k:].multiply(payments_group_date_spent['spent'], axis = 'index')\n",
    "\n",
    "# Spent count\n",
    "payments_group_date_spent_count = pd.get_dummies(payments_group_date, columns = ['MES'])\n",
    "payments_group_date_spent_count.iloc[:,-k:] = payments_group_date_spent_count.iloc[:,-k:].multiply(payments_group_date_spent_count['spent_count'], axis = 'index')\n",
    "\n",
    "# Spent mean\n",
    "payments_group_date_spent_mean = pd.get_dummies(payments_group_date, columns = ['MES'])\n",
    "payments_group_date_spent_mean.iloc[:,-k:] = payments_group_date_spent_mean.iloc[:,-k:].multiply(payments_group_date_spent_mean['spent_mean'], axis = 'index')\n",
    "\n",
    "# Discount \n",
    "payments_group_date_discount = pd.get_dummies(payments_group_date, columns = ['MES'])\n",
    "payments_group_date_discount.iloc[:,-k:] = payments_group_date_discount.iloc[:,-k:].multiply(payments_group_date_discount['discount'], axis = 'index')\n",
    "\n",
    "# Discount mean\n",
    "payments_group_date_discount_mean = pd.get_dummies(payments_group_date, columns = ['MES'])\n",
    "payments_group_date_discount_mean.iloc[:,-k:] = payments_group_date_discount_mean.iloc[:,-k:].multiply(payments_group_date_discount['discount_mean'], axis = 'index')\n",
    "\n",
    "# Paso final es agrupar todo por usuario para obtener registros unicos\n",
    "# Spent\n",
    "payments_group_date_spent = payments_group_date_spent.groupby('CUS_CUST_ID_BUY', as_index = False).sum()\n",
    "payments_group_date_spent.drop(columns = ['spent','spent_count','spent_mean','discount'], axis = 1, inplace = True)\n",
    "\n",
    "# Spent Count\n",
    "payments_group_date_spent_count = payments_group_date_spent_count.groupby('CUS_CUST_ID_BUY', as_index = False).sum()\n",
    "payments_group_date_spent_count.drop(columns = ['spent','spent_count','spent_mean','discount'], axis = 1, inplace = True)\n",
    "\n",
    "# Spent Mean\n",
    "payments_group_date_spent_mean = payments_group_date_spent_mean.groupby('CUS_CUST_ID_BUY', as_index = False).sum()\n",
    "payments_group_date_spent_mean.drop(columns = ['spent','spent_count','spent_mean','discount'], axis = 1, inplace = True)\n",
    "\n",
    "# Discount\n",
    "payments_group_date_discount = payments_group_date_discount.groupby('CUS_CUST_ID_BUY', as_index = False).sum()\n",
    "payments_group_date_discount.drop(columns = ['spent','spent_count','spent_mean','discount'], axis = 1, inplace = True)\n",
    "\n",
    "# Discount mean\n",
    "payments_group_date_discount_mean = payments_group_date_discount_mean.groupby('CUS_CUST_ID_BUY', as_index = False).sum()\n",
    "payments_group_date_discount_mean.drop(columns = ['spent','spent_count','spent_mean','discount'], axis = 1, inplace = True)\n"
   ]
  },
  {
   "cell_type": "code",
   "execution_count": 115,
   "metadata": {},
   "outputs": [
    {
     "output_type": "execute_result",
     "data": {
      "text/plain": [
       "       CUS_CUST_ID_BUY  SPENT_sum  SPENT_mean  SPENT_count  DESCUENTO_sum  \\\n",
       "0                 1276     7.6365    1.909125            4         0.0000   \n",
       "1                14525   429.3148    9.332930           46        18.6575   \n",
       "2                21230     4.4198    4.419800            1         2.2099   \n",
       "3                22083   196.6036   10.922422           18        14.9465   \n",
       "4                23513    31.1145    3.111450           10         0.0000   \n",
       "...                ...        ...         ...          ...            ...   \n",
       "43497        448290283     4.7100    4.710000            1         0.0000   \n",
       "43498        448313152     4.7100    4.710000            1         0.0000   \n",
       "43499        448326912     7.7715    7.771500            1         1.5543   \n",
       "43500        448330186     9.7025    9.702500            1         1.9405   \n",
       "43501        448374921    17.7095   17.709500            1         3.5325   \n",
       "\n",
       "       DESCUENTO_mean  \n",
       "0            0.000000  \n",
       "1            0.405598  \n",
       "2            2.209900  \n",
       "3            0.830361  \n",
       "4            0.000000  \n",
       "...               ...  \n",
       "43497        0.000000  \n",
       "43498        0.000000  \n",
       "43499        1.554300  \n",
       "43500        1.940500  \n",
       "43501        3.532500  \n",
       "\n",
       "[43502 rows x 6 columns]"
      ],
      "text/html": "<div>\n<style scoped>\n    .dataframe tbody tr th:only-of-type {\n        vertical-align: middle;\n    }\n\n    .dataframe tbody tr th {\n        vertical-align: top;\n    }\n\n    .dataframe thead th {\n        text-align: right;\n    }\n</style>\n<table border=\"1\" class=\"dataframe\">\n  <thead>\n    <tr style=\"text-align: right;\">\n      <th></th>\n      <th>CUS_CUST_ID_BUY</th>\n      <th>SPENT_sum</th>\n      <th>SPENT_mean</th>\n      <th>SPENT_count</th>\n      <th>DESCUENTO_sum</th>\n      <th>DESCUENTO_mean</th>\n    </tr>\n  </thead>\n  <tbody>\n    <tr>\n      <th>0</th>\n      <td>1276</td>\n      <td>7.6365</td>\n      <td>1.909125</td>\n      <td>4</td>\n      <td>0.0000</td>\n      <td>0.000000</td>\n    </tr>\n    <tr>\n      <th>1</th>\n      <td>14525</td>\n      <td>429.3148</td>\n      <td>9.332930</td>\n      <td>46</td>\n      <td>18.6575</td>\n      <td>0.405598</td>\n    </tr>\n    <tr>\n      <th>2</th>\n      <td>21230</td>\n      <td>4.4198</td>\n      <td>4.419800</td>\n      <td>1</td>\n      <td>2.2099</td>\n      <td>2.209900</td>\n    </tr>\n    <tr>\n      <th>3</th>\n      <td>22083</td>\n      <td>196.6036</td>\n      <td>10.922422</td>\n      <td>18</td>\n      <td>14.9465</td>\n      <td>0.830361</td>\n    </tr>\n    <tr>\n      <th>4</th>\n      <td>23513</td>\n      <td>31.1145</td>\n      <td>3.111450</td>\n      <td>10</td>\n      <td>0.0000</td>\n      <td>0.000000</td>\n    </tr>\n    <tr>\n      <th>...</th>\n      <td>...</td>\n      <td>...</td>\n      <td>...</td>\n      <td>...</td>\n      <td>...</td>\n      <td>...</td>\n    </tr>\n    <tr>\n      <th>43497</th>\n      <td>448290283</td>\n      <td>4.7100</td>\n      <td>4.710000</td>\n      <td>1</td>\n      <td>0.0000</td>\n      <td>0.000000</td>\n    </tr>\n    <tr>\n      <th>43498</th>\n      <td>448313152</td>\n      <td>4.7100</td>\n      <td>4.710000</td>\n      <td>1</td>\n      <td>0.0000</td>\n      <td>0.000000</td>\n    </tr>\n    <tr>\n      <th>43499</th>\n      <td>448326912</td>\n      <td>7.7715</td>\n      <td>7.771500</td>\n      <td>1</td>\n      <td>1.5543</td>\n      <td>1.554300</td>\n    </tr>\n    <tr>\n      <th>43500</th>\n      <td>448330186</td>\n      <td>9.7025</td>\n      <td>9.702500</td>\n      <td>1</td>\n      <td>1.9405</td>\n      <td>1.940500</td>\n    </tr>\n    <tr>\n      <th>43501</th>\n      <td>448374921</td>\n      <td>17.7095</td>\n      <td>17.709500</td>\n      <td>1</td>\n      <td>3.5325</td>\n      <td>3.532500</td>\n    </tr>\n  </tbody>\n</table>\n<p>43502 rows × 6 columns</p>\n</div>"
     },
     "metadata": {},
     "execution_count": 115
    }
   ],
   "source": [
    "payments_group_spent = payments.groupby('CUS_CUST_ID_BUY', as_index = False).agg({'SPENT':['sum','mean','count'], 'DESCUENTO':['sum','mean']},)\n",
    "payments_group_spent.columns = ['_'.join(col).strip() for col in payments_group_spent.columns.values]\n",
    "payments_group_spent.rename(columns = {'CUS_CUST_ID_BUY_':'CUS_CUST_ID_BUY'}, inplace = True)        \n",
    "payments_group_spent                                                           "
   ]
  },
  {
   "cell_type": "code",
   "execution_count": 120,
   "metadata": {},
   "outputs": [
    {
     "output_type": "execute_result",
     "data": {
      "text/plain": [
       "       CUS_CUST_ID_BUY  SPENT_sum  SPENT_mean  SPENT_count  DESCUENTO_sum  \\\n",
       "0                 1276     7.6365    1.909125            4         0.0000   \n",
       "1                14525   429.3148    9.332930           46        18.6575   \n",
       "2                21230     4.4198    4.419800            1         2.2099   \n",
       "3                22083   196.6036   10.922422           18        14.9465   \n",
       "4                23513    31.1145    3.111450           10         0.0000   \n",
       "...                ...        ...         ...          ...            ...   \n",
       "43497        448290283     4.7100    4.710000            1         0.0000   \n",
       "43498        448313152     4.7100    4.710000            1         0.0000   \n",
       "43499        448326912     7.7715    7.771500            1         1.5543   \n",
       "43500        448330186     9.7025    9.702500            1         1.9405   \n",
       "43501        448374921    17.7095   17.709500            1         3.5325   \n",
       "\n",
       "       DESCUENTO_mean    spent  discount  \n",
       "0            0.000000      NaN       NaN  \n",
       "1            0.405598  14.2774    2.8555  \n",
       "2            2.209900      NaN       NaN  \n",
       "3            0.830361  69.0491    7.7778  \n",
       "4            0.000000      NaN       NaN  \n",
       "...               ...      ...       ...  \n",
       "43497        0.000000      NaN       NaN  \n",
       "43498        0.000000      NaN       NaN  \n",
       "43499        1.554300      NaN       NaN  \n",
       "43500        1.940500      NaN       NaN  \n",
       "43501        3.532500      NaN       NaN  \n",
       "\n",
       "[43502 rows x 8 columns]"
      ],
      "text/html": "<div>\n<style scoped>\n    .dataframe tbody tr th:only-of-type {\n        vertical-align: middle;\n    }\n\n    .dataframe tbody tr th {\n        vertical-align: top;\n    }\n\n    .dataframe thead th {\n        text-align: right;\n    }\n</style>\n<table border=\"1\" class=\"dataframe\">\n  <thead>\n    <tr style=\"text-align: right;\">\n      <th></th>\n      <th>CUS_CUST_ID_BUY</th>\n      <th>SPENT_sum</th>\n      <th>SPENT_mean</th>\n      <th>SPENT_count</th>\n      <th>DESCUENTO_sum</th>\n      <th>DESCUENTO_mean</th>\n      <th>spent</th>\n      <th>discount</th>\n    </tr>\n  </thead>\n  <tbody>\n    <tr>\n      <th>0</th>\n      <td>1276</td>\n      <td>7.6365</td>\n      <td>1.909125</td>\n      <td>4</td>\n      <td>0.0000</td>\n      <td>0.000000</td>\n      <td>NaN</td>\n      <td>NaN</td>\n    </tr>\n    <tr>\n      <th>1</th>\n      <td>14525</td>\n      <td>429.3148</td>\n      <td>9.332930</td>\n      <td>46</td>\n      <td>18.6575</td>\n      <td>0.405598</td>\n      <td>14.2774</td>\n      <td>2.8555</td>\n    </tr>\n    <tr>\n      <th>2</th>\n      <td>21230</td>\n      <td>4.4198</td>\n      <td>4.419800</td>\n      <td>1</td>\n      <td>2.2099</td>\n      <td>2.209900</td>\n      <td>NaN</td>\n      <td>NaN</td>\n    </tr>\n    <tr>\n      <th>3</th>\n      <td>22083</td>\n      <td>196.6036</td>\n      <td>10.922422</td>\n      <td>18</td>\n      <td>14.9465</td>\n      <td>0.830361</td>\n      <td>69.0491</td>\n      <td>7.7778</td>\n    </tr>\n    <tr>\n      <th>4</th>\n      <td>23513</td>\n      <td>31.1145</td>\n      <td>3.111450</td>\n      <td>10</td>\n      <td>0.0000</td>\n      <td>0.000000</td>\n      <td>NaN</td>\n      <td>NaN</td>\n    </tr>\n    <tr>\n      <th>...</th>\n      <td>...</td>\n      <td>...</td>\n      <td>...</td>\n      <td>...</td>\n      <td>...</td>\n      <td>...</td>\n      <td>...</td>\n      <td>...</td>\n    </tr>\n    <tr>\n      <th>43497</th>\n      <td>448290283</td>\n      <td>4.7100</td>\n      <td>4.710000</td>\n      <td>1</td>\n      <td>0.0000</td>\n      <td>0.000000</td>\n      <td>NaN</td>\n      <td>NaN</td>\n    </tr>\n    <tr>\n      <th>43498</th>\n      <td>448313152</td>\n      <td>4.7100</td>\n      <td>4.710000</td>\n      <td>1</td>\n      <td>0.0000</td>\n      <td>0.000000</td>\n      <td>NaN</td>\n      <td>NaN</td>\n    </tr>\n    <tr>\n      <th>43499</th>\n      <td>448326912</td>\n      <td>7.7715</td>\n      <td>7.771500</td>\n      <td>1</td>\n      <td>1.5543</td>\n      <td>1.554300</td>\n      <td>NaN</td>\n      <td>NaN</td>\n    </tr>\n    <tr>\n      <th>43500</th>\n      <td>448330186</td>\n      <td>9.7025</td>\n      <td>9.702500</td>\n      <td>1</td>\n      <td>1.9405</td>\n      <td>1.940500</td>\n      <td>NaN</td>\n      <td>NaN</td>\n    </tr>\n    <tr>\n      <th>43501</th>\n      <td>448374921</td>\n      <td>17.7095</td>\n      <td>17.709500</td>\n      <td>1</td>\n      <td>3.5325</td>\n      <td>3.532500</td>\n      <td>NaN</td>\n      <td>NaN</td>\n    </tr>\n  </tbody>\n</table>\n<p>43502 rows × 8 columns</p>\n</div>"
     },
     "metadata": {},
     "execution_count": 120
    }
   ],
   "source": [
    "dates = payments_group_date['FECHA'].unique()\n",
    "subset 1= payments_group_date[payments_group_date['FECHA'] == [dates0]]\n",
    "[['CUS_CUST_ID_BUY','spent','discount']]\n",
    "\n",
    "subset2 = payments_group_date[payments_group_date['FECHA'] == dates[1]][['CUS_CUST_ID_BUY','spent','discount']]\n",
    "psubset3 = payments_group_date[payments_group_date['FECHA'] == dates[2]][['CUS_CUST_ID_BUY','spent','discount']]d.merge(payments_group_spent,  subset on = 'CUS_CUST_ID_BUY', how = 'left')"
   ]
  },
  {
   "cell_type": "code",
   "execution_count": 117,
   "metadata": {},
   "outputs": [
    {
     "output_type": "execute_result",
     "data": {
      "text/plain": [
       "            FECHA  CUS_CUST_ID_SEL  CUS_CUST_ID_BUY   SPENT  DESCUENTO  \\\n",
       "372096 2019-03-20        295153733             1276  1.2500        0.0   \n",
       "373227 2019-02-16        295153733             1276  2.5893        0.0   \n",
       "375585 2019-05-07        295153733             1276  1.1198        0.0   \n",
       "377042 2019-02-01        295153733             1276  2.6774        0.0   \n",
       "\n",
       "        segment_Cellphone Recharge  segment_Instore  segment_Money Transfer  \\\n",
       "372096                           1                0                       0   \n",
       "373227                           1                0                       0   \n",
       "375585                           1                0                       0   \n",
       "377042                           1                0                       0   \n",
       "\n",
       "        segment_Other Single Players  segment_Transport  segment_Utilities  \n",
       "372096                             0                  0                  0  \n",
       "373227                             0                  0                  0  \n",
       "375585                             0                  0                  0  \n",
       "377042                             0                  0                  0  "
      ],
      "text/html": "<div>\n<style scoped>\n    .dataframe tbody tr th:only-of-type {\n        vertical-align: middle;\n    }\n\n    .dataframe tbody tr th {\n        vertical-align: top;\n    }\n\n    .dataframe thead th {\n        text-align: right;\n    }\n</style>\n<table border=\"1\" class=\"dataframe\">\n  <thead>\n    <tr style=\"text-align: right;\">\n      <th></th>\n      <th>FECHA</th>\n      <th>CUS_CUST_ID_SEL</th>\n      <th>CUS_CUST_ID_BUY</th>\n      <th>SPENT</th>\n      <th>DESCUENTO</th>\n      <th>segment_Cellphone Recharge</th>\n      <th>segment_Instore</th>\n      <th>segment_Money Transfer</th>\n      <th>segment_Other Single Players</th>\n      <th>segment_Transport</th>\n      <th>segment_Utilities</th>\n    </tr>\n  </thead>\n  <tbody>\n    <tr>\n      <th>372096</th>\n      <td>2019-03-20</td>\n      <td>295153733</td>\n      <td>1276</td>\n      <td>1.2500</td>\n      <td>0.0</td>\n      <td>1</td>\n      <td>0</td>\n      <td>0</td>\n      <td>0</td>\n      <td>0</td>\n      <td>0</td>\n    </tr>\n    <tr>\n      <th>373227</th>\n      <td>2019-02-16</td>\n      <td>295153733</td>\n      <td>1276</td>\n      <td>2.5893</td>\n      <td>0.0</td>\n      <td>1</td>\n      <td>0</td>\n      <td>0</td>\n      <td>0</td>\n      <td>0</td>\n      <td>0</td>\n    </tr>\n    <tr>\n      <th>375585</th>\n      <td>2019-05-07</td>\n      <td>295153733</td>\n      <td>1276</td>\n      <td>1.1198</td>\n      <td>0.0</td>\n      <td>1</td>\n      <td>0</td>\n      <td>0</td>\n      <td>0</td>\n      <td>0</td>\n      <td>0</td>\n    </tr>\n    <tr>\n      <th>377042</th>\n      <td>2019-02-01</td>\n      <td>295153733</td>\n      <td>1276</td>\n      <td>2.6774</td>\n      <td>0.0</td>\n      <td>1</td>\n      <td>0</td>\n      <td>0</td>\n      <td>0</td>\n      <td>0</td>\n      <td>0</td>\n    </tr>\n  </tbody>\n</table>\n</div>"
     },
     "metadata": {},
     "execution_count": 117
    }
   ],
   "source": [
    "payments[payments['CUS_CUST_ID_BUY'] == 1276]"
   ]
  },
  {
   "cell_type": "code",
   "execution_count": null,
   "metadata": {},
   "outputs": [],
   "source": []
  }
 ]
}