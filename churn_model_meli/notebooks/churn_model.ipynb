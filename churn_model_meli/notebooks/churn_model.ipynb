{
  "nbformat": 4,
  "nbformat_minor": 0,
  "metadata": {
    "language_info": {
      "codemirror_mode": {
        "name": "ipython",
        "version": 3
      },
      "file_extension": ".py",
      "mimetype": "text/x-python",
      "name": "python",
      "nbconvert_exporter": "python",
      "pygments_lexer": "ipython3",
      "version": "3.7.9"
    },
    "orig_nbformat": 2,
    "kernelspec": {
      "name": "python379jvsc74a57bd02524886862314fd03fbe228b4b52829b788cd62de8c3763297090f09968ba99a",
      "display_name": "Python 3.7.9 64-bit"
    },
    "metadata": {
      "interpreter": {
        "hash": "2524886862314fd03fbe228b4b52829b788cd62de8c3763297090f09968ba99a"
      }
    },
    "colab": {
      "name": "churn_model.ipynb",
      "provenance": [],
      "include_colab_link": true
    },
    "accelerator": "GPU"
  },
  "cells": [
    {
      "cell_type": "markdown",
      "metadata": {
        "id": "view-in-github",
        "colab_type": "text"
      },
      "source": [
        "<a href=\"https://colab.research.google.com/github/EmilianoLS/Data-Science/blob/main/churn_model_meli/notebooks/churn_model.ipynb\" target=\"_parent\"><img src=\"https://colab.research.google.com/assets/colab-badge.svg\" alt=\"Open In Colab\"/></a>"
      ]
    },
    {
      "cell_type": "code",
      "metadata": {
        "id": "Ml32Y0tWU_Kf"
      },
      "source": [
        "# Librerias generales\n",
        "import pandas as pd\n",
        "import numpy as np \n",
        "import matplotlib.pyplot as plt\n",
        "import datetime\n",
        "# Librerias para listar archivos\n",
        "from os import listdir\n",
        "from os.path import isfile, join"
      ],
      "execution_count": 1,
      "outputs": []
    },
    {
      "cell_type": "code",
      "metadata": {
        "id": "zgOwp1lAVha-"
      },
      "source": [
        "# Defino url de los csvs\n",
        "\n",
        "url_active_user = 'https://raw.githubusercontent.com/EmilianoLS/Data-Science/main/churn_model_meli/data/ACTIVE_USER.csv'\n",
        "url_demografico = 'https://raw.githubusercontent.com/EmilianoLS/Data-Science/main/churn_model_meli/data/DEMOGRAFICOS.csv'\n",
        "url_dinero_cuenta = 'https://raw.githubusercontent.com/EmilianoLS/Data-Science/main/churn_model_meli/data/DINERO_CUENTA.csv'\n",
        "url_evaluate = 'https://raw.githubusercontent.com/EmilianoLS/Data-Science/main/churn_model_meli/data/EVALUATE.csv'\n",
        "url_marketplace_data = 'https://raw.githubusercontent.com/EmilianoLS/Data-Science/main/churn_model_meli/data/MARKETPLACE_DATA.csv'\n",
        "url_payments = 'https://raw.githubusercontent.com/EmilianoLS/Data-Science/main/churn_model_meli/data/PAYMENTS.csv'"
      ],
      "execution_count": 2,
      "outputs": []
    },
    {
      "cell_type": "markdown",
      "metadata": {
        "id": "_VDENGNPX7E0"
      },
      "source": [
        "# Corrida local"
      ]
    },
    {
      "cell_type": "code",
      "metadata": {
        "id": "nTBZhFviU_Kk"
      },
      "source": [
        "# Importo datasets\n",
        "\n",
        "#active_users = pd.read_csv('../data/ACTIVE_USER.csv') # Datos de visitas a la app\n",
        "#demograficos = pd.read_csv('../data/DEMOGRAFICOS.csv')\n",
        "#dinero_cuenta = pd.read_csv('../data/DINERO_CUENTA.csv') # Datos de la cantidad de dinero en la cuenta y si invierta\n",
        "#evaluate = pd.read_csv('../data/EVALUATE.csv')\n",
        "#marketplace_data = pd.read_csv('../data/MARKETPLACE_DATA.csv') # Movimientos en mercadolibre\n",
        "#payments = pd.read_csv('../data/PAYMENTS.csv') # Datos transaccionales en MP"
      ],
      "execution_count": 3,
      "outputs": []
    },
    {
      "cell_type": "markdown",
      "metadata": {
        "id": "ouTLoMsgX_sG"
      },
      "source": [
        "# Corrida en la nube"
      ]
    },
    {
      "cell_type": "code",
      "metadata": {
        "id": "ThBlXfWdX_Lc"
      },
      "source": [
        "# Importo datasets\n",
        "\n",
        "active_users = pd.read_csv(url_active_user) # Datos de visitas a la app\n",
        "demograficos = pd.read_csv(url_demografico)\n",
        "dinero_cuenta = pd.read_csv(url_dinero_cuenta) # Datos de la cantidad de dinero en la cuenta y si invierta\n",
        "evaluate = pd.read_csv(url_evaluate)\n",
        "marketplace_data = pd.read_csv(url_marketplace_data) # Movimientos en mercadolibre\n",
        "payments = pd.read_csv(url_payments) # Datos transaccionales en MP"
      ],
      "execution_count": 4,
      "outputs": []
    },
    {
      "cell_type": "code",
      "metadata": {
        "id": "2SIt8nXHU_Km",
        "colab": {
          "base_uri": "https://localhost:8080/",
          "height": 142
        },
        "outputId": "abf5144a-353e-43d9-a502-1a9a702bba8e"
      },
      "source": [
        "# Active users\n",
        "active_users.head(3)"
      ],
      "execution_count": 5,
      "outputs": [
        {
          "output_type": "execute_result",
          "data": {
            "text/html": [
              "<div>\n",
              "<style scoped>\n",
              "    .dataframe tbody tr th:only-of-type {\n",
              "        vertical-align: middle;\n",
              "    }\n",
              "\n",
              "    .dataframe tbody tr th {\n",
              "        vertical-align: top;\n",
              "    }\n",
              "\n",
              "    .dataframe thead th {\n",
              "        text-align: right;\n",
              "    }\n",
              "</style>\n",
              "<table border=\"1\" class=\"dataframe\">\n",
              "  <thead>\n",
              "    <tr style=\"text-align: right;\">\n",
              "      <th></th>\n",
              "      <th>CUS_CUST_ID_BUY</th>\n",
              "      <th>MAU_MP_3</th>\n",
              "      <th>MAU_ML_3</th>\n",
              "      <th>MAU_MP_2</th>\n",
              "      <th>MAU_ML_2</th>\n",
              "      <th>MAU_MP_1</th>\n",
              "      <th>MAU_ML_1</th>\n",
              "      <th>last_login_mp_date_1</th>\n",
              "      <th>last_login_ml_date_1</th>\n",
              "    </tr>\n",
              "  </thead>\n",
              "  <tbody>\n",
              "    <tr>\n",
              "      <th>0</th>\n",
              "      <td>424070401</td>\n",
              "      <td>NaN</td>\n",
              "      <td>NaN</td>\n",
              "      <td>1.0</td>\n",
              "      <td>0.0</td>\n",
              "      <td>NaN</td>\n",
              "      <td>NaN</td>\n",
              "      <td>NaN</td>\n",
              "      <td>NaN</td>\n",
              "    </tr>\n",
              "    <tr>\n",
              "      <th>1</th>\n",
              "      <td>271894453</td>\n",
              "      <td>1.0</td>\n",
              "      <td>14.0</td>\n",
              "      <td>11.0</td>\n",
              "      <td>21.0</td>\n",
              "      <td>2.0</td>\n",
              "      <td>12.0</td>\n",
              "      <td>2019-05-17</td>\n",
              "      <td>2019-05-24</td>\n",
              "    </tr>\n",
              "    <tr>\n",
              "      <th>2</th>\n",
              "      <td>327402711</td>\n",
              "      <td>NaN</td>\n",
              "      <td>NaN</td>\n",
              "      <td>0.0</td>\n",
              "      <td>10.0</td>\n",
              "      <td>4.0</td>\n",
              "      <td>26.0</td>\n",
              "      <td>2019-05-28</td>\n",
              "      <td>2019-05-31</td>\n",
              "    </tr>\n",
              "  </tbody>\n",
              "</table>\n",
              "</div>"
            ],
            "text/plain": [
              "   CUS_CUST_ID_BUY  MAU_MP_3  ...  last_login_mp_date_1  last_login_ml_date_1\n",
              "0        424070401       NaN  ...                   NaN                   NaN\n",
              "1        271894453       1.0  ...            2019-05-17            2019-05-24\n",
              "2        327402711       NaN  ...            2019-05-28            2019-05-31\n",
              "\n",
              "[3 rows x 9 columns]"
            ]
          },
          "metadata": {
            "tags": []
          },
          "execution_count": 5
        }
      ]
    },
    {
      "cell_type": "code",
      "metadata": {
        "id": "_rnp88MMU_Ko",
        "colab": {
          "base_uri": "https://localhost:8080/",
          "height": 142
        },
        "outputId": "c9d3001d-fde0-465a-c98c-7d59a52ae1d7"
      },
      "source": [
        "# Demograficos\n",
        "demograficos.head(3)"
      ],
      "execution_count": 6,
      "outputs": [
        {
          "output_type": "execute_result",
          "data": {
            "text/html": [
              "<div>\n",
              "<style scoped>\n",
              "    .dataframe tbody tr th:only-of-type {\n",
              "        vertical-align: middle;\n",
              "    }\n",
              "\n",
              "    .dataframe tbody tr th {\n",
              "        vertical-align: top;\n",
              "    }\n",
              "\n",
              "    .dataframe thead th {\n",
              "        text-align: right;\n",
              "    }\n",
              "</style>\n",
              "<table border=\"1\" class=\"dataframe\">\n",
              "  <thead>\n",
              "    <tr style=\"text-align: right;\">\n",
              "      <th></th>\n",
              "      <th>CITY</th>\n",
              "      <th>CUS_CUST_ID_BUY</th>\n",
              "      <th>GENDER</th>\n",
              "      <th>RANGO_EDAD</th>\n",
              "      <th>TARJETAS</th>\n",
              "      <th>ESTADO</th>\n",
              "    </tr>\n",
              "  </thead>\n",
              "  <tbody>\n",
              "    <tr>\n",
              "      <th>0</th>\n",
              "      <td>caba</td>\n",
              "      <td>47629682</td>\n",
              "      <td>male</td>\n",
              "      <td>03.Entre 26 y 30 años</td>\n",
              "      <td>Credit Card</td>\n",
              "      <td>capital federal</td>\n",
              "    </tr>\n",
              "    <tr>\n",
              "      <th>1</th>\n",
              "      <td>belen de escobar</td>\n",
              "      <td>184288617</td>\n",
              "      <td>male</td>\n",
              "      <td>03.Entre 26 y 30 años</td>\n",
              "      <td>Account Money</td>\n",
              "      <td>buenos aires</td>\n",
              "    </tr>\n",
              "    <tr>\n",
              "      <th>2</th>\n",
              "      <td>san fernando del valle de catamarca</td>\n",
              "      <td>134359455</td>\n",
              "      <td>female</td>\n",
              "      <td>03.Entre 26 y 30 años</td>\n",
              "      <td>Debit Card</td>\n",
              "      <td>catamarca</td>\n",
              "    </tr>\n",
              "  </tbody>\n",
              "</table>\n",
              "</div>"
            ],
            "text/plain": [
              "                                  CITY  ...           ESTADO\n",
              "0                                 caba  ...  capital federal\n",
              "1                     belen de escobar  ...     buenos aires\n",
              "2  san fernando del valle de catamarca  ...        catamarca\n",
              "\n",
              "[3 rows x 6 columns]"
            ]
          },
          "metadata": {
            "tags": []
          },
          "execution_count": 6
        }
      ]
    },
    {
      "cell_type": "code",
      "metadata": {
        "id": "DzX5aUlJU_Kp",
        "colab": {
          "base_uri": "https://localhost:8080/",
          "height": 142
        },
        "outputId": "6d4b2a61-290b-47bf-d670-9a0b5a0a7746"
      },
      "source": [
        "# Dinero en cuenta\n",
        "dinero_cuenta.head(3)"
      ],
      "execution_count": 7,
      "outputs": [
        {
          "output_type": "execute_result",
          "data": {
            "text/html": [
              "<div>\n",
              "<style scoped>\n",
              "    .dataframe tbody tr th:only-of-type {\n",
              "        vertical-align: middle;\n",
              "    }\n",
              "\n",
              "    .dataframe tbody tr th {\n",
              "        vertical-align: top;\n",
              "    }\n",
              "\n",
              "    .dataframe thead th {\n",
              "        text-align: right;\n",
              "    }\n",
              "</style>\n",
              "<table border=\"1\" class=\"dataframe\">\n",
              "  <thead>\n",
              "    <tr style=\"text-align: right;\">\n",
              "      <th></th>\n",
              "      <th>CUS_CUST_ID_BUY</th>\n",
              "      <th>PLATA_CUENTA_1</th>\n",
              "      <th>PLATA_CUENTA_2</th>\n",
              "      <th>INVERSION</th>\n",
              "    </tr>\n",
              "  </thead>\n",
              "  <tbody>\n",
              "    <tr>\n",
              "      <th>0</th>\n",
              "      <td>54018.0</td>\n",
              "      <td>250.99</td>\n",
              "      <td>0.00</td>\n",
              "      <td>pending</td>\n",
              "    </tr>\n",
              "    <tr>\n",
              "      <th>1</th>\n",
              "      <td>23513.0</td>\n",
              "      <td>20.05</td>\n",
              "      <td>2220.05</td>\n",
              "      <td>warmup</td>\n",
              "    </tr>\n",
              "    <tr>\n",
              "      <th>2</th>\n",
              "      <td>21230.0</td>\n",
              "      <td>0.00</td>\n",
              "      <td>0.00</td>\n",
              "      <td>warmup</td>\n",
              "    </tr>\n",
              "  </tbody>\n",
              "</table>\n",
              "</div>"
            ],
            "text/plain": [
              "   CUS_CUST_ID_BUY  PLATA_CUENTA_1  PLATA_CUENTA_2 INVERSION\n",
              "0          54018.0          250.99            0.00   pending\n",
              "1          23513.0           20.05         2220.05    warmup\n",
              "2          21230.0            0.00            0.00    warmup"
            ]
          },
          "metadata": {
            "tags": []
          },
          "execution_count": 7
        }
      ]
    },
    {
      "cell_type": "code",
      "metadata": {
        "id": "lAFWXXeCU_Kp",
        "colab": {
          "base_uri": "https://localhost:8080/",
          "height": 142
        },
        "outputId": "d1426dca-e54d-408f-c7d5-43d841c2e951"
      },
      "source": [
        "# Evaluate\n",
        "evaluate.head(3)"
      ],
      "execution_count": 8,
      "outputs": [
        {
          "output_type": "execute_result",
          "data": {
            "text/html": [
              "<div>\n",
              "<style scoped>\n",
              "    .dataframe tbody tr th:only-of-type {\n",
              "        vertical-align: middle;\n",
              "    }\n",
              "\n",
              "    .dataframe tbody tr th {\n",
              "        vertical-align: top;\n",
              "    }\n",
              "\n",
              "    .dataframe thead th {\n",
              "        text-align: right;\n",
              "    }\n",
              "</style>\n",
              "<table border=\"1\" class=\"dataframe\">\n",
              "  <thead>\n",
              "    <tr style=\"text-align: right;\">\n",
              "      <th></th>\n",
              "      <th>CUS_CUST_ID_BUY</th>\n",
              "      <th>churn</th>\n",
              "    </tr>\n",
              "  </thead>\n",
              "  <tbody>\n",
              "    <tr>\n",
              "      <th>0</th>\n",
              "      <td>20663512</td>\n",
              "      <td>1.0</td>\n",
              "    </tr>\n",
              "    <tr>\n",
              "      <th>1</th>\n",
              "      <td>444286946</td>\n",
              "      <td>0.0</td>\n",
              "    </tr>\n",
              "    <tr>\n",
              "      <th>2</th>\n",
              "      <td>348084528</td>\n",
              "      <td>1.0</td>\n",
              "    </tr>\n",
              "  </tbody>\n",
              "</table>\n",
              "</div>"
            ],
            "text/plain": [
              "   CUS_CUST_ID_BUY  churn\n",
              "0         20663512    1.0\n",
              "1        444286946    0.0\n",
              "2        348084528    1.0"
            ]
          },
          "metadata": {
            "tags": []
          },
          "execution_count": 8
        }
      ]
    },
    {
      "cell_type": "code",
      "metadata": {
        "id": "duRD5FUxU_Kq",
        "colab": {
          "base_uri": "https://localhost:8080/",
          "height": 142
        },
        "outputId": "81344893-7588-4d6e-ca5f-1d8401c30016"
      },
      "source": [
        "# Marketplace \n",
        "marketplace_data.head(3)"
      ],
      "execution_count": 9,
      "outputs": [
        {
          "output_type": "execute_result",
          "data": {
            "text/html": [
              "<div>\n",
              "<style scoped>\n",
              "    .dataframe tbody tr th:only-of-type {\n",
              "        vertical-align: middle;\n",
              "    }\n",
              "\n",
              "    .dataframe tbody tr th {\n",
              "        vertical-align: top;\n",
              "    }\n",
              "\n",
              "    .dataframe thead th {\n",
              "        text-align: right;\n",
              "    }\n",
              "</style>\n",
              "<table border=\"1\" class=\"dataframe\">\n",
              "  <thead>\n",
              "    <tr style=\"text-align: right;\">\n",
              "      <th></th>\n",
              "      <th>CUS_CUST_ID_BUY</th>\n",
              "      <th>SPENT_ML</th>\n",
              "      <th>RECENCY_ML</th>\n",
              "      <th>FREQUENCY_ML</th>\n",
              "    </tr>\n",
              "  </thead>\n",
              "  <tbody>\n",
              "    <tr>\n",
              "      <th>0</th>\n",
              "      <td>53621056</td>\n",
              "      <td>71.51</td>\n",
              "      <td>2019-03-30</td>\n",
              "      <td>1</td>\n",
              "    </tr>\n",
              "    <tr>\n",
              "      <th>1</th>\n",
              "      <td>308208758</td>\n",
              "      <td>269.20</td>\n",
              "      <td>2019-05-30</td>\n",
              "      <td>11</td>\n",
              "    </tr>\n",
              "    <tr>\n",
              "      <th>2</th>\n",
              "      <td>30591970</td>\n",
              "      <td>149.22</td>\n",
              "      <td>2019-03-24</td>\n",
              "      <td>4</td>\n",
              "    </tr>\n",
              "  </tbody>\n",
              "</table>\n",
              "</div>"
            ],
            "text/plain": [
              "   CUS_CUST_ID_BUY  SPENT_ML  RECENCY_ML  FREQUENCY_ML\n",
              "0         53621056     71.51  2019-03-30             1\n",
              "1        308208758    269.20  2019-05-30            11\n",
              "2         30591970    149.22  2019-03-24             4"
            ]
          },
          "metadata": {
            "tags": []
          },
          "execution_count": 9
        }
      ]
    },
    {
      "cell_type": "code",
      "metadata": {
        "id": "PBH_kCgUU_Kq",
        "colab": {
          "base_uri": "https://localhost:8080/",
          "height": 142
        },
        "outputId": "273194f6-8604-4f47-db16-a587b350dfb4"
      },
      "source": [
        "# Payments\n",
        "payments.head(3)"
      ],
      "execution_count": 10,
      "outputs": [
        {
          "output_type": "execute_result",
          "data": {
            "text/html": [
              "<div>\n",
              "<style scoped>\n",
              "    .dataframe tbody tr th:only-of-type {\n",
              "        vertical-align: middle;\n",
              "    }\n",
              "\n",
              "    .dataframe tbody tr th {\n",
              "        vertical-align: top;\n",
              "    }\n",
              "\n",
              "    .dataframe thead th {\n",
              "        text-align: right;\n",
              "    }\n",
              "</style>\n",
              "<table border=\"1\" class=\"dataframe\">\n",
              "  <thead>\n",
              "    <tr style=\"text-align: right;\">\n",
              "      <th></th>\n",
              "      <th>FECHA</th>\n",
              "      <th>CUS_CUST_ID_SEL</th>\n",
              "      <th>CUS_CUST_ID_BUY</th>\n",
              "      <th>SPENT</th>\n",
              "      <th>TPV_SEGMENT_DETAIL</th>\n",
              "      <th>DESCUENTO</th>\n",
              "    </tr>\n",
              "  </thead>\n",
              "  <tbody>\n",
              "    <tr>\n",
              "      <th>0</th>\n",
              "      <td>2019-05-25</td>\n",
              "      <td>314941456</td>\n",
              "      <td>20663512</td>\n",
              "      <td>11.3566</td>\n",
              "      <td>Instore</td>\n",
              "      <td>2.2312</td>\n",
              "    </tr>\n",
              "    <tr>\n",
              "      <th>1</th>\n",
              "      <td>2019-06-20</td>\n",
              "      <td>251693291</td>\n",
              "      <td>444286946</td>\n",
              "      <td>4.6190</td>\n",
              "      <td>Transport</td>\n",
              "      <td>0.9238</td>\n",
              "    </tr>\n",
              "    <tr>\n",
              "      <th>2</th>\n",
              "      <td>2019-01-10</td>\n",
              "      <td>251693291</td>\n",
              "      <td>20663512</td>\n",
              "      <td>5.3519</td>\n",
              "      <td>Transport</td>\n",
              "      <td>1.0704</td>\n",
              "    </tr>\n",
              "  </tbody>\n",
              "</table>\n",
              "</div>"
            ],
            "text/plain": [
              "        FECHA  CUS_CUST_ID_SEL  ...  TPV_SEGMENT_DETAIL  DESCUENTO\n",
              "0  2019-05-25        314941456  ...             Instore     2.2312\n",
              "1  2019-06-20        251693291  ...           Transport     0.9238\n",
              "2  2019-01-10        251693291  ...           Transport     1.0704\n",
              "\n",
              "[3 rows x 6 columns]"
            ]
          },
          "metadata": {
            "tags": []
          },
          "execution_count": 10
        }
      ]
    },
    {
      "cell_type": "code",
      "metadata": {
        "id": "HZzTJjnqU_Kr",
        "colab": {
          "base_uri": "https://localhost:8080/"
        },
        "outputId": "09b86d8e-b7ea-438c-fa31-27ecb37686ac"
      },
      "source": [
        "# Revision de payments dataframe\n",
        "payments.info() # La información esta ok con sus clases excepto por la fecha, se convierte a datetime"
      ],
      "execution_count": 11,
      "outputs": [
        {
          "output_type": "stream",
          "text": [
            "<class 'pandas.core.frame.DataFrame'>\n",
            "RangeIndex: 555516 entries, 0 to 555515\n",
            "Data columns (total 6 columns):\n",
            " #   Column              Non-Null Count   Dtype  \n",
            "---  ------              --------------   -----  \n",
            " 0   FECHA               555516 non-null  object \n",
            " 1   CUS_CUST_ID_SEL     555516 non-null  int64  \n",
            " 2   CUS_CUST_ID_BUY     555516 non-null  int64  \n",
            " 3   SPENT               555516 non-null  float64\n",
            " 4   TPV_SEGMENT_DETAIL  555516 non-null  object \n",
            " 5   DESCUENTO           555516 non-null  float64\n",
            "dtypes: float64(2), int64(2), object(2)\n",
            "memory usage: 25.4+ MB\n"
          ],
          "name": "stdout"
        }
      ]
    },
    {
      "cell_type": "code",
      "metadata": {
        "id": "0AwQg48uU_Kr"
      },
      "source": [
        "# Convierto la columna fecha en datetime\n",
        "payments['FECHA'] = [datetime.datetime.strptime(x, '%Y-%m-%d') for x in payments['FECHA']]"
      ],
      "execution_count": 12,
      "outputs": []
    },
    {
      "cell_type": "code",
      "metadata": {
        "id": "LtIjTyIiU_Ks"
      },
      "source": [
        "# La idea es unificar la data por usuario de forma que cada linea tenga toda la información\n",
        "# Por eso primero se dummiza el dataframe payments para que los distintos segmentos estén por columna\n",
        "\n",
        "payments = pd.get_dummies(payments, columns = ['TPV_SEGMENT_DETAIL'], prefix = ['segment'])"
      ],
      "execution_count": 13,
      "outputs": []
    },
    {
      "cell_type": "code",
      "metadata": {
        "id": "uOC7kwXpU_Ks"
      },
      "source": [
        "# Multiplico los valores de spent y discount por las variables dummies\n",
        "for col in payments.iloc[:, 5:11]:\n",
        "    name1 = col + '_spent'\n",
        "    name2 = col + '_discount'\n",
        "    payments[name1] = payments[col].multiply(payments['SPENT'], axis = 'index')\n",
        "    payments[name2] = payments[col].multiply(payments['SPENT'], axis = 'index')"
      ],
      "execution_count": 14,
      "outputs": []
    },
    {
      "cell_type": "code",
      "metadata": {
        "id": "YBCoDIMjU_Ku"
      },
      "source": [
        "#payments.iloc[:,-6:].multiply(payments['SPENT'], axis = 'index')\n",
        "\n",
        "def create_group_date(frequency):\n",
        "  grouped_data = payments.groupby([pd.Grouper(key = 'FECHA', freq = frequency), 'CUS_CUST_ID_BUY'], as_index = True).agg(\n",
        "                        segment_cellphone_recharge_total = ('segment_Cellphone Recharge', 'sum'),\n",
        "                        spent_segment_cellphone_recharge = ('segment_Cellphone Recharge_spent', 'sum'), \n",
        "                        spent_segment_cellphone_recharge_mean = ('segment_Cellphone Recharge_spent', 'mean'),\n",
        "                        spent_segment_cellphone_recharge_max = ('segment_Cellphone Recharge_spent', 'max'),\n",
        "                        segment_instore_total = ('segment_Instore','sum'),\n",
        "                        spent_segment_instore = ('segment_Instore_spent','sum'),\n",
        "                        spent_segment_instore_mean = ('segment_Instore_spent','mean'),\n",
        "                        spent_segment_instore_max = ('segment_Instore_spent','max'),\n",
        "                        segment_money_transfer_total = ('segment_Money Transfer','sum'),\n",
        "                        spent_segment_money_transfer = ('segment_Money Transfer_spent','sum'),\n",
        "                        spent_segment_money_transfer_mean = ('segment_Money Transfer_spent','mean'),\n",
        "                        spent_segment_money_transfer_max = ('segment_Money Transfer_spent','max'),\n",
        "                        segment_other_single_players_total = ('segment_Other Single Players','sum'),\n",
        "                        spent_segment_other_single_players = ('segment_Other Single Players_spent','sum'),\n",
        "                        spent_segment_other_single_players_mean = ('segment_Other Single Players_spent','mean'),\n",
        "                        spent_segment_other_single_players_max = ('segment_Other Single Players_spent','max'),\n",
        "                        segment_transport_total = ('segment_Transport', 'sum'),\n",
        "                        spent_segment_transport = ('segment_Transport_spent','sum'),\n",
        "                        spent_segment_transport_mean = ('segment_Transport_spent','mean'),\n",
        "                        spent_segment_transport_max = ('segment_Transport_spent','max'),\n",
        "                        segment_utilities_total = ('segment_Utilities','sum'),\n",
        "                        spent_segment_utilities = ('segment_Utilities_spent','sum'),\n",
        "                        spent_segment_utilities_mean = ('segment_Utilities_spent','mean'),\n",
        "                        spent_segment_utilities_max = ('segment_Utilities_spent','max'),\n",
        "                        \n",
        "                        discount_segment_cellphone_recharge = ('segment_Cellphone Recharge_discount', 'sum'), \n",
        "                        discount_segment_cellphone_recharge_mean = ('segment_Cellphone Recharge_discount', 'mean'),\n",
        "                        discount_segment_cellphone_recharge_max = ('segment_Cellphone Recharge_discount', 'max'),\n",
        "                        discount_segment_instore = ('segment_Instore_discount','sum'),\n",
        "                        discount_segment_instore_mean = ('segment_Instore_discount','mean'),\n",
        "                        discount_segment_instore_max = ('segment_Instore_discount','max'),\n",
        "                        discount_segment_money_transfer = ('segment_Money Transfer_discount','sum'),\n",
        "                        discount_segment_money_transfer_mean = ('segment_Money Transfer_discount','mean'),\n",
        "                        discount_segment_money_transfer_max = ('segment_Money Transfer_discount','max'),\n",
        "                        discount_segment_other_single_players = ('segment_Other Single Players_discount','sum'),\n",
        "                        discount_segment_other_single_players_mean = ('segment_Other Single Players_discount','mean'),\n",
        "                        discount_segment_other_single_players_max = ('segment_Other Single Players_discount','max'),\n",
        "                        discount_segment_transport = ('segment_Transport_discount','sum'),\n",
        "                        discount_segment_transport_mean = ('segment_Transport_discount','mean'),\n",
        "                        discount_segment_transport_max = ('segment_Transport_discount','max'),\n",
        "                        discount_segment_utilities = ('segment_Utilities_discount','sum'),\n",
        "                        discount_segment_utilities_mean = ('segment_Utilities_discount','mean'),\n",
        "                        discount_segment_utilities_max = ('segment_Utilities_discount','max'))\n",
        "  \n",
        "  return grouped_data"
      ],
      "execution_count": 15,
      "outputs": []
    },
    {
      "cell_type": "code",
      "metadata": {
        "id": "cZ65Rn-IU_Kt",
        "colab": {
          "base_uri": "https://localhost:8080/",
          "height": 284
        },
        "outputId": "26515cda-ed7f-4cef-f61b-7292a3285ef1"
      },
      "source": [
        "# Funcion de agregacion por ventanas de tiempo\n",
        "payments_group_date = create_group_date('3M')\n",
        "payments_group_date = payments_group_date.reset_index() \n",
        "\n",
        "# Creo la variable mes como objeto para dummizar \n",
        "payments_group_date['MES'] = [str(x.month) for x in payments_group_date['FECHA']]\n",
        "\n",
        "# Variable util para automatizar la agregacion\n",
        "k = len(payments_group_date['MES'].unique())\n",
        "\n",
        "# Creo variables dummies\n",
        "payments_group_date = pd.get_dummies(payments_group_date, columns = ['MES'])\n",
        "\n",
        "# Obtengo los indices inicial y final de las columnas dummies porque despues se iran agregando nuevas \n",
        "# columnas en la medida que las multiplique por los features obtenidos anteriormente \n",
        "max_index = payments_group_date.shape[1] - 1\n",
        "low_index = max_index  + 1 - k\n",
        "\n",
        "# Lista de columnas a elminar una vez finalizado el proceso\n",
        "drop_cols = payments_group_date.columns[2:max_index + 1].values.tolist()\n",
        "\n",
        "# Loop que ira greando una nueva columna por cada feature y variable dummie existente.\n",
        "# La idea es que se multiplica la variable dummie por el valor de cada feature \n",
        "for col1 in payments_group_date.columns[2:low_index]:\n",
        "    for col2 in payments_group_date.columns[low_index:max_index + 1]:\n",
        "        col_name = col1 + '_' + col2\n",
        "        payments_group_date[col_name] = payments_group_date[col2].multiply(payments_group_date[col1], axis = 'index')\n",
        "\n",
        "# Elimino columnas que ya no uso\n",
        "payments_group_date.drop(columns = drop_cols, axis = 1, inplace = True)\n",
        "\n",
        "# Group by customer y obtengo un registro unico por cada uno\n",
        "payments_group_date = payments_group_date.groupby('CUS_CUST_ID_BUY').sum()\n",
        "payments_group_date.head()\n"
      ],
      "execution_count": 16,
      "outputs": [
        {
          "output_type": "execute_result",
          "data": {
            "text/html": [
              "<div>\n",
              "<style scoped>\n",
              "    .dataframe tbody tr th:only-of-type {\n",
              "        vertical-align: middle;\n",
              "    }\n",
              "\n",
              "    .dataframe tbody tr th {\n",
              "        vertical-align: top;\n",
              "    }\n",
              "\n",
              "    .dataframe thead th {\n",
              "        text-align: right;\n",
              "    }\n",
              "</style>\n",
              "<table border=\"1\" class=\"dataframe\">\n",
              "  <thead>\n",
              "    <tr style=\"text-align: right;\">\n",
              "      <th></th>\n",
              "      <th>segment_cellphone_recharge_total_MES_1</th>\n",
              "      <th>segment_cellphone_recharge_total_MES_4</th>\n",
              "      <th>segment_cellphone_recharge_total_MES_7</th>\n",
              "      <th>spent_segment_cellphone_recharge_MES_1</th>\n",
              "      <th>spent_segment_cellphone_recharge_MES_4</th>\n",
              "      <th>spent_segment_cellphone_recharge_MES_7</th>\n",
              "      <th>spent_segment_cellphone_recharge_mean_MES_1</th>\n",
              "      <th>spent_segment_cellphone_recharge_mean_MES_4</th>\n",
              "      <th>spent_segment_cellphone_recharge_mean_MES_7</th>\n",
              "      <th>spent_segment_cellphone_recharge_max_MES_1</th>\n",
              "      <th>spent_segment_cellphone_recharge_max_MES_4</th>\n",
              "      <th>spent_segment_cellphone_recharge_max_MES_7</th>\n",
              "      <th>segment_instore_total_MES_1</th>\n",
              "      <th>segment_instore_total_MES_4</th>\n",
              "      <th>segment_instore_total_MES_7</th>\n",
              "      <th>spent_segment_instore_MES_1</th>\n",
              "      <th>spent_segment_instore_MES_4</th>\n",
              "      <th>spent_segment_instore_MES_7</th>\n",
              "      <th>spent_segment_instore_mean_MES_1</th>\n",
              "      <th>spent_segment_instore_mean_MES_4</th>\n",
              "      <th>spent_segment_instore_mean_MES_7</th>\n",
              "      <th>spent_segment_instore_max_MES_1</th>\n",
              "      <th>spent_segment_instore_max_MES_4</th>\n",
              "      <th>spent_segment_instore_max_MES_7</th>\n",
              "      <th>segment_money_transfer_total_MES_1</th>\n",
              "      <th>segment_money_transfer_total_MES_4</th>\n",
              "      <th>segment_money_transfer_total_MES_7</th>\n",
              "      <th>spent_segment_money_transfer_MES_1</th>\n",
              "      <th>spent_segment_money_transfer_MES_4</th>\n",
              "      <th>spent_segment_money_transfer_MES_7</th>\n",
              "      <th>spent_segment_money_transfer_mean_MES_1</th>\n",
              "      <th>spent_segment_money_transfer_mean_MES_4</th>\n",
              "      <th>spent_segment_money_transfer_mean_MES_7</th>\n",
              "      <th>spent_segment_money_transfer_max_MES_1</th>\n",
              "      <th>spent_segment_money_transfer_max_MES_4</th>\n",
              "      <th>spent_segment_money_transfer_max_MES_7</th>\n",
              "      <th>segment_other_single_players_total_MES_1</th>\n",
              "      <th>segment_other_single_players_total_MES_4</th>\n",
              "      <th>segment_other_single_players_total_MES_7</th>\n",
              "      <th>spent_segment_other_single_players_MES_1</th>\n",
              "      <th>...</th>\n",
              "      <th>discount_segment_instore_mean_MES_7</th>\n",
              "      <th>discount_segment_instore_max_MES_1</th>\n",
              "      <th>discount_segment_instore_max_MES_4</th>\n",
              "      <th>discount_segment_instore_max_MES_7</th>\n",
              "      <th>discount_segment_money_transfer_MES_1</th>\n",
              "      <th>discount_segment_money_transfer_MES_4</th>\n",
              "      <th>discount_segment_money_transfer_MES_7</th>\n",
              "      <th>discount_segment_money_transfer_mean_MES_1</th>\n",
              "      <th>discount_segment_money_transfer_mean_MES_4</th>\n",
              "      <th>discount_segment_money_transfer_mean_MES_7</th>\n",
              "      <th>discount_segment_money_transfer_max_MES_1</th>\n",
              "      <th>discount_segment_money_transfer_max_MES_4</th>\n",
              "      <th>discount_segment_money_transfer_max_MES_7</th>\n",
              "      <th>discount_segment_other_single_players_MES_1</th>\n",
              "      <th>discount_segment_other_single_players_MES_4</th>\n",
              "      <th>discount_segment_other_single_players_MES_7</th>\n",
              "      <th>discount_segment_other_single_players_mean_MES_1</th>\n",
              "      <th>discount_segment_other_single_players_mean_MES_4</th>\n",
              "      <th>discount_segment_other_single_players_mean_MES_7</th>\n",
              "      <th>discount_segment_other_single_players_max_MES_1</th>\n",
              "      <th>discount_segment_other_single_players_max_MES_4</th>\n",
              "      <th>discount_segment_other_single_players_max_MES_7</th>\n",
              "      <th>discount_segment_transport_MES_1</th>\n",
              "      <th>discount_segment_transport_MES_4</th>\n",
              "      <th>discount_segment_transport_MES_7</th>\n",
              "      <th>discount_segment_transport_mean_MES_1</th>\n",
              "      <th>discount_segment_transport_mean_MES_4</th>\n",
              "      <th>discount_segment_transport_mean_MES_7</th>\n",
              "      <th>discount_segment_transport_max_MES_1</th>\n",
              "      <th>discount_segment_transport_max_MES_4</th>\n",
              "      <th>discount_segment_transport_max_MES_7</th>\n",
              "      <th>discount_segment_utilities_MES_1</th>\n",
              "      <th>discount_segment_utilities_MES_4</th>\n",
              "      <th>discount_segment_utilities_MES_7</th>\n",
              "      <th>discount_segment_utilities_mean_MES_1</th>\n",
              "      <th>discount_segment_utilities_mean_MES_4</th>\n",
              "      <th>discount_segment_utilities_mean_MES_7</th>\n",
              "      <th>discount_segment_utilities_max_MES_1</th>\n",
              "      <th>discount_segment_utilities_max_MES_4</th>\n",
              "      <th>discount_segment_utilities_max_MES_7</th>\n",
              "    </tr>\n",
              "    <tr>\n",
              "      <th>CUS_CUST_ID_BUY</th>\n",
              "      <th></th>\n",
              "      <th></th>\n",
              "      <th></th>\n",
              "      <th></th>\n",
              "      <th></th>\n",
              "      <th></th>\n",
              "      <th></th>\n",
              "      <th></th>\n",
              "      <th></th>\n",
              "      <th></th>\n",
              "      <th></th>\n",
              "      <th></th>\n",
              "      <th></th>\n",
              "      <th></th>\n",
              "      <th></th>\n",
              "      <th></th>\n",
              "      <th></th>\n",
              "      <th></th>\n",
              "      <th></th>\n",
              "      <th></th>\n",
              "      <th></th>\n",
              "      <th></th>\n",
              "      <th></th>\n",
              "      <th></th>\n",
              "      <th></th>\n",
              "      <th></th>\n",
              "      <th></th>\n",
              "      <th></th>\n",
              "      <th></th>\n",
              "      <th></th>\n",
              "      <th></th>\n",
              "      <th></th>\n",
              "      <th></th>\n",
              "      <th></th>\n",
              "      <th></th>\n",
              "      <th></th>\n",
              "      <th></th>\n",
              "      <th></th>\n",
              "      <th></th>\n",
              "      <th></th>\n",
              "      <th></th>\n",
              "      <th></th>\n",
              "      <th></th>\n",
              "      <th></th>\n",
              "      <th></th>\n",
              "      <th></th>\n",
              "      <th></th>\n",
              "      <th></th>\n",
              "      <th></th>\n",
              "      <th></th>\n",
              "      <th></th>\n",
              "      <th></th>\n",
              "      <th></th>\n",
              "      <th></th>\n",
              "      <th></th>\n",
              "      <th></th>\n",
              "      <th></th>\n",
              "      <th></th>\n",
              "      <th></th>\n",
              "      <th></th>\n",
              "      <th></th>\n",
              "      <th></th>\n",
              "      <th></th>\n",
              "      <th></th>\n",
              "      <th></th>\n",
              "      <th></th>\n",
              "      <th></th>\n",
              "      <th></th>\n",
              "      <th></th>\n",
              "      <th></th>\n",
              "      <th></th>\n",
              "      <th></th>\n",
              "      <th></th>\n",
              "      <th></th>\n",
              "      <th></th>\n",
              "      <th></th>\n",
              "      <th></th>\n",
              "      <th></th>\n",
              "      <th></th>\n",
              "      <th></th>\n",
              "      <th></th>\n",
              "    </tr>\n",
              "  </thead>\n",
              "  <tbody>\n",
              "    <tr>\n",
              "      <th>1276</th>\n",
              "      <td>0.0</td>\n",
              "      <td>3.0</td>\n",
              "      <td>1.0</td>\n",
              "      <td>0.0</td>\n",
              "      <td>6.5167</td>\n",
              "      <td>1.1198</td>\n",
              "      <td>0.0</td>\n",
              "      <td>2.172233</td>\n",
              "      <td>1.1198</td>\n",
              "      <td>0.0</td>\n",
              "      <td>2.6774</td>\n",
              "      <td>1.1198</td>\n",
              "      <td>0.0</td>\n",
              "      <td>0.0</td>\n",
              "      <td>0.0</td>\n",
              "      <td>0.0000</td>\n",
              "      <td>0.0000</td>\n",
              "      <td>0.0000</td>\n",
              "      <td>0.000000</td>\n",
              "      <td>0.00000</td>\n",
              "      <td>0.00000</td>\n",
              "      <td>0.0000</td>\n",
              "      <td>0.0000</td>\n",
              "      <td>0.0000</td>\n",
              "      <td>0</td>\n",
              "      <td>0</td>\n",
              "      <td>0</td>\n",
              "      <td>0.0</td>\n",
              "      <td>0.0000</td>\n",
              "      <td>0.0</td>\n",
              "      <td>0.0</td>\n",
              "      <td>0.0000</td>\n",
              "      <td>0.0</td>\n",
              "      <td>0.0</td>\n",
              "      <td>0.000</td>\n",
              "      <td>0.0</td>\n",
              "      <td>0</td>\n",
              "      <td>0</td>\n",
              "      <td>0</td>\n",
              "      <td>0.0</td>\n",
              "      <td>...</td>\n",
              "      <td>0.00000</td>\n",
              "      <td>0.0000</td>\n",
              "      <td>0.0000</td>\n",
              "      <td>0.0000</td>\n",
              "      <td>0.0</td>\n",
              "      <td>0.0000</td>\n",
              "      <td>0.0</td>\n",
              "      <td>0.0</td>\n",
              "      <td>0.0000</td>\n",
              "      <td>0.0</td>\n",
              "      <td>0.0</td>\n",
              "      <td>0.000</td>\n",
              "      <td>0.0</td>\n",
              "      <td>0.0</td>\n",
              "      <td>0.0</td>\n",
              "      <td>0.0</td>\n",
              "      <td>0.0</td>\n",
              "      <td>0.0</td>\n",
              "      <td>0.0</td>\n",
              "      <td>0.0</td>\n",
              "      <td>0.0</td>\n",
              "      <td>0.0</td>\n",
              "      <td>0.0</td>\n",
              "      <td>0.0000</td>\n",
              "      <td>0.0000</td>\n",
              "      <td>0.0</td>\n",
              "      <td>0.000000</td>\n",
              "      <td>0.00000</td>\n",
              "      <td>0.0</td>\n",
              "      <td>0.0000</td>\n",
              "      <td>0.0000</td>\n",
              "      <td>0.0</td>\n",
              "      <td>0.0</td>\n",
              "      <td>0.0</td>\n",
              "      <td>0.0</td>\n",
              "      <td>0.0</td>\n",
              "      <td>0.0</td>\n",
              "      <td>0.0</td>\n",
              "      <td>0.0</td>\n",
              "      <td>0.0</td>\n",
              "    </tr>\n",
              "    <tr>\n",
              "      <th>14525</th>\n",
              "      <td>0.0</td>\n",
              "      <td>0.0</td>\n",
              "      <td>0.0</td>\n",
              "      <td>0.0</td>\n",
              "      <td>0.0000</td>\n",
              "      <td>0.0000</td>\n",
              "      <td>0.0</td>\n",
              "      <td>0.000000</td>\n",
              "      <td>0.0000</td>\n",
              "      <td>0.0</td>\n",
              "      <td>0.0000</td>\n",
              "      <td>0.0000</td>\n",
              "      <td>2.0</td>\n",
              "      <td>29.0</td>\n",
              "      <td>15.0</td>\n",
              "      <td>14.2774</td>\n",
              "      <td>271.9272</td>\n",
              "      <td>143.1102</td>\n",
              "      <td>7.138700</td>\n",
              "      <td>9.37680</td>\n",
              "      <td>9.54068</td>\n",
              "      <td>7.4721</td>\n",
              "      <td>44.5911</td>\n",
              "      <td>48.3925</td>\n",
              "      <td>0</td>\n",
              "      <td>0</td>\n",
              "      <td>0</td>\n",
              "      <td>0.0</td>\n",
              "      <td>0.0000</td>\n",
              "      <td>0.0</td>\n",
              "      <td>0.0</td>\n",
              "      <td>0.0000</td>\n",
              "      <td>0.0</td>\n",
              "      <td>0.0</td>\n",
              "      <td>0.000</td>\n",
              "      <td>0.0</td>\n",
              "      <td>0</td>\n",
              "      <td>0</td>\n",
              "      <td>0</td>\n",
              "      <td>0.0</td>\n",
              "      <td>...</td>\n",
              "      <td>9.54068</td>\n",
              "      <td>7.4721</td>\n",
              "      <td>44.5911</td>\n",
              "      <td>48.3925</td>\n",
              "      <td>0.0</td>\n",
              "      <td>0.0000</td>\n",
              "      <td>0.0</td>\n",
              "      <td>0.0</td>\n",
              "      <td>0.0000</td>\n",
              "      <td>0.0</td>\n",
              "      <td>0.0</td>\n",
              "      <td>0.000</td>\n",
              "      <td>0.0</td>\n",
              "      <td>0.0</td>\n",
              "      <td>0.0</td>\n",
              "      <td>0.0</td>\n",
              "      <td>0.0</td>\n",
              "      <td>0.0</td>\n",
              "      <td>0.0</td>\n",
              "      <td>0.0</td>\n",
              "      <td>0.0</td>\n",
              "      <td>0.0</td>\n",
              "      <td>0.0</td>\n",
              "      <td>0.0000</td>\n",
              "      <td>0.0000</td>\n",
              "      <td>0.0</td>\n",
              "      <td>0.000000</td>\n",
              "      <td>0.00000</td>\n",
              "      <td>0.0</td>\n",
              "      <td>0.0000</td>\n",
              "      <td>0.0000</td>\n",
              "      <td>0.0</td>\n",
              "      <td>0.0</td>\n",
              "      <td>0.0</td>\n",
              "      <td>0.0</td>\n",
              "      <td>0.0</td>\n",
              "      <td>0.0</td>\n",
              "      <td>0.0</td>\n",
              "      <td>0.0</td>\n",
              "      <td>0.0</td>\n",
              "    </tr>\n",
              "    <tr>\n",
              "      <th>21230</th>\n",
              "      <td>0.0</td>\n",
              "      <td>0.0</td>\n",
              "      <td>0.0</td>\n",
              "      <td>0.0</td>\n",
              "      <td>0.0000</td>\n",
              "      <td>0.0000</td>\n",
              "      <td>0.0</td>\n",
              "      <td>0.000000</td>\n",
              "      <td>0.0000</td>\n",
              "      <td>0.0</td>\n",
              "      <td>0.0000</td>\n",
              "      <td>0.0000</td>\n",
              "      <td>0.0</td>\n",
              "      <td>0.0</td>\n",
              "      <td>0.0</td>\n",
              "      <td>0.0000</td>\n",
              "      <td>0.0000</td>\n",
              "      <td>0.0000</td>\n",
              "      <td>0.000000</td>\n",
              "      <td>0.00000</td>\n",
              "      <td>0.00000</td>\n",
              "      <td>0.0000</td>\n",
              "      <td>0.0000</td>\n",
              "      <td>0.0000</td>\n",
              "      <td>0</td>\n",
              "      <td>0</td>\n",
              "      <td>0</td>\n",
              "      <td>0.0</td>\n",
              "      <td>0.0000</td>\n",
              "      <td>0.0</td>\n",
              "      <td>0.0</td>\n",
              "      <td>0.0000</td>\n",
              "      <td>0.0</td>\n",
              "      <td>0.0</td>\n",
              "      <td>0.000</td>\n",
              "      <td>0.0</td>\n",
              "      <td>0</td>\n",
              "      <td>0</td>\n",
              "      <td>0</td>\n",
              "      <td>0.0</td>\n",
              "      <td>...</td>\n",
              "      <td>0.00000</td>\n",
              "      <td>0.0000</td>\n",
              "      <td>0.0000</td>\n",
              "      <td>0.0000</td>\n",
              "      <td>0.0</td>\n",
              "      <td>0.0000</td>\n",
              "      <td>0.0</td>\n",
              "      <td>0.0</td>\n",
              "      <td>0.0000</td>\n",
              "      <td>0.0</td>\n",
              "      <td>0.0</td>\n",
              "      <td>0.000</td>\n",
              "      <td>0.0</td>\n",
              "      <td>0.0</td>\n",
              "      <td>0.0</td>\n",
              "      <td>0.0</td>\n",
              "      <td>0.0</td>\n",
              "      <td>0.0</td>\n",
              "      <td>0.0</td>\n",
              "      <td>0.0</td>\n",
              "      <td>0.0</td>\n",
              "      <td>0.0</td>\n",
              "      <td>0.0</td>\n",
              "      <td>0.0000</td>\n",
              "      <td>4.4198</td>\n",
              "      <td>0.0</td>\n",
              "      <td>0.000000</td>\n",
              "      <td>4.41980</td>\n",
              "      <td>0.0</td>\n",
              "      <td>0.0000</td>\n",
              "      <td>4.4198</td>\n",
              "      <td>0.0</td>\n",
              "      <td>0.0</td>\n",
              "      <td>0.0</td>\n",
              "      <td>0.0</td>\n",
              "      <td>0.0</td>\n",
              "      <td>0.0</td>\n",
              "      <td>0.0</td>\n",
              "      <td>0.0</td>\n",
              "      <td>0.0</td>\n",
              "    </tr>\n",
              "    <tr>\n",
              "      <th>22083</th>\n",
              "      <td>0.0</td>\n",
              "      <td>0.0</td>\n",
              "      <td>0.0</td>\n",
              "      <td>0.0</td>\n",
              "      <td>0.0000</td>\n",
              "      <td>0.0000</td>\n",
              "      <td>0.0</td>\n",
              "      <td>0.000000</td>\n",
              "      <td>0.0000</td>\n",
              "      <td>0.0</td>\n",
              "      <td>0.0000</td>\n",
              "      <td>0.0000</td>\n",
              "      <td>3.0</td>\n",
              "      <td>6.0</td>\n",
              "      <td>3.0</td>\n",
              "      <td>69.0491</td>\n",
              "      <td>52.1865</td>\n",
              "      <td>53.9070</td>\n",
              "      <td>23.016367</td>\n",
              "      <td>5.21865</td>\n",
              "      <td>10.78140</td>\n",
              "      <td>36.0177</td>\n",
              "      <td>15.1248</td>\n",
              "      <td>28.1215</td>\n",
              "      <td>0</td>\n",
              "      <td>0</td>\n",
              "      <td>0</td>\n",
              "      <td>0.0</td>\n",
              "      <td>0.0000</td>\n",
              "      <td>0.0</td>\n",
              "      <td>0.0</td>\n",
              "      <td>0.0000</td>\n",
              "      <td>0.0</td>\n",
              "      <td>0.0</td>\n",
              "      <td>0.000</td>\n",
              "      <td>0.0</td>\n",
              "      <td>0</td>\n",
              "      <td>0</td>\n",
              "      <td>0</td>\n",
              "      <td>0.0</td>\n",
              "      <td>...</td>\n",
              "      <td>10.78140</td>\n",
              "      <td>36.0177</td>\n",
              "      <td>15.1248</td>\n",
              "      <td>28.1215</td>\n",
              "      <td>0.0</td>\n",
              "      <td>0.0000</td>\n",
              "      <td>0.0</td>\n",
              "      <td>0.0</td>\n",
              "      <td>0.0000</td>\n",
              "      <td>0.0</td>\n",
              "      <td>0.0</td>\n",
              "      <td>0.000</td>\n",
              "      <td>0.0</td>\n",
              "      <td>0.0</td>\n",
              "      <td>0.0</td>\n",
              "      <td>0.0</td>\n",
              "      <td>0.0</td>\n",
              "      <td>0.0</td>\n",
              "      <td>0.0</td>\n",
              "      <td>0.0</td>\n",
              "      <td>0.0</td>\n",
              "      <td>0.0</td>\n",
              "      <td>0.0</td>\n",
              "      <td>13.5931</td>\n",
              "      <td>7.8679</td>\n",
              "      <td>0.0</td>\n",
              "      <td>1.359310</td>\n",
              "      <td>1.57358</td>\n",
              "      <td>0.0</td>\n",
              "      <td>5.9270</td>\n",
              "      <td>4.5485</td>\n",
              "      <td>0.0</td>\n",
              "      <td>0.0</td>\n",
              "      <td>0.0</td>\n",
              "      <td>0.0</td>\n",
              "      <td>0.0</td>\n",
              "      <td>0.0</td>\n",
              "      <td>0.0</td>\n",
              "      <td>0.0</td>\n",
              "      <td>0.0</td>\n",
              "    </tr>\n",
              "    <tr>\n",
              "      <th>23513</th>\n",
              "      <td>0.0</td>\n",
              "      <td>0.0</td>\n",
              "      <td>1.0</td>\n",
              "      <td>0.0</td>\n",
              "      <td>0.0000</td>\n",
              "      <td>0.4459</td>\n",
              "      <td>0.0</td>\n",
              "      <td>0.000000</td>\n",
              "      <td>0.4459</td>\n",
              "      <td>0.0</td>\n",
              "      <td>0.0000</td>\n",
              "      <td>0.4459</td>\n",
              "      <td>0.0</td>\n",
              "      <td>0.0</td>\n",
              "      <td>0.0</td>\n",
              "      <td>0.0000</td>\n",
              "      <td>0.0000</td>\n",
              "      <td>0.0000</td>\n",
              "      <td>0.000000</td>\n",
              "      <td>0.00000</td>\n",
              "      <td>0.00000</td>\n",
              "      <td>0.0000</td>\n",
              "      <td>0.0000</td>\n",
              "      <td>0.0000</td>\n",
              "      <td>0</td>\n",
              "      <td>2</td>\n",
              "      <td>0</td>\n",
              "      <td>0.0</td>\n",
              "      <td>11.2077</td>\n",
              "      <td>0.0</td>\n",
              "      <td>0.0</td>\n",
              "      <td>1.2453</td>\n",
              "      <td>0.0</td>\n",
              "      <td>0.0</td>\n",
              "      <td>11.043</td>\n",
              "      <td>0.0</td>\n",
              "      <td>0</td>\n",
              "      <td>0</td>\n",
              "      <td>0</td>\n",
              "      <td>0.0</td>\n",
              "      <td>...</td>\n",
              "      <td>0.00000</td>\n",
              "      <td>0.0000</td>\n",
              "      <td>0.0000</td>\n",
              "      <td>0.0000</td>\n",
              "      <td>0.0</td>\n",
              "      <td>11.2077</td>\n",
              "      <td>0.0</td>\n",
              "      <td>0.0</td>\n",
              "      <td>1.2453</td>\n",
              "      <td>0.0</td>\n",
              "      <td>0.0</td>\n",
              "      <td>11.043</td>\n",
              "      <td>0.0</td>\n",
              "      <td>0.0</td>\n",
              "      <td>0.0</td>\n",
              "      <td>0.0</td>\n",
              "      <td>0.0</td>\n",
              "      <td>0.0</td>\n",
              "      <td>0.0</td>\n",
              "      <td>0.0</td>\n",
              "      <td>0.0</td>\n",
              "      <td>0.0</td>\n",
              "      <td>0.0</td>\n",
              "      <td>19.4609</td>\n",
              "      <td>0.0000</td>\n",
              "      <td>0.0</td>\n",
              "      <td>2.162322</td>\n",
              "      <td>0.00000</td>\n",
              "      <td>0.0</td>\n",
              "      <td>5.0239</td>\n",
              "      <td>0.0000</td>\n",
              "      <td>0.0</td>\n",
              "      <td>0.0</td>\n",
              "      <td>0.0</td>\n",
              "      <td>0.0</td>\n",
              "      <td>0.0</td>\n",
              "      <td>0.0</td>\n",
              "      <td>0.0</td>\n",
              "      <td>0.0</td>\n",
              "      <td>0.0</td>\n",
              "    </tr>\n",
              "  </tbody>\n",
              "</table>\n",
              "<p>5 rows × 126 columns</p>\n",
              "</div>"
            ],
            "text/plain": [
              "                 segment_cellphone_recharge_total_MES_1  ...  discount_segment_utilities_max_MES_7\n",
              "CUS_CUST_ID_BUY                                          ...                                      \n",
              "1276                                                0.0  ...                                   0.0\n",
              "14525                                               0.0  ...                                   0.0\n",
              "21230                                               0.0  ...                                   0.0\n",
              "22083                                               0.0  ...                                   0.0\n",
              "23513                                               0.0  ...                                   0.0\n",
              "\n",
              "[5 rows x 126 columns]"
            ]
          },
          "metadata": {
            "tags": []
          },
          "execution_count": 16
        }
      ]
    },
    {
      "cell_type": "code",
      "metadata": {
        "id": "GxS8IRmlU_Kx",
        "colab": {
          "base_uri": "https://localhost:8080/",
          "height": 204
        },
        "outputId": "9db48a86-308e-4970-cdd8-d9e035b11dce"
      },
      "source": [
        "# Agrupo por usuario para obtener la suma, promedio y conteo total de spent y descuento\n",
        "\n",
        "payments_group_spent = payments.groupby('CUS_CUST_ID_BUY', as_index = False).agg({'SPENT':['sum','mean','count'], 'DESCUENTO':['sum','mean']},)\n",
        "payments_group_spent.columns = ['_'.join(col).strip() for col in payments_group_spent.columns.values]\n",
        "payments_group_spent.rename(columns = {'CUS_CUST_ID_BUY_':'CUS_CUST_ID_BUY'}, inplace = True)        \n",
        "payments_group_spent .head()                                                          "
      ],
      "execution_count": 17,
      "outputs": [
        {
          "output_type": "execute_result",
          "data": {
            "text/html": [
              "<div>\n",
              "<style scoped>\n",
              "    .dataframe tbody tr th:only-of-type {\n",
              "        vertical-align: middle;\n",
              "    }\n",
              "\n",
              "    .dataframe tbody tr th {\n",
              "        vertical-align: top;\n",
              "    }\n",
              "\n",
              "    .dataframe thead th {\n",
              "        text-align: right;\n",
              "    }\n",
              "</style>\n",
              "<table border=\"1\" class=\"dataframe\">\n",
              "  <thead>\n",
              "    <tr style=\"text-align: right;\">\n",
              "      <th></th>\n",
              "      <th>CUS_CUST_ID_BUY</th>\n",
              "      <th>SPENT_sum</th>\n",
              "      <th>SPENT_mean</th>\n",
              "      <th>SPENT_count</th>\n",
              "      <th>DESCUENTO_sum</th>\n",
              "      <th>DESCUENTO_mean</th>\n",
              "    </tr>\n",
              "  </thead>\n",
              "  <tbody>\n",
              "    <tr>\n",
              "      <th>0</th>\n",
              "      <td>1276</td>\n",
              "      <td>7.6365</td>\n",
              "      <td>1.909125</td>\n",
              "      <td>4</td>\n",
              "      <td>0.0000</td>\n",
              "      <td>0.000000</td>\n",
              "    </tr>\n",
              "    <tr>\n",
              "      <th>1</th>\n",
              "      <td>14525</td>\n",
              "      <td>429.3148</td>\n",
              "      <td>9.332930</td>\n",
              "      <td>46</td>\n",
              "      <td>18.6575</td>\n",
              "      <td>0.405598</td>\n",
              "    </tr>\n",
              "    <tr>\n",
              "      <th>2</th>\n",
              "      <td>21230</td>\n",
              "      <td>4.4198</td>\n",
              "      <td>4.419800</td>\n",
              "      <td>1</td>\n",
              "      <td>2.2099</td>\n",
              "      <td>2.209900</td>\n",
              "    </tr>\n",
              "    <tr>\n",
              "      <th>3</th>\n",
              "      <td>22083</td>\n",
              "      <td>196.6036</td>\n",
              "      <td>10.922422</td>\n",
              "      <td>18</td>\n",
              "      <td>14.9465</td>\n",
              "      <td>0.830361</td>\n",
              "    </tr>\n",
              "    <tr>\n",
              "      <th>4</th>\n",
              "      <td>23513</td>\n",
              "      <td>31.1145</td>\n",
              "      <td>3.111450</td>\n",
              "      <td>10</td>\n",
              "      <td>0.0000</td>\n",
              "      <td>0.000000</td>\n",
              "    </tr>\n",
              "  </tbody>\n",
              "</table>\n",
              "</div>"
            ],
            "text/plain": [
              "   CUS_CUST_ID_BUY  SPENT_sum  ...  DESCUENTO_sum  DESCUENTO_mean\n",
              "0             1276     7.6365  ...         0.0000        0.000000\n",
              "1            14525   429.3148  ...        18.6575        0.405598\n",
              "2            21230     4.4198  ...         2.2099        2.209900\n",
              "3            22083   196.6036  ...        14.9465        0.830361\n",
              "4            23513    31.1145  ...         0.0000        0.000000\n",
              "\n",
              "[5 rows x 6 columns]"
            ]
          },
          "metadata": {
            "tags": []
          },
          "execution_count": 17
        }
      ]
    },
    {
      "cell_type": "code",
      "metadata": {
        "id": "30xeT29SU_K0"
      },
      "source": [
        "# Final payments data\n",
        "final_payments = pd.merge(payments_group_spent, payments_group_date, on = 'CUS_CUST_ID_BUY', how = 'left')\n",
        "\n",
        "# Join con active users para entender su actividad en las apps\n",
        "final_payments = pd.merge(final_payments, active_users, on = 'CUS_CUST_ID_BUY', how = 'left')\n",
        "\n",
        "# Join con demograficos para obtener datos de los usuarios\n",
        "final_payments = pd.merge(final_payments, demograficos, on = 'CUS_CUST_ID_BUY', how = 'left')\n",
        "\n",
        "# Join con dinero cuenta para ver los movimientos de los usuarios\n",
        "final_payments = pd.merge(final_payments, dinero_cuenta, on = 'CUS_CUST_ID_BUY', how = 'left')\n",
        "\n",
        "# Join con marketplace data para ver actividad de los usuarios\n",
        "final_payments = pd.merge(final_payments, marketplace_data, on = 'CUS_CUST_ID_BUY', how = 'left')"
      ],
      "execution_count": 18,
      "outputs": []
    },
    {
      "cell_type": "code",
      "metadata": {
        "id": "VMo27j5fjJkw"
      },
      "source": [
        "# Las features correspondientes a fechas están como objetos asi que se cambian\n",
        "final_payments['last_login_mp_date_1'] = [datetime.datetime.strptime(x, '%Y-%m-%d') if type(x) != float else x for x in final_payments['last_login_mp_date_1']]\n",
        "final_payments['last_login_ml_date_1'] = [datetime.datetime.strptime(x, '%Y-%m-%d') if type(x) != float else x for x in final_payments['last_login_ml_date_1']]\n",
        "final_payments['RECENCY_ML'] = [datetime.datetime.strptime(x, '%Y-%m-%d') if type(x) != float else x for x in final_payments['RECENCY_ML']]"
      ],
      "execution_count": 19,
      "outputs": []
    },
    {
      "cell_type": "markdown",
      "metadata": {
        "id": "yFZE6oVo042Z"
      },
      "source": [
        "# Exploración de datos tipo *object*"
      ]
    },
    {
      "cell_type": "code",
      "metadata": {
        "id": "tKfFsubvthLO",
        "colab": {
          "base_uri": "https://localhost:8080/"
        },
        "outputId": "4223575a-95bf-4bd7-de28-d38026ebd8e3"
      },
      "source": [
        "# Numero de valores nulos para cada uno de los atributos\n",
        "final_payments.select_dtypes(include = 'object').isna().sum()"
      ],
      "execution_count": 20,
      "outputs": [
        {
          "output_type": "execute_result",
          "data": {
            "text/plain": [
              "CITY          14791\n",
              "GENDER        13036\n",
              "RANGO_EDAD    13036\n",
              "TARJETAS      13036\n",
              "ESTADO        13036\n",
              "INVERSION      2866\n",
              "dtype: int64"
            ]
          },
          "metadata": {
            "tags": []
          },
          "execution_count": 20
        }
      ]
    },
    {
      "cell_type": "code",
      "metadata": {
        "id": "bNtZcjcp4Duk",
        "colab": {
          "base_uri": "https://localhost:8080/"
        },
        "outputId": "2687aa25-4386-42d7-c9e0-3fbb63334749"
      },
      "source": [
        "# El atributo CITY es mucho más granular que el atributo ESTADO el cual tiene la información a nivel \n",
        "# provincia, lo cual es mucho más manejable. Por este motivo se decide eliminar el feature CITY\n",
        "\n",
        "print('Cantidad de ciudades unicas: {}'.format(len(final_payments.CITY.unique())))\n",
        "print('Cantidad de estados unicos: {}'.format(len(final_payments.ESTADO.unique())))"
      ],
      "execution_count": 21,
      "outputs": [
        {
          "output_type": "stream",
          "text": [
            "Cantidad de ciudades unicas: 3156\n",
            "Cantidad de estados unicos: 33\n"
          ],
          "name": "stdout"
        }
      ]
    },
    {
      "cell_type": "code",
      "metadata": {
        "id": "ZvzOmCji1uwU"
      },
      "source": [
        "# Dropeo el feature CITY\n",
        "final_payments.drop(columns = 'CITY', axis = 1, inplace = True)"
      ],
      "execution_count": 22,
      "outputs": []
    },
    {
      "cell_type": "code",
      "metadata": {
        "id": "TjonGvKC4vB4",
        "colab": {
          "base_uri": "https://localhost:8080/"
        },
        "outputId": "3798b53d-1399-4eaf-8783-876b3839cb98"
      },
      "source": [
        "final_payments.select_dtypes(include = 'object').isna().sum()/len(final_payments)"
      ],
      "execution_count": 23,
      "outputs": [
        {
          "output_type": "execute_result",
          "data": {
            "text/plain": [
              "GENDER        0.299664\n",
              "RANGO_EDAD    0.299664\n",
              "TARJETAS      0.299664\n",
              "ESTADO        0.299664\n",
              "INVERSION     0.065882\n",
              "dtype: float64"
            ]
          },
          "metadata": {
            "tags": []
          },
          "execution_count": 23
        }
      ]
    },
    {
      "cell_type": "code",
      "metadata": {
        "id": "MLO_cO284pGN",
        "colab": {
          "base_uri": "https://localhost:8080/"
        },
        "outputId": "990f2d9c-053b-4922-ad59-0addfd2537ac"
      },
      "source": [
        "# Valores en las features\n",
        "print('Valores en GENDER')\n",
        "print(final_payments.GENDER.value_counts())\n",
        "print('')\n",
        "\n",
        "print('Valores en RANGO EDAD')\n",
        "print(final_payments.RANGO_EDAD.value_counts())\n",
        "print('')\n",
        "\n",
        "print('Valores en TARJETAS')\n",
        "print(final_payments.TARJETAS.value_counts())\n",
        "print('')\n",
        "\n",
        "print('Valores en INVERSION')\n",
        "print(final_payments.INVERSION.value_counts())\n",
        "print('')"
      ],
      "execution_count": 24,
      "outputs": [
        {
          "output_type": "stream",
          "text": [
            "Valores en GENDER\n",
            "male       15914\n",
            "female     12769\n",
            "Unknown     1783\n",
            "Name: GENDER, dtype: int64\n",
            "\n",
            "Valores en RANGO EDAD\n",
            "06.Entre 41 y 55 años    6822\n",
            "04.Entre 31 y 35 años    5155\n",
            "03.Entre 26 y 30 años    5072\n",
            "05.Entre 36 y 40 años    4331\n",
            "02.Entre 18 y 25 años    4246\n",
            "00. Sin Dato             2700\n",
            "07.Entre 56 y 65 años    1545\n",
            "08.Mayor de 65 años       541\n",
            "01.Menor de 18 años        54\n",
            "Name: RANGO_EDAD, dtype: int64\n",
            "\n",
            "Valores en TARJETAS\n",
            "Credit Card         14308\n",
            "Account Money        7717\n",
            "Debit Card           7440\n",
            "Ticket                945\n",
            "Bank Transfer          20\n",
            "digital_currency       19\n",
            "ATM                    17\n",
            "Name: TARJETAS, dtype: int64\n",
            "\n",
            "Valores en INVERSION\n",
            "eligible           18101\n",
            "warmup              9933\n",
            "pending             5611\n",
            "investing           5591\n",
            "non_eligible         964\n",
            "disabled             236\n",
            "disable_pending      117\n",
            "rejected              53\n",
            "banned                30\n",
            "Name: INVERSION, dtype: int64\n",
            "\n"
          ],
          "name": "stdout"
        }
      ]
    },
    {
      "cell_type": "code",
      "metadata": {
        "id": "g1trcQHm8rcp"
      },
      "source": [
        "# Imputacion de valores nulos en GENDER y RANGO EDAD:\n",
        "# Al existir una categoria que agrupa aquellos usuarios de los cuales no se\n",
        "# tiene informacion, se imputa esta categoria a los valores nulos\n",
        "final_payments['GENDER'].fillna('Unknown', inplace = True)\n",
        "final_payments['RANGO_EDAD'].fillna('00. Sin Dato', inplace = True)\n",
        "\n",
        "# Para los valores nulos de ESTADO se toma una idea similar y se imputa un valor\n",
        "# 'Desconocido' ya que no hay forma de imputar adecuadamente este valor.\n",
        "# Quizá si los valores de 'CITY' estuviesen completos podría inferirse, pero\n",
        "# no es el caso\n",
        "final_payments['ESTADO'].fillna('Unknown', inplace = True)\n",
        "\n",
        "# Para los datos de tarjeta, la tabla de origen no tiene valores nulos, con lo cual\n",
        "# se imputan los valores nulos en el dataset final con un unknown\n",
        "final_payments['TARJETAS'].fillna('Unknown', inplace = True)"
      ],
      "execution_count": 25,
      "outputs": []
    },
    {
      "cell_type": "code",
      "metadata": {
        "id": "eIll-U-MvFSy",
        "colab": {
          "base_uri": "https://localhost:8080/",
          "height": 798
        },
        "outputId": "12869a6b-83b0-4e2e-94b2-6c45105a7571"
      },
      "source": [
        "# Para imputar los valores nulos en la actividad en las plataformas es importante\n",
        "# entender la distribución de los valores\n",
        "# Al principio, pensaba que no era posible tener valores iguales a 0 (sin actividad)\n",
        "# pero que hubiese compras. Sin embargo, se vieron resultados donde era posible.\n",
        "# Se observa la distribucion de las variables para entender que valor conviene imputar\n",
        "fig, ax = plt.subplots(nrows = 2, ncols = 3, figsize = (15,10))\n",
        "\n",
        "ax[0,0].hist(active_users['MAU_MP_1'], bins = 30)\n",
        "ax[0,1].hist(active_users['MAU_MP_2'], bins = 30)\n",
        "ax[0,2].hist(active_users['MAU_MP_3'], bins = 30)\n",
        "ax[1,0].hist(active_users['MAU_ML_1'], bins = 30)\n",
        "ax[1,1].hist(active_users['MAU_ML_2'], bins = 30)\n",
        "ax[1,2].hist(active_users['MAU_ML_3'], bins = 30)"
      ],
      "execution_count": 26,
      "outputs": [
        {
          "output_type": "execute_result",
          "data": {
            "text/plain": [
              "(array([8943., 1019., 1038., 1056., 1041., 1095., 1031., 1002.,  946.,\n",
              "         988., 1010.,  941.,  849.,  845.,  895.,  871.,  764.,  775.,\n",
              "         758.,  710.,  696.,  694.,  640.,  622.,  614.,  574.,  565.,\n",
              "         494.,  520., 1020.]),\n",
              " array([ 0.        ,  1.03333333,  2.06666667,  3.1       ,  4.13333333,\n",
              "         5.16666667,  6.2       ,  7.23333333,  8.26666667,  9.3       ,\n",
              "        10.33333333, 11.36666667, 12.4       , 13.43333333, 14.46666667,\n",
              "        15.5       , 16.53333333, 17.56666667, 18.6       , 19.63333333,\n",
              "        20.66666667, 21.7       , 22.73333333, 23.76666667, 24.8       ,\n",
              "        25.83333333, 26.86666667, 27.9       , 28.93333333, 29.96666667,\n",
              "        31.        ]),\n",
              " <a list of 30 Patch objects>)"
            ]
          },
          "metadata": {
            "tags": []
          },
          "execution_count": 26
        },
        {
          "output_type": "display_data",
          "data": {
            "image/png": "[encoded data removed]",
            "text/plain": [
              "<Figure size 1080x720 with 6 Axes>"
            ]
          },
          "metadata": {
            "tags": [],
            "needs_background": "light"
          }
        }
      ]
    },
    {
      "cell_type": "code",
      "metadata": {
        "id": "dmzsh6Qj_toa"
      },
      "source": [
        "# Imputo los valores nulos de la cantidad de veces que se ingreso en las plataformas a 0\n",
        "final_payments['MAU_ML_1'].fillna(0, inplace = True)\n",
        "final_payments['MAU_ML_2'].fillna(0, inplace = True)\n",
        "final_payments['MAU_ML_3'].fillna(0, inplace = True)\n",
        "final_payments['MAU_MP_1'].fillna(0, inplace = True)\n",
        "final_payments['MAU_MP_2'].fillna(0, inplace = True)\n",
        "final_payments['MAU_MP_3'].fillna(0, inplace = True)"
      ],
      "execution_count": 27,
      "outputs": []
    },
    {
      "cell_type": "code",
      "metadata": {
        "id": "qf_tpvAQsse8"
      },
      "source": [
        "# El dataset de PLATA_EN_CUENTA no contiene datos nulos en los features\n",
        "# de PLATA_CUENTA_1 y 2. Pero tiene usuarios faltantes, lo que lleva a suponer\n",
        "# que no tienen datos de los mismos. Por lo tanto, se imputaran los valores \n",
        "# nulos del dataset final con valores negativos en lo que es plata en cuenta\n",
        "# y en condicion de inversion se colocara 'Unknown'\n",
        "final_payments['PLATA_CUENTA_1'].fillna(-1, inplace = True)\n",
        "final_payments['PLATA_CUENTA_2'].fillna(-1, inplace = True)\n",
        "final_payments['INVERSION'].fillna('Unknown', inplace = True)"
      ],
      "execution_count": 28,
      "outputs": []
    },
    {
      "cell_type": "code",
      "metadata": {
        "id": "gL3xDkeV2etZ"
      },
      "source": [
        "# El dataset de marketplace no tiene datos nulos en los features por lo que \n",
        "# se imputan los valores en el dataset final con valores negativos\n",
        "\n",
        "final_payments['SPENT_ML'].fillna(-1, inplace = True)\n",
        "final_payments['RECENCY_ML'].fillna(datetime.datetime(1900,1,1), inplace = True)\n",
        "final_payments['FREQUENCY_ML'].fillna(-1, inplace = True)"
      ],
      "execution_count": 29,
      "outputs": []
    },
    {
      "cell_type": "code",
      "metadata": {
        "id": "Btq2s7Sq45FQ"
      },
      "source": [
        "# Para imputar los valores nulos del last login mp se crea una tabla alterna donde\n",
        "# se obtiene la ultima fecha de payment registrada y se coloca dicha fecha en los \n",
        "# valores nulos \n",
        "\n",
        "temp = payments.groupby('CUS_CUST_ID_BUY', as_index = False).agg({'FECHA':'max'})\n",
        "final_payments = pd.merge(final_payments, temp, on = 'CUS_CUST_ID_BUY', how = 'left')\n",
        "\n",
        "nan_users = final_payments[final_payments['last_login_mp_date_1'].isna()]['CUS_CUST_ID_BUY']\n",
        "for i in nan_users.index.tolist():\n",
        "  final_payments.loc[i, 'last_login_mp_date_1'] = final_payments.loc[i,'FECHA']\n",
        "\n",
        "final_payments.rename(columns = {'FECHA':'fecha_ultima_transaccion'}, inplace = True)\n",
        "final_payments['last_login_ml_date_1'].fillna(datetime.datetime(1900,1,1), inplace = True)"
      ],
      "execution_count": 30,
      "outputs": []
    },
    {
      "cell_type": "code",
      "metadata": {
        "id": "BaKsLDGrETN9"
      },
      "source": [
        "# Agrego la variable target\n",
        "final_payments = pd.merge(final_payments, evaluate, on = 'CUS_CUST_ID_BUY', how = 'left')"
      ],
      "execution_count": 31,
      "outputs": []
    },
    {
      "cell_type": "code",
      "metadata": {
        "id": "Iz14efaNHBIj",
        "colab": {
          "base_uri": "https://localhost:8080/",
          "height": 568
        },
        "outputId": "638307a7-99e4-46c1-c89a-b42deb3221ae"
      },
      "source": [
        "import seaborn as sns\n",
        "\n",
        "plt.figure(figsize = (10, 8))\n",
        "sns.countplot(final_payments['churn'])"
      ],
      "execution_count": 32,
      "outputs": [
        {
          "output_type": "stream",
          "text": [
            "/usr/local/lib/python3.7/dist-packages/seaborn/_decorators.py:43: FutureWarning: Pass the following variable as a keyword arg: x. From version 0.12, the only valid positional argument will be `data`, and passing other arguments without an explicit keyword will result in an error or misinterpretation.\n",
            "  FutureWarning\n"
          ],
          "name": "stderr"
        },
        {
          "output_type": "execute_result",
          "data": {
            "text/plain": [
              "<matplotlib.axes._subplots.AxesSubplot at 0x7f51ae355c50>"
            ]
          },
          "metadata": {
            "tags": []
          },
          "execution_count": 32
        },
        {
          "output_type": "display_data",
          "data": {
            "image/png": "[encoded data removed]",
            "text/plain": [
              "<Figure size 720x576 with 1 Axes>"
            ]
          },
          "metadata": {
            "tags": [],
            "needs_background": "light"
          }
        }
      ]
    },
    {
      "cell_type": "code",
      "metadata": {
        "id": "5YZe68PvHWYM"
      },
      "source": [
        "final_payments['dif_mp'] =  final_payments['last_login_mp_date_1'] - final_payments['fecha_ultima_transaccion']\n",
        "final_payments['dif_mp'] = [x.days for x in final_payments['dif_mp']]\n",
        "final_payments['dif_ml'] =  final_payments['last_login_ml_date_1'] - final_payments['RECENCY_ML']\n",
        "final_payments['dif_ml'] = [x.days for x in final_payments['dif_ml']]"
      ],
      "execution_count": 33,
      "outputs": []
    },
    {
      "cell_type": "code",
      "metadata": {
        "id": "b-T5WBjVPmsB"
      },
      "source": [
        "final_payments.drop(columns = ['last_login_mp_date_1','last_login_ml_date_1', \n",
        "                               'fecha_ultima_transaccion', 'RECENCY_ML'], axis = 1, inplace = True)"
      ],
      "execution_count": 34,
      "outputs": []
    },
    {
      "cell_type": "code",
      "metadata": {
        "id": "CnXB2yhJQNLf"
      },
      "source": [
        "from sklearn import preprocessing\n",
        "\n",
        "le_gender = preprocessing.LabelEncoder()\n",
        "le_rango_edad = preprocessing.LabelEncoder()\n",
        "le_tarjetas = preprocessing.LabelEncoder()\n",
        "le_estado = preprocessing.LabelEncoder()\n",
        "le_inversion = preprocessing.LabelEncoder()\n",
        "\n",
        "final_payments['GENDER'] = le_gender.fit_transform(final_payments['GENDER'])\n",
        "final_payments['RANGO_EDAD'] = le_rango_edad.fit_transform(final_payments['RANGO_EDAD'])\n",
        "final_payments['TARJETAS'] = le_tarjetas.fit_transform(final_payments['TARJETAS'])\n",
        "final_payments['ESTADO'] = le_estado.fit_transform(final_payments['ESTADO'])\n",
        "final_payments['INVERSION'] = le_inversion.fit_transform(final_payments['INVERSION'])"
      ],
      "execution_count": 35,
      "outputs": []
    },
    {
      "cell_type": "markdown",
      "metadata": {
        "id": "DzDwqFFvUJ1y"
      },
      "source": [
        "# Modeling"
      ]
    },
    {
      "cell_type": "code",
      "metadata": {
        "id": "IsuMX4tu5472"
      },
      "source": [
        "from sklearn.preprocessing import StandardScaler\n",
        "from sklearn.model_selection import train_test_split\n",
        "from sklearn.linear_model import LogisticRegression\n",
        "from sklearn.ensemble import RandomForestClassifier\n",
        "from sklearn.tree import DecisionTreeClassifier\n",
        "from sklearn.ensemble import AdaBoostClassifier\n",
        "from sklearn.naive_bayes import MultinomialNB\n",
        "from sklearn.neighbors import KNeighborsClassifier\n",
        "from sklearn.svm import SVC\n",
        "from xgboost import XGBClassifier\n",
        "from sklearn.metrics import accuracy_score\n",
        "from sklearn.metrics import roc_auc_score"
      ],
      "execution_count": 36,
      "outputs": []
    },
    {
      "cell_type": "code",
      "metadata": {
        "id": "HcTBl-4tQOOH"
      },
      "source": [
        "# Split train test \n",
        "\n",
        "X = final_payments.drop(columns = ['CUS_CUST_ID_BUY', 'churn'], axis = 1)\n",
        "y = final_payments['churn']\n",
        "\n",
        "X_train, X_test, y_train, y_test = train_test_split(X, y, test_size = 0.25, random_state=42)"
      ],
      "execution_count": 37,
      "outputs": []
    },
    {
      "cell_type": "code",
      "metadata": {
        "id": "ILjmtQ4ZRjo9"
      },
      "source": [
        "# Escalo las variables mediante una normalizacion estandar\n",
        "scaler = StandardScaler()\n",
        "\n",
        "X_train = scaler.fit_transform(X_train)\n",
        "X_test  = scaler.transform(X_test) "
      ],
      "execution_count": 38,
      "outputs": []
    },
    {
      "cell_type": "code",
      "metadata": {
        "id": "HNjpii0kUVgO",
        "colab": {
          "base_uri": "https://localhost:8080/"
        },
        "outputId": "24841836-917d-4e02-ffb2-b68c11855169"
      },
      "source": [
        "# Se evalua el Accuracy y AUC de distintos modelos \n",
        "xgb = XGBClassifier()\n",
        "rdf = RandomForestClassifier()\n",
        "adb = AdaBoostClassifier()\n",
        "\n",
        "models = [xgb, rdf, adb]\n",
        "description_models = ['XGBoost','Random Forest','AdaBoost']\n",
        "\n",
        "for model, name in zip(models, description_models):\n",
        "  print('Modelo: ', name)\n",
        "  model.fit(X_train, y_train)\n",
        "  predict = model.predict(X_test)\n",
        "  probas = model.predict_proba(X_test)\n",
        "  print(\"Accuracy Score: \", accuracy_score(y_test, predict)*100)\n",
        "  print(\"AUC Score: \", roc_auc_score(y_test, probas[:, 1])*100)"
      ],
      "execution_count": 39,
      "outputs": [
        {
          "output_type": "stream",
          "text": [
            "Modelo:  XGBoost\n",
            "Accuracy Score:  80.13056270687753\n",
            "AUC Score:  87.41414602041638\n",
            "Modelo:  Random Forest\n",
            "Accuracy Score:  79.80875321809489\n",
            "AUC Score:  86.86747472013464\n",
            "Modelo:  AdaBoost\n",
            "Accuracy Score:  79.40419271791099\n",
            "AUC Score:  86.40807016105995\n"
          ],
          "name": "stdout"
        }
      ]
    },
    {
      "cell_type": "markdown",
      "metadata": {
        "id": "aCbEStFV81aF"
      },
      "source": [
        "Aparentemente todos los modelos performan bien, especialmente si miramos el AUC. Todos cuentan con un area bajo la curva ROC de más de 0.85 en el conjunto de *evaluacion*. Por lo que se puede concluir que todos son buenas alternativas.\n",
        "\n",
        "Para asegurar que no exista ningun tipo de sobre ajuste, se corre un *cross val score* on cada uno de los modelos."
      ]
    },
    {
      "cell_type": "code",
      "metadata": {
        "id": "egTCZ7lSUlF9",
        "colab": {
          "base_uri": "https://localhost:8080/"
        },
        "outputId": "5e377b83-89b2-488d-95d5-9b478beb1bdf"
      },
      "source": [
        "from sklearn.model_selection import cross_validate\n",
        "scores_metrics = ('accuracy','precision','roc_auc')\n",
        "\n",
        "for model, name in zip(models, description_models):\n",
        "  print('Modelo: ', name) \n",
        "  scores = cross_validate(model, X_train, y_train, scoring = scores_metrics, cv = 10) # cross validating the model\n",
        "\n",
        "  # Accuracy score\n",
        "  print('Accuracy: ', scores['test_accuracy']) # accuracy scores of each cross validation cycle\n",
        "  print('Mean accuracy: ', scores['test_accuracy'].mean()*100)\n",
        "\n",
        "  # Precission score\n",
        "  print('Precision: ', scores['test_precision']) # accuracy scores of each cross validation cycle\n",
        "  print('Mean precision: ', scores['test_precision'].mean()*100)\n",
        "\n",
        "  # ROC AUC score\n",
        "  print('ROC AUC: ', scores['test_roc_auc']) # accuracy scores of each cross validation cycle\n",
        "  print('Mean ROC AUC: ', scores['test_roc_auc'].mean()*100)"
      ],
      "execution_count": null,
      "outputs": [
        {
          "output_type": "stream",
          "text": [
            "Modelo:  XGBoost\n",
            "Accuracy:  [0.80110328 0.79497395 0.79957095 0.79742568 0.80171621 0.80661968\n",
            " 0.79858982 0.79184549 0.80104231 0.81177192]\n",
            "Mean accuracy:  80.04659285792265\n",
            "Precision:  [0.84663163 0.84953591 0.85934394 0.85183374 0.85045827 0.8560349\n",
            " 0.85007278 0.8501725  0.84630072 0.86243902]\n",
            "Mean precision:  85.2282340567428\n",
            "ROC AUC:  [0.88011935 0.86715309 0.88140974 0.87019899 0.876343   0.88287229\n",
            " 0.87733546 0.86571859 0.87665601 0.88838866]\n",
            "Mean ROC AUC:  87.66195187861841\n",
            "Modelo:  Random Forest\n",
            "Accuracy:  [0.80263561 0.79160282 0.80018388 0.79619982 0.78945755 0.80692614\n",
            " 0.80165543 0.78969957 0.79675046 0.80625383]\n",
            "Mean accuracy:  79.81365111642286\n",
            "Precision:  [0.83151184 0.82961931 0.84150943 0.83828383 0.82542607 0.84410112\n",
            " 0.83932742 0.83286252 0.83125864 0.84171322]\n",
            "Mean precision:  83.55613416263891\n",
            "ROC AUC:  [0.87349896 0.86293719 0.87530156 0.86143123 0.86768149 0.87884719\n",
            " 0.87586755 0.85837288 0.87104561 0.87957606]\n",
            "Mean ROC AUC:  87.04559722561962\n",
            "Modelo:  AdaBoost\n",
            "Accuracy:  [0.79252222 0.78608642 0.80018388 0.78608642 0.79129635 0.79497395\n",
            " 0.79153893 0.78724709 0.79123237 0.80441447]\n",
            "Mean accuracy:  79.25582112431282\n",
            "Precision:  [0.84421867 0.8412853  0.86676798 0.84945165 0.84694377 0.84885422\n",
            " 0.84499514 0.8500996  0.84660479 0.85485437]\n",
            "Mean precision:  84.94075481912058\n",
            "ROC AUC:  [0.86915387 0.85946075 0.87339639 0.86055562 0.86581624 0.87277832\n",
            " 0.86725227 0.85819154 0.8676754  0.88030899]\n",
            "Mean ROC AUC:  86.74589403114061\n"
          ],
          "name": "stdout"
        }
      ]
    },
    {
      "cell_type": "markdown",
      "metadata": {
        "id": "UvuLovzCCE27"
      },
      "source": [
        "En promedio todos mantienen buenos niveles de performance, con lo cual cualquier modelo podría ser usado. Antes de elegir uno en particular (si bien el XGBoost es el más prometedor) se observan algunos gráficos comparativos."
      ]
    },
    {
      "cell_type": "code",
      "metadata": {
        "id": "D0H6EWX_DS8D",
        "colab": {
          "base_uri": "https://localhost:8080/"
        },
        "outputId": "fe12aa7f-d6be-4206-9e57-5e663af6e417"
      },
      "source": [
        "pip install scikit-plot"
      ],
      "execution_count": 40,
      "outputs": [
        {
          "output_type": "stream",
          "text": [
            "Collecting scikit-plot\n",
            "  Downloading https://files.pythonhosted.org/packages/7c/47/32520e259340c140a4ad27c1b97050dd3254fdc517b1d59974d47037510e/scikit_plot-0.3.7-py3-none-any.whl\n",
            "Requirement already satisfied: scipy>=0.9 in /usr/local/lib/python3.7/dist-packages (from scikit-plot) (1.4.1)\n",
            "Requirement already satisfied: matplotlib>=1.4.0 in /usr/local/lib/python3.7/dist-packages (from scikit-plot) (3.2.2)\n",
            "Requirement already satisfied: scikit-learn>=0.18 in /usr/local/lib/python3.7/dist-packages (from scikit-plot) (0.22.2.post1)\n",
            "Requirement already satisfied: joblib>=0.10 in /usr/local/lib/python3.7/dist-packages (from scikit-plot) (1.0.1)\n",
            "Requirement already satisfied: numpy>=1.13.3 in /usr/local/lib/python3.7/dist-packages (from scipy>=0.9->scikit-plot) (1.19.5)\n",
            "Requirement already satisfied: python-dateutil>=2.1 in /usr/local/lib/python3.7/dist-packages (from matplotlib>=1.4.0->scikit-plot) (2.8.1)\n",
            "Requirement already satisfied: kiwisolver>=1.0.1 in /usr/local/lib/python3.7/dist-packages (from matplotlib>=1.4.0->scikit-plot) (1.3.1)\n",
            "Requirement already satisfied: pyparsing!=2.0.4,!=2.1.2,!=2.1.6,>=2.0.1 in /usr/local/lib/python3.7/dist-packages (from matplotlib>=1.4.0->scikit-plot) (2.4.7)\n",
            "Requirement already satisfied: cycler>=0.10 in /usr/local/lib/python3.7/dist-packages (from matplotlib>=1.4.0->scikit-plot) (0.10.0)\n",
            "Requirement already satisfied: six>=1.5 in /usr/local/lib/python3.7/dist-packages (from python-dateutil>=2.1->matplotlib>=1.4.0->scikit-plot) (1.15.0)\n",
            "Installing collected packages: scikit-plot\n",
            "Successfully installed scikit-plot-0.3.7\n"
          ],
          "name": "stdout"
        }
      ]
    },
    {
      "cell_type": "code",
      "metadata": {
        "id": "jBYZPy6zDYar",
        "colab": {
          "base_uri": "https://localhost:8080/",
          "height": 530
        },
        "outputId": "621ae917-04f6-474c-e98b-68d4db78376f"
      },
      "source": [
        "import scikitplot as skplt\n",
        "\n",
        "fig, ax = plt.subplots(nrows = 1, ncols = 4, figsize = (30,8))\n",
        "\n",
        "proba_xgboost = xgb.fit(X_train, y_train).predict_proba(X_test)\n",
        "proba_randomf = rdf.fit(X_train, y_train).predict_proba(X_test)\n",
        "proba_adaboost = adb.fit(X_train, y_train).predict_proba(X_test)\n",
        "\n",
        "proba_list = [proba_xgboost, proba_randomf, proba_adaboost]\n",
        "skplt.metrics.plot_calibration_curve(y_test,proba_list,description_models, figsize = (10,8), ax = ax[0])\n",
        "skplt.metrics.plot_roc(y_test, proba_xgboost, ax = ax[1], title = 'ROC Curve XGBoost')\n",
        "skplt.metrics.plot_roc(y_test, proba_randomf, ax = ax[2], title = 'ROC Curve Random Forest')\n",
        "skplt.metrics.plot_roc(y_test, proba_adaboost, ax = ax[3], title = 'ROC Curve AdaBoost')"
      ],
      "execution_count": 41,
      "outputs": [
        {
          "output_type": "execute_result",
          "data": {
            "text/plain": [
              "<matplotlib.axes._subplots.AxesSubplot at 0x7fd44a78f090>"
            ]
          },
          "metadata": {
            "tags": []
          },
          "execution_count": 41
        },
        {
          "output_type": "display_data",
          "data": {
            "image/png": "[encoded data removed]",
            "text/plain": [
              "<Figure size 2160x576 with 4 Axes>"
            ]
          },
          "metadata": {
            "tags": [],
            "needs_background": "light"
          }
        }
      ]
    },
    {
      "cell_type": "markdown",
      "metadata": {
        "id": "ok4W1sc-LbCz"
      },
      "source": [
        "Los valores y formas de las curvas ROC para los tres modelos son similares por lo que desde esa perspectiva cualquier modelo es viable, tal y como se viene viendo.\n",
        "\n",
        "Sin embargo, cuando se mira la curva de calibración, se observan diferencias significativas. Por un lado, el AdaBoost se encuentra lejos de un modelo perfectamente calibrado, por lo que queda descartado. \n",
        "Por otro lado, tanto XGBoost como Random Forest son modelos que están muy bien calibrados. Sin embargo, el último se encuentra ligeramente por encima del XGBoost por lo que es el modelo seleccionado."
      ]
    },
    {
      "cell_type": "markdown",
      "metadata": {
        "id": "MR--1AOQMC6T"
      },
      "source": [
        "## Optimización de parámetros\n",
        "\n",
        "Ya seleccionado el modelo final, se procede a buscar la mejor combinacion de parámetros para ver si mejora la performance final."
      ]
    },
    {
      "cell_type": "code",
      "metadata": {
        "id": "n-ALl6vPVIUx",
        "colab": {
          "base_uri": "https://localhost:8080/"
        },
        "outputId": "ab8b559d-7d3e-4fe6-8589-f0b1c89f7822"
      },
      "source": [
        "from sklearn.model_selection import GridSearchCV\n",
        "rdf = RandomForestClassifier()\n",
        "param = dict()\n",
        "param['criterion'] = ['gini', 'entropy']\n",
        "param['n_estimators'] = [1, 2, 4, 8, 10, 16, 32, 64, 100, 200, 250, 300]\n",
        "param['min_samples_split'] = [1,2,5,8,10,15,20,25,50,55,60,80,100]\n",
        "\n",
        "\n",
        "gs = GridSearchCV(estimator = rdf, param_grid = param, scoring='f1', cv = 5, n_jobs = 3, verbose = 1)\n",
        "gs.fit(X_train, y_train)\n",
        "print(gs.best_score_)\n",
        "print(gs.best_params_)"
      ],
      "execution_count": null,
      "outputs": [
        {
          "output_type": "stream",
          "text": [
            "Fitting 5 folds for each of 312 candidates, totalling 1560 fits\n"
          ],
          "name": "stdout"
        },
        {
          "output_type": "stream",
          "text": [
            "[Parallel(n_jobs=3)]: Using backend LokyBackend with 3 concurrent workers.\n",
            "[Parallel(n_jobs=3)]: Done  92 tasks      | elapsed:   26.3s\n",
            "[Parallel(n_jobs=3)]: Done 245 tasks      | elapsed: 12.8min\n",
            "[Parallel(n_jobs=3)]: Done 495 tasks      | elapsed: 29.4min\n",
            "[Parallel(n_jobs=3)]: Done 845 tasks      | elapsed: 47.7min\n",
            "[Parallel(n_jobs=3)]: Done 1295 tasks      | elapsed: 90.2min\n",
            "[Parallel(n_jobs=3)]: Done 1560 out of 1560 | elapsed: 115.8min finished\n"
          ],
          "name": "stderr"
        },
        {
          "output_type": "stream",
          "text": [
            "0.8483892453308604\n",
            "{'criterion': 'gini', 'min_samples_split': 80, 'n_estimators': 300}\n"
          ],
          "name": "stdout"
        }
      ]
    },
    {
      "cell_type": "code",
      "metadata": {
        "id": "W0mNt-xYiiqQ",
        "colab": {
          "base_uri": "https://localhost:8080/",
          "height": 564
        },
        "outputId": "d6233d47-a6b0-4bee-acdf-d05916219751"
      },
      "source": [
        "rdf = RandomForestClassifier(criterion = 'gini', min_samples_split = 80, n_estimators = 300)\n",
        "rdf.fit(X_train, y_train)\n",
        "pred_rdf = rdf.predict(X_test)\n",
        "probas_rdf_optimized = rdf.predict_proba(X_test) \n",
        "print(\"Accuracy Score: \", accuracy_score(y_test, pred_rdf)*100)\n",
        "print(\"AUC Score: \", roc_auc_score(y_test, probas_rdf_optimized[:, 1])*100)\n",
        "\n",
        "fig, ax = plt.subplots(nrows = 1, ncols  = 2, figsize = (15,8))\n",
        "skplt.metrics.plot_roc(y_test, probas_rdf_optimized, ax = ax[0])\n",
        "skplt.metrics.plot_calibration_curve(y_test,[probas_rdf_optimized,proba_randomf],clf_names = ['Random Forest Optimized', 'Random Forest'], figsize = (10,8), ax = ax[1])"
      ],
      "execution_count": 53,
      "outputs": [
        {
          "output_type": "stream",
          "text": [
            "Accuracy Score:  80.12136815005518\n",
            "AUC Score:  87.50842552803013\n"
          ],
          "name": "stdout"
        },
        {
          "output_type": "execute_result",
          "data": {
            "text/plain": [
              "<matplotlib.axes._subplots.AxesSubplot at 0x7fd4443fcb90>"
            ]
          },
          "metadata": {
            "tags": []
          },
          "execution_count": 53
        },
        {
          "output_type": "display_data",
          "data": {
            "image/png": "[encoded data removed]",
            "text/plain": [
              "<Figure size 1080x576 with 2 Axes>"
            ]
          },
          "metadata": {
            "tags": [],
            "needs_background": "light"
          }
        }
      ]
    },
    {
      "cell_type": "markdown",
      "metadata": {
        "id": "g5bm4cTZaReE"
      },
      "source": [
        "No hubo gran mejora con la optimización de parámetros. Para intentar mejorar se aplican métodos de reducción de dimensionalidad (feature selection) y se estudia la posibilidad de realizar ingeniería de atributos creando nuevos features."
      ]
    },
    {
      "cell_type": "markdown",
      "metadata": {
        "id": "SOGHyTuCbBrk"
      },
      "source": [
        "La primera opción es aplicar el algoritmo BORUTA que busca eliminar features irrelevantes."
      ]
    },
    {
      "cell_type": "markdown",
      "metadata": {
        "id": "sNlJVn1umz0w"
      },
      "source": [
        "## Set Up BORUTA"
      ]
    },
    {
      "cell_type": "code",
      "metadata": {
        "id": "oxTJryFBnA2N",
        "colab": {
          "base_uri": "https://localhost:8080/"
        },
        "outputId": "d8d52040-d5f0-4b31-d1ea-ec615fc9202b"
      },
      "source": [
        "pip install boruta"
      ],
      "execution_count": 43,
      "outputs": [
        {
          "output_type": "stream",
          "text": [
            "Collecting boruta\n",
            "\u001b[?25l  Downloading https://files.pythonhosted.org/packages/b2/11/583f4eac99d802c79af9217e1eff56027742a69e6c866b295cce6a5a8fc2/Boruta-0.3-py3-none-any.whl (56kB)\n",
            "\u001b[K     |████████████████████████████████| 61kB 1.7MB/s \n",
            "\u001b[?25hRequirement already satisfied: scikit-learn>=0.17.1 in /usr/local/lib/python3.7/dist-packages (from boruta) (0.22.2.post1)\n",
            "Requirement already satisfied: scipy>=0.17.0 in /usr/local/lib/python3.7/dist-packages (from boruta) (1.4.1)\n",
            "Requirement already satisfied: numpy>=1.10.4 in /usr/local/lib/python3.7/dist-packages (from boruta) (1.19.5)\n",
            "Requirement already satisfied: joblib>=0.11 in /usr/local/lib/python3.7/dist-packages (from scikit-learn>=0.17.1->boruta) (1.0.1)\n",
            "Installing collected packages: boruta\n",
            "Successfully installed boruta-0.3\n"
          ],
          "name": "stdout"
        }
      ]
    },
    {
      "cell_type": "code",
      "metadata": {
        "id": "OWK4RAfX2zBp",
        "colab": {
          "base_uri": "https://localhost:8080/"
        },
        "outputId": "a197d938-549d-4479-b8d3-4bdbb8b03715"
      },
      "source": [
        "from boruta import BorutaPy\n",
        "\n",
        "#rf = RandomForestClassifier(n_jobs=-1, class_weight = 'balanced', max_depth = 5)\n",
        "boruta_feature_selector = BorutaPy(rdf, n_estimators='auto', \n",
        "                                   verbose = 2, random_state = 4242, max_iter = 50, perc = 90)\n",
        "boruta_feature_selector.fit(X_train, y_train)"
      ],
      "execution_count": 44,
      "outputs": [
        {
          "output_type": "stream",
          "text": [
            "Iteration: \t1 / 50\n",
            "Confirmed: \t0\n",
            "Tentative: \t148\n",
            "Rejected: \t0\n",
            "Iteration: \t2 / 50\n",
            "Confirmed: \t0\n",
            "Tentative: \t148\n",
            "Rejected: \t0\n",
            "Iteration: \t3 / 50\n",
            "Confirmed: \t0\n",
            "Tentative: \t148\n",
            "Rejected: \t0\n",
            "Iteration: \t4 / 50\n",
            "Confirmed: \t0\n",
            "Tentative: \t148\n",
            "Rejected: \t0\n",
            "Iteration: \t5 / 50\n",
            "Confirmed: \t0\n",
            "Tentative: \t148\n",
            "Rejected: \t0\n",
            "Iteration: \t6 / 50\n",
            "Confirmed: \t0\n",
            "Tentative: \t148\n",
            "Rejected: \t0\n",
            "Iteration: \t7 / 50\n",
            "Confirmed: \t0\n",
            "Tentative: \t148\n",
            "Rejected: \t0\n",
            "Iteration: \t8 / 50\n",
            "Confirmed: \t64\n",
            "Tentative: \t10\n",
            "Rejected: \t74\n",
            "Iteration: \t9 / 50\n",
            "Confirmed: \t64\n",
            "Tentative: \t10\n",
            "Rejected: \t74\n",
            "Iteration: \t10 / 50\n",
            "Confirmed: \t64\n",
            "Tentative: \t10\n",
            "Rejected: \t74\n",
            "Iteration: \t11 / 50\n",
            "Confirmed: \t64\n",
            "Tentative: \t10\n",
            "Rejected: \t74\n",
            "Iteration: \t12 / 50\n",
            "Confirmed: \t64\n",
            "Tentative: \t10\n",
            "Rejected: \t74\n",
            "Iteration: \t13 / 50\n",
            "Confirmed: \t64\n",
            "Tentative: \t10\n",
            "Rejected: \t74\n",
            "Iteration: \t14 / 50\n",
            "Confirmed: \t64\n",
            "Tentative: \t10\n",
            "Rejected: \t74\n",
            "Iteration: \t15 / 50\n",
            "Confirmed: \t64\n",
            "Tentative: \t10\n",
            "Rejected: \t74\n",
            "Iteration: \t16 / 50\n",
            "Confirmed: \t64\n",
            "Tentative: \t10\n",
            "Rejected: \t74\n",
            "Iteration: \t17 / 50\n",
            "Confirmed: \t64\n",
            "Tentative: \t10\n",
            "Rejected: \t74\n",
            "Iteration: \t18 / 50\n",
            "Confirmed: \t64\n",
            "Tentative: \t9\n",
            "Rejected: \t75\n",
            "Iteration: \t19 / 50\n",
            "Confirmed: \t64\n",
            "Tentative: \t9\n",
            "Rejected: \t75\n",
            "Iteration: \t20 / 50\n",
            "Confirmed: \t64\n",
            "Tentative: \t9\n",
            "Rejected: \t75\n",
            "Iteration: \t21 / 50\n",
            "Confirmed: \t64\n",
            "Tentative: \t9\n",
            "Rejected: \t75\n",
            "Iteration: \t22 / 50\n",
            "Confirmed: \t64\n",
            "Tentative: \t9\n",
            "Rejected: \t75\n",
            "Iteration: \t23 / 50\n",
            "Confirmed: \t64\n",
            "Tentative: \t9\n",
            "Rejected: \t75\n",
            "Iteration: \t24 / 50\n",
            "Confirmed: \t64\n",
            "Tentative: \t9\n",
            "Rejected: \t75\n",
            "Iteration: \t25 / 50\n",
            "Confirmed: \t64\n",
            "Tentative: \t9\n",
            "Rejected: \t75\n",
            "Iteration: \t26 / 50\n",
            "Confirmed: \t64\n",
            "Tentative: \t9\n",
            "Rejected: \t75\n",
            "Iteration: \t27 / 50\n",
            "Confirmed: \t64\n",
            "Tentative: \t9\n",
            "Rejected: \t75\n",
            "Iteration: \t28 / 50\n",
            "Confirmed: \t64\n",
            "Tentative: \t8\n",
            "Rejected: \t76\n",
            "Iteration: \t29 / 50\n",
            "Confirmed: \t64\n",
            "Tentative: \t8\n",
            "Rejected: \t76\n",
            "Iteration: \t30 / 50\n",
            "Confirmed: \t64\n",
            "Tentative: \t8\n",
            "Rejected: \t76\n",
            "Iteration: \t31 / 50\n",
            "Confirmed: \t64\n",
            "Tentative: \t7\n",
            "Rejected: \t77\n",
            "Iteration: \t32 / 50\n",
            "Confirmed: \t64\n",
            "Tentative: \t7\n",
            "Rejected: \t77\n",
            "Iteration: \t33 / 50\n",
            "Confirmed: \t64\n",
            "Tentative: \t7\n",
            "Rejected: \t77\n",
            "Iteration: \t34 / 50\n",
            "Confirmed: \t64\n",
            "Tentative: \t7\n",
            "Rejected: \t77\n",
            "Iteration: \t35 / 50\n",
            "Confirmed: \t64\n",
            "Tentative: \t7\n",
            "Rejected: \t77\n",
            "Iteration: \t36 / 50\n",
            "Confirmed: \t64\n",
            "Tentative: \t6\n",
            "Rejected: \t78\n",
            "Iteration: \t37 / 50\n",
            "Confirmed: \t64\n",
            "Tentative: \t6\n",
            "Rejected: \t78\n",
            "Iteration: \t38 / 50\n",
            "Confirmed: \t64\n",
            "Tentative: \t6\n",
            "Rejected: \t78\n",
            "Iteration: \t39 / 50\n",
            "Confirmed: \t64\n",
            "Tentative: \t6\n",
            "Rejected: \t78\n",
            "Iteration: \t40 / 50\n",
            "Confirmed: \t64\n",
            "Tentative: \t6\n",
            "Rejected: \t78\n",
            "Iteration: \t41 / 50\n",
            "Confirmed: \t64\n",
            "Tentative: \t6\n",
            "Rejected: \t78\n",
            "Iteration: \t42 / 50\n",
            "Confirmed: \t64\n",
            "Tentative: \t6\n",
            "Rejected: \t78\n",
            "Iteration: \t43 / 50\n",
            "Confirmed: \t64\n",
            "Tentative: \t6\n",
            "Rejected: \t78\n",
            "Iteration: \t44 / 50\n",
            "Confirmed: \t64\n",
            "Tentative: \t6\n",
            "Rejected: \t78\n",
            "Iteration: \t45 / 50\n",
            "Confirmed: \t64\n",
            "Tentative: \t6\n",
            "Rejected: \t78\n",
            "Iteration: \t46 / 50\n",
            "Confirmed: \t64\n",
            "Tentative: \t5\n",
            "Rejected: \t79\n",
            "Iteration: \t47 / 50\n",
            "Confirmed: \t64\n",
            "Tentative: \t5\n",
            "Rejected: \t79\n",
            "Iteration: \t48 / 50\n",
            "Confirmed: \t64\n",
            "Tentative: \t5\n",
            "Rejected: \t79\n",
            "Iteration: \t49 / 50\n",
            "Confirmed: \t64\n",
            "Tentative: \t5\n",
            "Rejected: \t79\n",
            "\n",
            "\n",
            "BorutaPy finished running.\n",
            "\n",
            "Iteration: \t50 / 50\n",
            "Confirmed: \t64\n",
            "Tentative: \t1\n",
            "Rejected: \t79\n"
          ],
          "name": "stdout"
        },
        {
          "output_type": "execute_result",
          "data": {
            "text/plain": [
              "BorutaPy(alpha=0.05,\n",
              "         estimator=RandomForestClassifier(bootstrap=True, ccp_alpha=0.0,\n",
              "                                          class_weight=None, criterion='gini',\n",
              "                                          max_depth=None, max_features='auto',\n",
              "                                          max_leaf_nodes=None, max_samples=None,\n",
              "                                          min_impurity_decrease=0.0,\n",
              "                                          min_impurity_split=None,\n",
              "                                          min_samples_leaf=1,\n",
              "                                          min_samples_split=80,\n",
              "                                          min_weight_fraction_leaf=0.0,\n",
              "                                          n_estimators=117, n_jobs=None,\n",
              "                                          oob_score=False,\n",
              "                                          random_state=RandomState(MT19937) at 0x7FD48DAFA7C0,\n",
              "                                          verbose=0, warm_start=False),\n",
              "         max_iter=50, n_estimators='auto', perc=90,\n",
              "         random_state=RandomState(MT19937) at 0x7FD48DAFA7C0, two_step=True,\n",
              "         verbose=2)"
            ]
          },
          "metadata": {
            "tags": []
          },
          "execution_count": 44
        }
      ]
    },
    {
      "cell_type": "code",
      "metadata": {
        "id": "WgIhTlhjnQkk"
      },
      "source": [
        "# Construyo el dataset con las columnas filtradas\n",
        "X_filtered = boruta_feature_selector.transform(X_train)\n",
        "X_test_filtered = boruta_feature_selector.transform(X_test)\n",
        "\n",
        "# Obtengo las columnas finales \n",
        "features = [f for f in X.columns]\n",
        "final_features = list()\n",
        "indexes = np.where(boruta_feature_selector.support_ == True)\n",
        "for x in np.nditer(indexes):\n",
        "    final_features.append(features[x])"
      ],
      "execution_count": 45,
      "outputs": []
    },
    {
      "cell_type": "code",
      "metadata": {
        "id": "xa-qTWuMqPXu",
        "colab": {
          "base_uri": "https://localhost:8080/",
          "height": 547
        },
        "outputId": "949c81ff-abc8-45a6-a221-dd117c0e2882"
      },
      "source": [
        "# Entreno sobre el dataset filtrado\n",
        "rdf.fit(X_filtered, y_train)\n",
        "probas_rdf_boruta = rdf.predict_proba(X_test_filtered)\n",
        "# Observo resultados\n",
        "print('ROC AUC Score: ', roc_auc_score(y_test, probas_rdf_boruta[:, 1])*100)\n",
        "\n",
        "# Ploteo curva ROC y curva de calibracion\n",
        "fig, ax = plt.subplots(nrows = 1, ncols = 2, figsize = (15,8))\n",
        "skplt.metrics.plot_calibration_curve(y_test,[probas_rdf_boruta, probas_rdf_optimized, proba_randomf],clf_names = ['Random Forest BORUTA', 'Random Forest Optimized',\n",
        "                                                                                                                  'Random Forest'], figsize = (10,8), ax = ax[0])\n",
        "skplt.metrics.plot_roc(y_test, probas_rdf_boruta, ax = ax[1], title = 'ROC Curve Random Forest')\n"
      ],
      "execution_count": 54,
      "outputs": [
        {
          "output_type": "stream",
          "text": [
            "ROC AUC Score:  87.57511699124576\n"
          ],
          "name": "stdout"
        },
        {
          "output_type": "execute_result",
          "data": {
            "text/plain": [
              "<matplotlib.axes._subplots.AxesSubplot at 0x7fd444304b50>"
            ]
          },
          "metadata": {
            "tags": []
          },
          "execution_count": 54
        },
        {
          "output_type": "display_data",
          "data": {
            "image/png": "[encoded data removed]",
            "text/plain": [
              "<Figure size 1080x576 with 2 Axes>"
            ]
          },
          "metadata": {
            "tags": [],
            "needs_background": "light"
          }
        }
      ]
    },
    {
      "cell_type": "markdown",
      "metadata": {
        "id": "mHHnNzWsiBFN"
      },
      "source": [
        "Si bien la performance general en términos de AUC no tuvo grandes variaciones, cuando se observa la curva de calibración se ve que hay cambios significativos entre los modelos básicos, el optimizado con todas las features y el filtrado mediante BORUTA. \n",
        "\n",
        "La diferencia entre los dos últimos no es significativa pero evidentemente el BORUTA aporta una cierta mejora."
      ]
    },
    {
      "cell_type": "markdown",
      "metadata": {
        "id": "xSfTRGPXkHQo"
      },
      "source": [
        "## Feature Importance"
      ]
    },
    {
      "cell_type": "code",
      "metadata": {
        "id": "Kl86_ydgj13c",
        "outputId": "7905e61a-c7fa-48de-d190-ba3c0bc7aa5f",
        "colab": {
          "base_uri": "https://localhost:8080/",
          "height": 738
        }
      },
      "source": [
        "skplt.estimators.plot_feature_importances(rdf, feature_names=final_features, figsize = (15,8), x_tick_rotation = 90)"
      ],
      "execution_count": 68,
      "outputs": [
        {
          "output_type": "execute_result",
          "data": {
            "text/plain": [
              "<matplotlib.axes._subplots.AxesSubplot at 0x7fd43b1e33d0>"
            ]
          },
          "metadata": {
            "tags": []
          },
          "execution_count": 68
        },
        {
          "output_type": "display_data",
          "data": {
            "image/png": "[encoded data removed]",
            "text/plain": [
              "<Figure size 1080x576 with 1 Axes>"
            ]
          },
          "metadata": {
            "tags": [],
            "needs_background": "light"
          }
        }
      ]
    },
    {
      "cell_type": "code",
      "metadata": {
        "id": "aMPhnYPcrKJM",
        "outputId": "90a4552d-78c5-4b8c-a599-42d7d7eda67c",
        "colab": {
          "base_uri": "https://localhost:8080/"
        }
      },
      "source": [
        "pip install eli5"
      ],
      "execution_count": 70,
      "outputs": [
        {
          "output_type": "stream",
          "text": [
            "Collecting eli5\n",
            "\u001b[?25l  Downloading https://files.pythonhosted.org/packages/d1/54/04cab6e1c0ae535bec93f795d8403fdf6caf66fa5a6512263202dbb14ea6/eli5-0.11.0-py2.py3-none-any.whl (106kB)\n",
            "\u001b[K     |████████████████████████████████| 112kB 2.9MB/s \n",
            "\u001b[?25hRequirement already satisfied: six in /usr/local/lib/python3.7/dist-packages (from eli5) (1.15.0)\n",
            "Requirement already satisfied: graphviz in /usr/local/lib/python3.7/dist-packages (from eli5) (0.10.1)\n",
            "Requirement already satisfied: scipy in /usr/local/lib/python3.7/dist-packages (from eli5) (1.4.1)\n",
            "Requirement already satisfied: scikit-learn>=0.20 in /usr/local/lib/python3.7/dist-packages (from eli5) (0.22.2.post1)\n",
            "Requirement already satisfied: jinja2 in /usr/local/lib/python3.7/dist-packages (from eli5) (2.11.3)\n",
            "Requirement already satisfied: tabulate>=0.7.7 in /usr/local/lib/python3.7/dist-packages (from eli5) (0.8.9)\n",
            "Requirement already satisfied: attrs>16.0.0 in /usr/local/lib/python3.7/dist-packages (from eli5) (21.2.0)\n",
            "Requirement already satisfied: numpy>=1.9.0 in /usr/local/lib/python3.7/dist-packages (from eli5) (1.19.5)\n",
            "Requirement already satisfied: joblib>=0.11 in /usr/local/lib/python3.7/dist-packages (from scikit-learn>=0.20->eli5) (1.0.1)\n",
            "Requirement already satisfied: MarkupSafe>=0.23 in /usr/local/lib/python3.7/dist-packages (from jinja2->eli5) (2.0.1)\n",
            "Installing collected packages: eli5\n",
            "Successfully installed eli5-0.11.0\n"
          ],
          "name": "stdout"
        }
      ]
    },
    {
      "cell_type": "code",
      "metadata": {
        "id": "Bhgns2iLojbE",
        "outputId": "e7f930d3-3312-4b1c-b019-560b90a1901f",
        "colab": {
          "base_uri": "https://localhost:8080/",
          "height": 391
        }
      },
      "source": [
        "import eli5\n",
        "from eli5.sklearn import PermutationImportance\n",
        "\n",
        "perm = PermutationImportance(rdf, random_state=1).fit(X_test_filtered, y_test)\n",
        "eli5.show_weights(perm, feature_names = final_features)"
      ],
      "execution_count": 73,
      "outputs": [
        {
          "output_type": "execute_result",
          "data": {
            "text/html": [
              "\n",
              "    <style>\n",
              "    table.eli5-weights tr:hover {\n",
              "        filter: brightness(85%);\n",
              "    }\n",
              "</style>\n",
              "\n",
              "\n",
              "\n",
              "    \n",
              "\n",
              "    \n",
              "\n",
              "    \n",
              "\n",
              "    \n",
              "\n",
              "    \n",
              "\n",
              "    \n",
              "\n",
              "\n",
              "    \n",
              "\n",
              "    \n",
              "\n",
              "    \n",
              "\n",
              "    \n",
              "\n",
              "    \n",
              "\n",
              "    \n",
              "\n",
              "\n",
              "    \n",
              "\n",
              "    \n",
              "\n",
              "    \n",
              "\n",
              "    \n",
              "\n",
              "    \n",
              "        <table class=\"eli5-weights eli5-feature-importances\" style=\"border-collapse: collapse; border: none; margin-top: 0em; table-layout: auto;\">\n",
              "    <thead>\n",
              "    <tr style=\"border: none;\">\n",
              "        <th style=\"padding: 0 1em 0 0.5em; text-align: right; border: none;\">Weight</th>\n",
              "        <th style=\"padding: 0 0.5em 0 0.5em; text-align: left; border: none;\">Feature</th>\n",
              "    </tr>\n",
              "    </thead>\n",
              "    <tbody>\n",
              "    \n",
              "        <tr style=\"background-color: hsl(120, 100.00%, 80.00%); border: none;\">\n",
              "            <td style=\"padding: 0 1em 0 0.5em; text-align: right; border: none;\">\n",
              "                0.0234\n",
              "                \n",
              "                    &plusmn; 0.0026\n",
              "                \n",
              "            </td>\n",
              "            <td style=\"padding: 0 0.5em 0 0.5em; text-align: left; border: none;\">\n",
              "                dif_mp\n",
              "            </td>\n",
              "        </tr>\n",
              "    \n",
              "        <tr style=\"background-color: hsl(120, 100.00%, 91.03%); border: none;\">\n",
              "            <td style=\"padding: 0 1em 0 0.5em; text-align: right; border: none;\">\n",
              "                0.0074\n",
              "                \n",
              "                    &plusmn; 0.0022\n",
              "                \n",
              "            </td>\n",
              "            <td style=\"padding: 0 0.5em 0 0.5em; text-align: left; border: none;\">\n",
              "                SPENT_count\n",
              "            </td>\n",
              "        </tr>\n",
              "    \n",
              "        <tr style=\"background-color: hsl(120, 100.00%, 98.25%); border: none;\">\n",
              "            <td style=\"padding: 0 1em 0 0.5em; text-align: right; border: none;\">\n",
              "                0.0007\n",
              "                \n",
              "                    &plusmn; 0.0008\n",
              "                \n",
              "            </td>\n",
              "            <td style=\"padding: 0 0.5em 0 0.5em; text-align: left; border: none;\">\n",
              "                discount_segment_utilities_MES_7\n",
              "            </td>\n",
              "        </tr>\n",
              "    \n",
              "        <tr style=\"background-color: hsl(120, 100.00%, 98.29%); border: none;\">\n",
              "            <td style=\"padding: 0 1em 0 0.5em; text-align: right; border: none;\">\n",
              "                0.0007\n",
              "                \n",
              "                    &plusmn; 0.0017\n",
              "                \n",
              "            </td>\n",
              "            <td style=\"padding: 0 0.5em 0 0.5em; text-align: left; border: none;\">\n",
              "                spent_segment_utilities_max_MES_7\n",
              "            </td>\n",
              "        </tr>\n",
              "    \n",
              "        <tr style=\"background-color: hsl(120, 100.00%, 98.94%); border: none;\">\n",
              "            <td style=\"padding: 0 1em 0 0.5em; text-align: right; border: none;\">\n",
              "                0.0003\n",
              "                \n",
              "                    &plusmn; 0.0015\n",
              "                \n",
              "            </td>\n",
              "            <td style=\"padding: 0 0.5em 0 0.5em; text-align: left; border: none;\">\n",
              "                segment_instore_total_MES_4\n",
              "            </td>\n",
              "        </tr>\n",
              "    \n",
              "        <tr style=\"background-color: hsl(120, 100.00%, 99.15%); border: none;\">\n",
              "            <td style=\"padding: 0 1em 0 0.5em; text-align: right; border: none;\">\n",
              "                0.0003\n",
              "                \n",
              "                    &plusmn; 0.0007\n",
              "                \n",
              "            </td>\n",
              "            <td style=\"padding: 0 0.5em 0 0.5em; text-align: left; border: none;\">\n",
              "                discount_segment_utilities_max_MES_7\n",
              "            </td>\n",
              "        </tr>\n",
              "    \n",
              "        <tr style=\"background-color: hsl(120, 100.00%, 99.37%); border: none;\">\n",
              "            <td style=\"padding: 0 1em 0 0.5em; text-align: right; border: none;\">\n",
              "                0.0002\n",
              "                \n",
              "                    &plusmn; 0.0013\n",
              "                \n",
              "            </td>\n",
              "            <td style=\"padding: 0 0.5em 0 0.5em; text-align: left; border: none;\">\n",
              "                DESCUENTO_sum\n",
              "            </td>\n",
              "        </tr>\n",
              "    \n",
              "        <tr style=\"background-color: hsl(120, 100.00%, 99.42%); border: none;\">\n",
              "            <td style=\"padding: 0 1em 0 0.5em; text-align: right; border: none;\">\n",
              "                0.0001\n",
              "                \n",
              "                    &plusmn; 0.0018\n",
              "                \n",
              "            </td>\n",
              "            <td style=\"padding: 0 0.5em 0 0.5em; text-align: left; border: none;\">\n",
              "                segment_instore_total_MES_7\n",
              "            </td>\n",
              "        </tr>\n",
              "    \n",
              "        <tr style=\"background-color: hsl(120, 100.00%, 99.59%); border: none;\">\n",
              "            <td style=\"padding: 0 1em 0 0.5em; text-align: right; border: none;\">\n",
              "                0.0001\n",
              "                \n",
              "                    &plusmn; 0.0014\n",
              "                \n",
              "            </td>\n",
              "            <td style=\"padding: 0 0.5em 0 0.5em; text-align: left; border: none;\">\n",
              "                MAU_ML_1\n",
              "            </td>\n",
              "        </tr>\n",
              "    \n",
              "        <tr style=\"background-color: hsl(120, 100.00%, 99.65%); border: none;\">\n",
              "            <td style=\"padding: 0 1em 0 0.5em; text-align: right; border: none;\">\n",
              "                0.0001\n",
              "                \n",
              "                    &plusmn; 0.0007\n",
              "                \n",
              "            </td>\n",
              "            <td style=\"padding: 0 0.5em 0 0.5em; text-align: left; border: none;\">\n",
              "                discount_segment_money_transfer_max_MES_7\n",
              "            </td>\n",
              "        </tr>\n",
              "    \n",
              "        <tr style=\"background-color: hsl(0, 100.00%, 100.00%); border: none;\">\n",
              "            <td style=\"padding: 0 1em 0 0.5em; text-align: right; border: none;\">\n",
              "                0.0000\n",
              "                \n",
              "                    &plusmn; 0.0009\n",
              "                \n",
              "            </td>\n",
              "            <td style=\"padding: 0 0.5em 0 0.5em; text-align: left; border: none;\">\n",
              "                discount_segment_instore_MES_4\n",
              "            </td>\n",
              "        </tr>\n",
              "    \n",
              "        <tr style=\"background-color: hsl(0, 100.00%, 99.78%); border: none;\">\n",
              "            <td style=\"padding: 0 1em 0 0.5em; text-align: right; border: none;\">\n",
              "                -0.0000\n",
              "                \n",
              "                    &plusmn; 0.0008\n",
              "                \n",
              "            </td>\n",
              "            <td style=\"padding: 0 0.5em 0 0.5em; text-align: left; border: none;\">\n",
              "                spent_segment_money_transfer_MES_7\n",
              "            </td>\n",
              "        </tr>\n",
              "    \n",
              "        <tr style=\"background-color: hsl(0, 100.00%, 99.78%); border: none;\">\n",
              "            <td style=\"padding: 0 1em 0 0.5em; text-align: right; border: none;\">\n",
              "                -0.0000\n",
              "                \n",
              "                    &plusmn; 0.0005\n",
              "                \n",
              "            </td>\n",
              "            <td style=\"padding: 0 0.5em 0 0.5em; text-align: left; border: none;\">\n",
              "                segment_money_transfer_total_MES_7\n",
              "            </td>\n",
              "        </tr>\n",
              "    \n",
              "        <tr style=\"background-color: hsl(0, 100.00%, 99.65%); border: none;\">\n",
              "            <td style=\"padding: 0 1em 0 0.5em; text-align: right; border: none;\">\n",
              "                -0.0001\n",
              "                \n",
              "                    &plusmn; 0.0007\n",
              "                \n",
              "            </td>\n",
              "            <td style=\"padding: 0 0.5em 0 0.5em; text-align: left; border: none;\">\n",
              "                spent_segment_instore_mean_MES_4\n",
              "            </td>\n",
              "        </tr>\n",
              "    \n",
              "        <tr style=\"background-color: hsl(0, 100.00%, 99.65%); border: none;\">\n",
              "            <td style=\"padding: 0 1em 0 0.5em; text-align: right; border: none;\">\n",
              "                -0.0001\n",
              "                \n",
              "                    &plusmn; 0.0010\n",
              "                \n",
              "            </td>\n",
              "            <td style=\"padding: 0 0.5em 0 0.5em; text-align: left; border: none;\">\n",
              "                DESCUENTO_mean\n",
              "            </td>\n",
              "        </tr>\n",
              "    \n",
              "        <tr style=\"background-color: hsl(0, 100.00%, 99.65%); border: none;\">\n",
              "            <td style=\"padding: 0 1em 0 0.5em; text-align: right; border: none;\">\n",
              "                -0.0001\n",
              "                \n",
              "                    &plusmn; 0.0004\n",
              "                \n",
              "            </td>\n",
              "            <td style=\"padding: 0 0.5em 0 0.5em; text-align: left; border: none;\">\n",
              "                spent_segment_utilities_MES_7\n",
              "            </td>\n",
              "        </tr>\n",
              "    \n",
              "        <tr style=\"background-color: hsl(0, 100.00%, 99.59%); border: none;\">\n",
              "            <td style=\"padding: 0 1em 0 0.5em; text-align: right; border: none;\">\n",
              "                -0.0001\n",
              "                \n",
              "                    &plusmn; 0.0005\n",
              "                \n",
              "            </td>\n",
              "            <td style=\"padding: 0 0.5em 0 0.5em; text-align: left; border: none;\">\n",
              "                discount_segment_cellphone_recharge_mean_MES_7\n",
              "            </td>\n",
              "        </tr>\n",
              "    \n",
              "        <tr style=\"background-color: hsl(0, 100.00%, 99.59%); border: none;\">\n",
              "            <td style=\"padding: 0 1em 0 0.5em; text-align: right; border: none;\">\n",
              "                -0.0001\n",
              "                \n",
              "                    &plusmn; 0.0005\n",
              "                \n",
              "            </td>\n",
              "            <td style=\"padding: 0 0.5em 0 0.5em; text-align: left; border: none;\">\n",
              "                MAU_MP_1\n",
              "            </td>\n",
              "        </tr>\n",
              "    \n",
              "        <tr style=\"background-color: hsl(0, 100.00%, 99.48%); border: none;\">\n",
              "            <td style=\"padding: 0 1em 0 0.5em; text-align: right; border: none;\">\n",
              "                -0.0001\n",
              "                \n",
              "                    &plusmn; 0.0010\n",
              "                \n",
              "            </td>\n",
              "            <td style=\"padding: 0 0.5em 0 0.5em; text-align: left; border: none;\">\n",
              "                discount_segment_transport_MES_7\n",
              "            </td>\n",
              "        </tr>\n",
              "    \n",
              "        <tr style=\"background-color: hsl(0, 100.00%, 99.37%); border: none;\">\n",
              "            <td style=\"padding: 0 1em 0 0.5em; text-align: right; border: none;\">\n",
              "                -0.0002\n",
              "                \n",
              "                    &plusmn; 0.0003\n",
              "                \n",
              "            </td>\n",
              "            <td style=\"padding: 0 0.5em 0 0.5em; text-align: left; border: none;\">\n",
              "                discount_segment_money_transfer_mean_MES_7\n",
              "            </td>\n",
              "        </tr>\n",
              "    \n",
              "    \n",
              "        \n",
              "            <tr style=\"background-color: hsl(0, 100.00%, 99.37%); border: none;\">\n",
              "                <td colspan=\"2\" style=\"padding: 0 0.5em 0 0.5em; text-align: center; border: none; white-space: nowrap;\">\n",
              "                    <i>&hellip; 44 more &hellip;</i>\n",
              "                </td>\n",
              "            </tr>\n",
              "        \n",
              "    \n",
              "    </tbody>\n",
              "</table>\n",
              "    \n",
              "\n",
              "    \n",
              "\n",
              "\n",
              "    \n",
              "\n",
              "    \n",
              "\n",
              "    \n",
              "\n",
              "    \n",
              "\n",
              "    \n",
              "\n",
              "    \n",
              "\n",
              "\n",
              "\n"
            ],
            "text/plain": [
              "<IPython.core.display.HTML object>"
            ]
          },
          "metadata": {
            "tags": []
          },
          "execution_count": 73
        }
      ]
    },
    {
      "cell_type": "markdown",
      "metadata": {
        "id": "cpl8YUuUymp0"
      },
      "source": [
        "# Conclusion"
      ]
    },
    {
      "cell_type": "markdown",
      "metadata": {
        "id": "Jlg3Uu0Cyopy"
      },
      "source": [
        "Luego de hacer distintas pruebas y comparar contra diferentes modelos, se obtuvo como resultado final que el modelo de RandomForest fue el que obtuvo mejores resultados, con un AUC promedio de 0.88 lo que se considera como muy satisfactorio. \n",
        "\n",
        "Adicionalmente se observa que el modelo esta muy bien calibrado, es decir, aquellos registros que predice con una determinada probabilidad de pertenecer a una clase, en líneas generales en la población se corresponde la misma proporción.\n",
        "\n",
        "Lógicamente, el AUC es una métrica global del modelo, independiente del punto de corte que se use. Sin embargo, es decisión del negocio determinar la probabilidad mínima que maximice las ganancias en futuras campañas. Siguiendo esta idea sería posible realizar alguna especie de matriz de costos. No necesariamente el punto que maximice la función de costo sera el miso que maximice la matriz de costos."
      ]
    }
  ]
}