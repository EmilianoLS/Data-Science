{
 "cells": [
  {
   "cell_type": "code",
   "execution_count": 197,
   "metadata": {},
   "outputs": [],
   "source": [
    "# import the required libraries \n",
    "from googleapiclient.discovery import build \n",
    "from google_auth_oauthlib.flow import InstalledAppFlow \n",
    "from google.auth.transport.requests import Request \n",
    "import pickle \n",
    "import os.path \n",
    "import base64 \n",
    "import email \n",
    "import re\n",
    "import datetime\n",
    "import pandas as pd\n",
    "from tqdm import tqdm\n",
    "from dateutil import parser\n",
    "from bs4 import BeautifulSoup"
   ]
  },
  {
   "cell_type": "code",
   "execution_count": 158,
   "metadata": {},
   "outputs": [],
   "source": [
    "def buscar_key(diccionario, key_buscada):\n",
    "    if key_buscada in diccionario:\n",
    "        return diccionario[key_buscada]\n",
    "    for key, value in diccionario.items():\n",
    "        if isinstance(value, dict):\n",
    "            result = buscar_key(value, key_buscada)\n",
    "            if result is not None:\n",
    "                return result\n",
    "        elif isinstance(value, list):\n",
    "            for item in value:\n",
    "                if isinstance(item, dict):\n",
    "                    result = buscar_key(item, key_buscada)\n",
    "                    if result is not None:\n",
    "                        return result\n",
    "    return None\n",
    "\n",
    "\n",
    "def convert_to_float(amount):\n",
    "    # Reemplazar comas por puntos\n",
    "    amount = amount.replace(',', '.')\n",
    "    # Encontrar la última aparición de un punto\n",
    "    last_dot_index = amount.rfind('.')\n",
    "    if last_dot_index != -1:\n",
    "        # Eliminar todos los puntos anteriores al último\n",
    "        amount = amount[:last_dot_index].replace('.', '') + amount[last_dot_index:]\n",
    "    return float(amount)"
   ]
  },
  {
   "cell_type": "code",
   "execution_count": 76,
   "metadata": {},
   "outputs": [],
   "source": [
    "# Define the SCOPES. If modifying it, delete the token.pickle file. \n",
    "SCOPES = ['https://www.googleapis.com/auth/gmail.readonly'] \n",
    "\n",
    "# Variable creds will store the user access token. \n",
    "# If no valid token found, we will create one. \n",
    "creds = None\n",
    "\n",
    "# The file token.pickle contains the user access token. \n",
    "# Check if it exists \n",
    "if os.path.exists('utils/token.pickle'): \n",
    "\n",
    "    # Read the token from the file and store it in the variable creds \n",
    "    with open('utils/token.pickle', 'rb') as token: \n",
    "        creds = pickle.load(token) \n",
    "\n",
    "# If credentials are not available or are invalid, ask the user to log in. \n",
    "if not creds or not creds.valid: \n",
    "    if creds and creds.expired and creds.refresh_token: \n",
    "        creds.refresh(Request()) \n",
    "    else: \n",
    "        flow = InstalledAppFlow.from_client_secrets_file('utils/credentials.json', SCOPES) \n",
    "        creds = flow.run_local_server(port=0) \n",
    "\n",
    "    # Save the access token in token.pickle file for the next run \n",
    "    with open('utils/token.pickle', 'wb') as token: \n",
    "        pickle.dump(creds, token) \n",
    "\n",
    "# Connect to the Gmail API \n",
    "service = build('gmail', 'v1', credentials=creds) "
   ]
  },
  {
   "cell_type": "code",
   "execution_count": 169,
   "metadata": {},
   "outputs": [],
   "source": [
    "# Get list of emails\n",
    "# Define query\n",
    "query = \"from: prismahome@prismasystems.com.ar\"\n",
    "\n",
    "# We can also pass maxResults to get any number of emails. Like this: \n",
    "result = service.users().messages().list(maxResults=50, userId='me', q = query).execute() \n",
    "messages = result.get('messages')"
   ]
  },
  {
   "cell_type": "code",
   "execution_count": 235,
   "metadata": {},
   "outputs": [
    {
     "name": "stderr",
     "output_type": "stream",
     "text": [
      "100%|██████████| 50/50 [00:17<00:00,  2.83it/s]\n"
     ]
    }
   ],
   "source": [
    "results = []\n",
    "\n",
    "for message in tqdm(messages):\n",
    "    # Get info from mail\n",
    "    txt = service.users().messages().get(userId='me', id=message['id']).execute()\n",
    "\n",
    "    temp = pd.DataFrame(txt['payload']['headers'])\n",
    "    subject = temp.loc[temp.name == 'Subject', 'value'].values[0]\n",
    "    \n",
    "    if 'débito' not in subject or 'debito' not in subject:\n",
    "        # Get amount spent\n",
    "        regex = r'\\$\\s*([0-9]+(?:[.,][0-9]{3})*(?:[.,][0-9]{2})?)'\n",
    "\n",
    "        texto = txt['snippet']\n",
    "        amount = re.findall(regex, texto)\n",
    "        amount = convert_to_float(amount[0].split('$')[-1].strip())\n",
    "\n",
    "\n",
    "        # Get date\n",
    "        purchase_date = temp.loc[temp.name == 'Date','value'].values[0]\n",
    "        purchase_date = parser.parse(purchase_date).date()\n",
    "\n",
    "        # Save results\n",
    "        results.append((purchase_date, amount))\n",
    "    else:\n",
    "        pass"
   ]
  },
  {
   "cell_type": "code",
   "execution_count": 236,
   "metadata": {},
   "outputs": [
    {
     "data": {
      "text/plain": [
       "[(datetime.date(2024, 5, 27), 10880.0),\n",
       " (datetime.date(2024, 5, 26), 34999.3),\n",
       " (datetime.date(2024, 5, 26), 38432.37),\n",
       " (datetime.date(2024, 5, 25), 14400.0),\n",
       " (datetime.date(2024, 5, 24), 10999.0),\n",
       " (datetime.date(2024, 5, 23), 600.0),\n",
       " (datetime.date(2024, 5, 23), 50000.0),\n",
       " (datetime.date(2024, 5, 23), 50000.0),\n",
       " (datetime.date(2024, 5, 23), 50000.0),\n",
       " (datetime.date(2024, 5, 20), 1761.02),\n",
       " (datetime.date(2024, 5, 20), 28843.84),\n",
       " (datetime.date(2024, 5, 20), 31238.36),\n",
       " (datetime.date(2024, 5, 16), 23530.63),\n",
       " (datetime.date(2024, 5, 16), 14675.5),\n",
       " (datetime.date(2024, 5, 15), 119999.0),\n",
       " (datetime.date(2024, 5, 14), 1588.41),\n",
       " (datetime.date(2024, 5, 12), 97495.0),\n",
       " (datetime.date(2024, 5, 10), 3782.0),\n",
       " (datetime.date(2024, 5, 6), 6142.04),\n",
       " (datetime.date(2024, 5, 5), 5075.0),\n",
       " (datetime.date(2024, 5, 4), 16240.0),\n",
       " (datetime.date(2024, 5, 4), 2539.79),\n",
       " (datetime.date(2024, 5, 4), 4300.0),\n",
       " (datetime.date(2024, 5, 4), 1326.78),\n",
       " (datetime.date(2024, 4, 30), 1300.0),\n",
       " (datetime.date(2024, 4, 29), 1200.0),\n",
       " (datetime.date(2024, 4, 27), 28800.0),\n",
       " (datetime.date(2024, 4, 26), 45517.99),\n",
       " (datetime.date(2024, 4, 25), 9800.0),\n",
       " (datetime.date(2024, 4, 23), 4300.0),\n",
       " (datetime.date(2024, 4, 23), 25253.05),\n",
       " (datetime.date(2024, 4, 19), 2585.0),\n",
       " (datetime.date(2024, 4, 18), 5500.0),\n",
       " (datetime.date(2024, 4, 18), 24000.0),\n",
       " (datetime.date(2024, 4, 13), 103686.91),\n",
       " (datetime.date(2024, 4, 13), 5671.2),\n",
       " (datetime.date(2024, 4, 12), 5750.0),\n",
       " (datetime.date(2024, 4, 12), 259999.0),\n",
       " (datetime.date(2024, 4, 11), 8400.0),\n",
       " (datetime.date(2024, 4, 10), 918.0),\n",
       " (datetime.date(2024, 4, 8), 20610.52),\n",
       " (datetime.date(2024, 4, 8), 2307.24),\n",
       " (datetime.date(2024, 4, 8), 114360.0),\n",
       " (datetime.date(2024, 4, 6), 220000.0),\n",
       " (datetime.date(2024, 4, 6), 5500.0),\n",
       " (datetime.date(2024, 4, 6), 18069.16),\n",
       " (datetime.date(2024, 4, 6), 20400.0),\n",
       " (datetime.date(2024, 4, 6), 34282.5),\n",
       " (datetime.date(2024, 4, 5), 2539.79),\n",
       " (datetime.date(2024, 4, 4), 6950.0)]"
      ]
     },
     "execution_count": 236,
     "metadata": {},
     "output_type": "execute_result"
    }
   ],
   "source": [
    "results"
   ]
  },
  {
   "cell_type": "code",
   "execution_count": null,
   "metadata": {},
   "outputs": [],
   "source": []
  }
 ],
 "metadata": {
  "kernelspec": {
   "display_name": "Python 3",
   "language": "python",
   "name": "python3"
  },
  "language_info": {
   "codemirror_mode": {
    "name": "ipython",
    "version": 3
   },
   "file_extension": ".py",
   "mimetype": "text/x-python",
   "name": "python",
   "nbconvert_exporter": "python",
   "pygments_lexer": "ipython3",
   "version": "3.12.1"
  }
 },
 "nbformat": 4,
 "nbformat_minor": 2
}
