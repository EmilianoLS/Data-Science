{
 "cells": [
  {
   "cell_type": "code",
   "execution_count": 1,
   "metadata": {},
   "outputs": [],
   "source": [
    "# import the required libraries \n",
    "from googleapiclient.discovery import build \n",
    "from google_auth_oauthlib.flow import InstalledAppFlow \n",
    "from google.auth.transport.requests import Request \n",
    "from google.oauth2.credentials import Credentials\n",
    "import pickle \n",
    "import os.path \n",
    "import base64 \n",
    "import email \n",
    "import re\n",
    "import datetime\n",
    "import pandas as pd\n",
    "from tqdm import tqdm\n",
    "from dateutil import parser\n",
    "from bs4 import BeautifulSoup\n",
    "import logging\n",
    "import requests\n",
    "logger = logging.getLogger()\n",
    "logger.setLevel(logging.INFO)"
   ]
  },
  {
   "cell_type": "code",
   "execution_count": 2,
   "metadata": {},
   "outputs": [],
   "source": [
    "log_fmt = '%(asctime)s - %(name)s - %(levelname)s - %(message)s'\n",
    "logging.basicConfig(level=logging.INFO, format=log_fmt)"
   ]
  },
  {
   "cell_type": "code",
   "execution_count": 3,
   "metadata": {},
   "outputs": [],
   "source": [
    "def buscar_key(diccionario, key_buscada):\n",
    "    if key_buscada in diccionario:\n",
    "        return diccionario[key_buscada]\n",
    "    for key, value in diccionario.items():\n",
    "        if isinstance(value, dict):\n",
    "            result = buscar_key(value, key_buscada)\n",
    "            if result is not None:\n",
    "                return result\n",
    "        elif isinstance(value, list):\n",
    "            for item in value:\n",
    "                if isinstance(item, dict):\n",
    "                    result = buscar_key(item, key_buscada)\n",
    "                    if result is not None:\n",
    "                        return result\n",
    "    return None\n",
    "\n",
    "\n",
    "def convert_to_float(amount):\n",
    "    # Reemplazar comas por puntos\n",
    "    amount = amount.replace(',', '.')\n",
    "    # Encontrar la última aparición de un punto\n",
    "    last_dot_index = amount.rfind('.')\n",
    "    if last_dot_index != -1:\n",
    "        # Eliminar todos los puntos anteriores al último\n",
    "        amount = amount[:last_dot_index].replace('.', '') + amount[last_dot_index:]\n",
    "    return float(amount)"
   ]
  },
  {
   "cell_type": "code",
   "execution_count": 4,
   "metadata": {},
   "outputs": [],
   "source": [
    "SCOPES = [\"https://www.googleapis.com/auth/userinfo.profile  https://www.googleapis.com/auth/gmail.readonly\"]\n",
    "\n",
    "# Cargar credenciales\n",
    "def load_credentials():\n",
    "    creds = None\n",
    "    if os.path.exists('utils/token.json'):\n",
    "        creds = Credentials.from_authorized_user_file('utils/token.json', SCOPES)\n",
    "    if not creds or not creds.valid:\n",
    "        if creds and creds.expired and creds.refresh_token:\n",
    "            creds.refresh(Request())\n",
    "        else:\n",
    "            flow = InstalledAppFlow.from_client_secrets_file('utils/credentials.json', SCOPES)\n",
    "            creds = flow.run_local_server(port=0)\n",
    "        with open('utils/token.json', 'w') as token:\n",
    "            token.write(creds.to_json())\n",
    "    return creds\n",
    "\n",
    "creds = load_credentials()"
   ]
  },
  {
   "cell_type": "code",
   "execution_count": 5,
   "metadata": {},
   "outputs": [],
   "source": [
    "userinfo_endpoint = 'https://www.googleapis.com/oauth2/v1/userinfo'\n",
    "params = {'alt': 'json', 'access_token': creds.token}\n",
    "response = requests.get(userinfo_endpoint, params=params)\n",
    "user_info = response.json()"
   ]
  },
  {
   "cell_type": "code",
   "execution_count": 6,
   "metadata": {},
   "outputs": [
    {
     "data": {
      "text/plain": [
       "{'id': '109910674197465709992',\n",
       " 'name': 'Emiliano Lo Sasso',\n",
       " 'given_name': 'Emiliano',\n",
       " 'family_name': 'Lo Sasso',\n",
       " 'picture': 'https://lh3.googleusercontent.com/a/ACg8ocKFcbHT7qMZmlcTTAJKhW4NmklWZIXmzi_w4_KbOkqAcuUM=s96-c'}"
      ]
     },
     "execution_count": 6,
     "metadata": {},
     "output_type": "execute_result"
    }
   ],
   "source": [
    "user_info"
   ]
  },
  {
   "cell_type": "code",
   "execution_count": 7,
   "metadata": {},
   "outputs": [
    {
     "name": "stderr",
     "output_type": "stream",
     "text": [
      "2024-06-17 12:32:04,464 - googleapiclient.discovery_cache - INFO - file_cache is only supported with oauth2client<4.0.0\n"
     ]
    }
   ],
   "source": [
    "gmail_service = build('gmail', 'v1', credentials=creds)"
   ]
  },
  {
   "cell_type": "code",
   "execution_count": 8,
   "metadata": {},
   "outputs": [
    {
     "name": "stderr",
     "output_type": "stream",
     "text": [
      "2024-06-17 12:32:07,198 - googleapiclient.http - WARNING - Encountered 403 Forbidden with reason \"insufficientPermissions\"\n"
     ]
    },
    {
     "ename": "HttpError",
     "evalue": "<HttpError 403 when requesting https://gmail.googleapis.com/gmail/v1/users/me/messages?q=from%3A+prismahome%40prismasystems.com.ar+after%3A+2024-06-17&alt=json returned \"Request had insufficient authentication scopes.\". Details: \"[{'message': 'Insufficient Permission', 'domain': 'global', 'reason': 'insufficientPermissions'}]\">",
     "output_type": "error",
     "traceback": [
      "\u001b[1;31m---------------------------------------------------------------------------\u001b[0m",
      "\u001b[1;31mHttpError\u001b[0m                                 Traceback (most recent call last)",
      "Cell \u001b[1;32mIn[8], line 4\u001b[0m\n\u001b[0;32m      1\u001b[0m query \u001b[38;5;241m=\u001b[39m \u001b[38;5;124mf\u001b[39m\u001b[38;5;124m\"\u001b[39m\u001b[38;5;124mfrom: prismahome@prismasystems.com.ar after: \u001b[39m\u001b[38;5;132;01m{\u001b[39;00mdatetime\u001b[38;5;241m.\u001b[39mdate\u001b[38;5;241m.\u001b[39mtoday()\u001b[38;5;132;01m}\u001b[39;00m\u001b[38;5;124m\"\u001b[39m\n\u001b[0;32m      3\u001b[0m \u001b[38;5;66;03m# We can also pass maxResults to get any number of emails. Like this: \u001b[39;00m\n\u001b[1;32m----> 4\u001b[0m result \u001b[38;5;241m=\u001b[39m \u001b[43mgmail_service\u001b[49m\u001b[38;5;241;43m.\u001b[39;49m\u001b[43musers\u001b[49m\u001b[43m(\u001b[49m\u001b[43m)\u001b[49m\u001b[38;5;241;43m.\u001b[39;49m\u001b[43mmessages\u001b[49m\u001b[43m(\u001b[49m\u001b[43m)\u001b[49m\u001b[38;5;241;43m.\u001b[39;49m\u001b[43mlist\u001b[49m\u001b[43m(\u001b[49m\u001b[43muserId\u001b[49m\u001b[38;5;241;43m=\u001b[39;49m\u001b[38;5;124;43m'\u001b[39;49m\u001b[38;5;124;43mme\u001b[39;49m\u001b[38;5;124;43m'\u001b[39;49m\u001b[43m,\u001b[49m\u001b[43m \u001b[49m\u001b[43mq\u001b[49m\u001b[43m \u001b[49m\u001b[38;5;241;43m=\u001b[39;49m\u001b[43m \u001b[49m\u001b[43mquery\u001b[49m\u001b[43m)\u001b[49m\u001b[38;5;241;43m.\u001b[39;49m\u001b[43mexecute\u001b[49m\u001b[43m(\u001b[49m\u001b[43m)\u001b[49m \n\u001b[0;32m      5\u001b[0m messages \u001b[38;5;241m=\u001b[39m result\u001b[38;5;241m.\u001b[39mget(\u001b[38;5;124m'\u001b[39m\u001b[38;5;124mmessages\u001b[39m\u001b[38;5;124m'\u001b[39m)\n",
      "File \u001b[1;32mc:\\Users\\emilo\\AppData\\Local\\Programs\\Python\\Python312\\Lib\\site-packages\\googleapiclient\\_helpers.py:130\u001b[0m, in \u001b[0;36mpositional.<locals>.positional_decorator.<locals>.positional_wrapper\u001b[1;34m(*args, **kwargs)\u001b[0m\n\u001b[0;32m    128\u001b[0m     \u001b[38;5;28;01melif\u001b[39;00m positional_parameters_enforcement \u001b[38;5;241m==\u001b[39m POSITIONAL_WARNING:\n\u001b[0;32m    129\u001b[0m         logger\u001b[38;5;241m.\u001b[39mwarning(message)\n\u001b[1;32m--> 130\u001b[0m \u001b[38;5;28;01mreturn\u001b[39;00m \u001b[43mwrapped\u001b[49m\u001b[43m(\u001b[49m\u001b[38;5;241;43m*\u001b[39;49m\u001b[43margs\u001b[49m\u001b[43m,\u001b[49m\u001b[43m \u001b[49m\u001b[38;5;241;43m*\u001b[39;49m\u001b[38;5;241;43m*\u001b[39;49m\u001b[43mkwargs\u001b[49m\u001b[43m)\u001b[49m\n",
      "File \u001b[1;32mc:\\Users\\emilo\\AppData\\Local\\Programs\\Python\\Python312\\Lib\\site-packages\\googleapiclient\\http.py:938\u001b[0m, in \u001b[0;36mHttpRequest.execute\u001b[1;34m(self, http, num_retries)\u001b[0m\n\u001b[0;32m    936\u001b[0m     callback(resp)\n\u001b[0;32m    937\u001b[0m \u001b[38;5;28;01mif\u001b[39;00m resp\u001b[38;5;241m.\u001b[39mstatus \u001b[38;5;241m>\u001b[39m\u001b[38;5;241m=\u001b[39m \u001b[38;5;241m300\u001b[39m:\n\u001b[1;32m--> 938\u001b[0m     \u001b[38;5;28;01mraise\u001b[39;00m HttpError(resp, content, uri\u001b[38;5;241m=\u001b[39m\u001b[38;5;28mself\u001b[39m\u001b[38;5;241m.\u001b[39muri)\n\u001b[0;32m    939\u001b[0m \u001b[38;5;28;01mreturn\u001b[39;00m \u001b[38;5;28mself\u001b[39m\u001b[38;5;241m.\u001b[39mpostproc(resp, content)\n",
      "\u001b[1;31mHttpError\u001b[0m: <HttpError 403 when requesting https://gmail.googleapis.com/gmail/v1/users/me/messages?q=from%3A+prismahome%40prismasystems.com.ar+after%3A+2024-06-17&alt=json returned \"Request had insufficient authentication scopes.\". Details: \"[{'message': 'Insufficient Permission', 'domain': 'global', 'reason': 'insufficientPermissions'}]\">"
     ]
    }
   ],
   "source": [
    "query = f\"from: prismahome@prismasystems.com.ar after: {datetime.date.today()}\"\n",
    "\n",
    "# We can also pass maxResults to get any number of emails. Like this: \n",
    "result = gmail_service.users().messages().list(userId='me', q = query).execute() \n",
    "messages = result.get('messages')\n"
   ]
  },
  {
   "cell_type": "code",
   "execution_count": 71,
   "metadata": {},
   "outputs": [],
   "source": [
    "import os.path\n",
    "from google.auth.transport.requests import Request\n",
    "from google.oauth2.credentials import Credentials\n",
    "from google.oauth2.service_account import Credentials as ServiceAccountCredentials\n",
    "from google_auth_oauthlib.flow import InstalledAppFlow\n",
    "from googleapiclient.discovery import build\n",
    "from googleapiclient.errors import HttpError\n",
    "\n",
    "# Alcances\n",
    "GMAIL_SCOPES = [\"https://www.googleapis.com/auth/gmail.readonly\"]\n",
    "SHEET_SCOPES = [\"https://www.googleapis.com/auth/spreadsheets\"]\n",
    "\n",
    "# ID de la hoja de cálculo\n",
    "SAMPLE_SPREADSHEET_ID = '15HjxuJARpG_lpj_wbmSRhEWC1aRP2VXy4iyFl4TQuwU'\n",
    "SERVICE_ACCOUNT_FILE = 'utils/service_account.json'  # Ruta al archivo JSON de la cuenta de servicio\n",
    "USER_CREDENTIALS_FILE = 'utils/credentials.json'  # Ruta al archivo JSON de credenciales del usuario\n",
    "\n",
    "def get_gmail_service():\n",
    "    creds = None\n",
    "    # El archivo token.json almacena los tokens de acceso y actualización del usuario.\n",
    "    if os.path.exists('utils/token.json'):\n",
    "        creds = Credentials.from_authorized_user_file('utils/token.json', GMAIL_SCOPES)\n",
    "    # Si no hay credenciales válidas disponibles, solicita al usuario que inicie sesión.\n",
    "    if not creds or not creds.valid:\n",
    "        if creds and creds.expired and creds.refresh_token:\n",
    "            creds.refresh(Request())\n",
    "        else:\n",
    "            flow = InstalledAppFlow.from_client_secrets_file(USER_CREDENTIALS_FILE, GMAIL_SCOPES)\n",
    "            creds = flow.run_local_server(port=0)\n",
    "        # Guarda las credenciales para la próxima ejecución\n",
    "        with open('utils/token.json', 'w') as token:\n",
    "            token.write(creds.to_json())\n",
    "\n",
    "    # Crea el servicio de Gmail\n",
    "    return build('gmail', 'v1', credentials=creds)\n",
    "\n",
    "def get_sheets_service():\n",
    "    # Carga las credenciales de la cuenta de servicio\n",
    "    creds = ServiceAccountCredentials.from_service_account_file(SERVICE_ACCOUNT_FILE, scopes=SHEET_SCOPES)\n",
    "    # Crea el servicio de Sheets\n",
    "    return build('sheets', 'v4', credentials=creds)\n",
    "    \n",
    "\n",
    "def get_daily_mails():\n",
    "    # Get gmail service\n",
    "    \n",
    "    service = get_gmail_service()\n",
    "    # Get list of emails\n",
    "    # Define query\n",
    "    query = f\"from: prismahome@prismasystems.com.ar after: {datetime.date.today()}\"\n",
    "\n",
    "    # We can also pass maxResults to get any number of emails. Like this: \n",
    "    result = service.users().messages().list(userId='me', q = query).execute() \n",
    "    messages = result.get('messages')\n",
    "\n",
    "    results = []\n",
    "\n",
    "    logger.info(\"Getting today's mails\")\n",
    "    for message in tqdm(messages):\n",
    "        # Get info from mail\n",
    "        txt = service.users().messages().get(userId='me', id=message['id']).execute()\n",
    "\n",
    "        temp = pd.DataFrame(txt['payload']['headers'])\n",
    "        subject = temp.loc[temp.name == 'Subject', 'value'].values[0]\n",
    "        \n",
    "        if 'débito' not in subject or 'debito' not in subject:\n",
    "            # Get amount spent\n",
    "            regex = r'\\$\\s*([0-9]+(?:[.,][0-9]{3})*(?:[.,][0-9]{2})?)'\n",
    "\n",
    "            texto = txt['snippet']\n",
    "            amount = re.findall(regex, texto)\n",
    "            amount = convert_to_float(amount[0].split('$')[-1].strip())\n",
    "\n",
    "\n",
    "            # Get date\n",
    "            purchase_date = temp.loc[temp.name == 'Date','value'].values[0]\n",
    "            purchase_date = parser.parse(purchase_date).date()\n",
    "\n",
    "            # Save results\n",
    "            results.append((purchase_date, amount))\n",
    "        else:\n",
    "            pass\n",
    "    \n",
    "    logger.info(f\"Finished! {len(results)} mails found!\")\n",
    "\n",
    "    return results\n"
   ]
  },
  {
   "cell_type": "code",
   "execution_count": 82,
   "metadata": {},
   "outputs": [
    {
     "data": {
      "text/plain": [
       "[(datetime.date(2024, 6, 16), 15500.0),\n",
       " (datetime.date(2024, 6, 16), 48350.0),\n",
       " (datetime.date(2024, 6, 16), 19800.0)]"
      ]
     },
     "execution_count": 82,
     "metadata": {},
     "output_type": "execute_result"
    }
   ],
   "source": [
    "results  "
   ]
  },
  {
   "cell_type": "code",
   "execution_count": 72,
   "metadata": {},
   "outputs": [
    {
     "name": "stderr",
     "output_type": "stream",
     "text": [
      "2024-06-16 19:46:12,384 - googleapiclient.discovery_cache - INFO - file_cache is only supported with oauth2client<4.0.0\n",
      "2024-06-16 19:46:13,053 - root - INFO - Getting today's mails\n",
      "100%|██████████| 3/3 [00:00<00:00,  3.24it/s]\n",
      "2024-06-16 19:46:13,982 - root - INFO - Finished! 3 mails found!\n"
     ]
    }
   ],
   "source": [
    "results = get_daily_mails()"
   ]
  },
  {
   "cell_type": "code",
   "execution_count": 76,
   "metadata": {},
   "outputs": [
    {
     "name": "stderr",
     "output_type": "stream",
     "text": [
      "2024-06-17 10:20:36,716 - googleapiclient.discovery_cache - INFO - file_cache is only supported with oauth2client<4.0.0\n"
     ]
    }
   ],
   "source": [
    "# Obtener el servicio de Sheets autenticado por la cuenta de servicio\n",
    "sheets_service = get_sheets_service()"
   ]
  },
  {
   "cell_type": "code",
   "execution_count": 81,
   "metadata": {},
   "outputs": [
    {
     "name": "stderr",
     "output_type": "stream",
     "text": [
      "2024-06-17 10:25:30,025 - root - INFO - Table updated\n"
     ]
    }
   ],
   "source": [
    "try:\n",
    "    # Datos a agregar\n",
    "    values = [\n",
    "        [\"tuti\", 200, str(datetime.date.today())]\n",
    "    ]\n",
    "\n",
    "    # Configurar el cuerpo de la solicitud\n",
    "    body = {\n",
    "        'values': values\n",
    "    }\n",
    "\n",
    "    # Llamar a la API de Sheets para agregar los datos\n",
    "    result = sheets_service.spreadsheets().values().append(\n",
    "        spreadsheetId=SAMPLE_SPREADSHEET_ID,\n",
    "        range=\"movements\",  # El nombre de la hoja donde se agregan los datos\n",
    "        valueInputOption=\"USER_ENTERED\",  # 'RAW' o 'USER_ENTERED'\n",
    "        insertDataOption=\"INSERT_ROWS\",  # 'OVERWRITE' o 'INSERT_ROWS'\n",
    "        body=body\n",
    "    ).execute()\n",
    "\n",
    "    logger.info(\"Table updated\")\n",
    "\n",
    "except HttpError as error:\n",
    "    print(f\"An error occurred: {error}\")"
   ]
  },
  {
   "cell_type": "code",
   "execution_count": 45,
   "metadata": {},
   "outputs": [
    {
     "data": {
      "text/html": [
       "<div>\n",
       "<style scoped>\n",
       "    .dataframe tbody tr th:only-of-type {\n",
       "        vertical-align: middle;\n",
       "    }\n",
       "\n",
       "    .dataframe tbody tr th {\n",
       "        vertical-align: top;\n",
       "    }\n",
       "\n",
       "    .dataframe thead th {\n",
       "        text-align: right;\n",
       "    }\n",
       "</style>\n",
       "<table border=\"1\" class=\"dataframe\">\n",
       "  <thead>\n",
       "    <tr style=\"text-align: right;\">\n",
       "      <th></th>\n",
       "      <th>user</th>\n",
       "      <th>budget</th>\n",
       "      <th>date</th>\n",
       "    </tr>\n",
       "  </thead>\n",
       "  <tbody>\n",
       "    <tr>\n",
       "      <th>0</th>\n",
       "      <td>emi</td>\n",
       "      <td>100</td>\n",
       "      <td>16/06/2024</td>\n",
       "    </tr>\n",
       "  </tbody>\n",
       "</table>\n",
       "</div>"
      ],
      "text/plain": [
       "0 user budget        date\n",
       "0  emi    100  16/06/2024"
      ]
     },
     "execution_count": 45,
     "metadata": {},
     "output_type": "execute_result"
    }
   ],
   "source": [
    "if len(results) == 0:\n",
    "            pass\n",
    "else:\n",
    "    # Obtener el servicio de Sheets autenticado por la cuenta de servicio\n",
    "    sheets_service = get_sheets_service()\n",
    "    sheet = sheets_service.spreadsheets()\n",
    "    result = sheet.values().get(spreadsheetId=SAMPLE_SPREADSHEET_ID, range=\"movements\").execute()\n",
    "\n",
    "test_results = pd.DataFrame(result['values'])\n",
    "test_results.columns = test_results.iloc[0,:]\n",
    "test_results = test_results.iloc[1:,:]\n",
    "test_results.reset_index(drop = True, inplace = True)\n",
    "test_results"
   ]
  },
  {
   "cell_type": "code",
   "execution_count": 66,
   "metadata": {},
   "outputs": [
    {
     "name": "stderr",
     "output_type": "stream",
     "text": [
      "2024-06-16 19:44:38,420 - googleapiclient.discovery_cache - INFO - file_cache is only supported with oauth2client<4.0.0\n"
     ]
    }
   ],
   "source": [
    "service = get_gmail_service()"
   ]
  },
  {
   "cell_type": "code",
   "execution_count": 67,
   "metadata": {},
   "outputs": [],
   "source": [
    "# Get list of emails\n",
    "# Define query\n",
    "query = f\"from: prismahome@prismasystems.com.ar after: {datetime.date.today()}\"\n",
    "\n",
    "# We can also pass maxResults to get any number of emails. Like this: \n",
    "result = service.users().messages().list(maxResults=50, userId='me', q = query).execute() \n",
    "messages = result.get('messages')"
   ]
  },
  {
   "cell_type": "code",
   "execution_count": 69,
   "metadata": {},
   "outputs": [
    {
     "name": "stderr",
     "output_type": "stream",
     "text": [
      "100%|██████████| 3/3 [00:01<00:00,  2.54it/s]\n"
     ]
    }
   ],
   "source": [
    "results = []\n",
    "\n",
    "for message in tqdm(messages):\n",
    "    # Get info from mail\n",
    "    txt = service.users().messages().get(userId='me', id=message['id']).execute()\n",
    "\n",
    "    temp = pd.DataFrame(txt['payload']['headers'])\n",
    "    subject = temp.loc[temp.name == 'Subject', 'value'].values[0]\n",
    "    \n",
    "    if 'débito' not in subject or 'debito' not in subject:\n",
    "        # Get amount spent\n",
    "        regex = r'\\$\\s*([0-9]+(?:[.,][0-9]{3})*(?:[.,][0-9]{2})?)'\n",
    "\n",
    "        texto = txt['snippet']\n",
    "        amount = re.findall(regex, texto)\n",
    "        amount = convert_to_float(amount[0].split('$')[-1].strip())\n",
    "\n",
    "\n",
    "        # Get date\n",
    "        purchase_date = temp.loc[temp.name == 'Date','value'].values[0]\n",
    "        purchase_date = parser.parse(purchase_date).date()\n",
    "\n",
    "        # Save results\n",
    "        results.append((purchase_date, amount))\n",
    "    else:\n",
    "        pass"
   ]
  },
  {
   "cell_type": "code",
   "execution_count": null,
   "metadata": {},
   "outputs": [],
   "source": []
  }
 ],
 "metadata": {
  "kernelspec": {
   "display_name": "Python 3",
   "language": "python",
   "name": "python3"
  },
  "language_info": {
   "codemirror_mode": {
    "name": "ipython",
    "version": 3
   },
   "file_extension": ".py",
   "mimetype": "text/x-python",
   "name": "python",
   "nbconvert_exporter": "python",
   "pygments_lexer": "ipython3",
   "version": "3.12.1"
  }
 },
 "nbformat": 4,
 "nbformat_minor": 2
}
