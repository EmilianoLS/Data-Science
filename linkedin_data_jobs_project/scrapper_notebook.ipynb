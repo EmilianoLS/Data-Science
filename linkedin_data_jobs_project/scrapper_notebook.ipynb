{
 "cells": [
  {
   "cell_type": "code",
   "execution_count": 1,
   "metadata": {},
   "outputs": [],
   "source": [
    "from utils.scrapper import LinkedInBot"
   ]
  },
  {
   "cell_type": "code",
   "execution_count": 2,
   "metadata": {},
   "outputs": [
    {
     "name": "stdout",
     "output_type": "stream",
     "text": [
      "Input Email\n",
      "Input Password\n"
     ]
    },
    {
     "name": "stderr",
     "output_type": "stream",
     "text": [
      "2022-08-21 20:29:18,515 - root - INFO - Starting driver\n"
     ]
    },
    {
     "name": "stdout",
     "output_type": "stream",
     "text": [
      "\n"
     ]
    },
    {
     "name": "stderr",
     "output_type": "stream",
     "text": [
      "2022-08-21 20:29:18,516 - WDM - INFO - ====== WebDriver manager ======\n",
      "2022-08-21 20:29:18,928 - WDM - INFO - Get LATEST chromedriver version for google-chrome 104.0.5112\n",
      "2022-08-21 20:29:19,660 - WDM - INFO - Driver [C:\\Users\\Emi\\.wdm\\drivers\\chromedriver\\win32\\104.0.5112\\chromedriver.exe] found in cache\n",
      "2022-08-21 20:29:27,563 - root - INFO - Begin linkedin keyword search\n",
      "2022-08-21 20:29:27,563 - root - INFO - Searching jobs page\n",
      "2022-08-21 20:29:49,485 - root - INFO - Keyword search successful\n",
      "2022-08-21 20:29:59,511 - root - INFO - Getting Jobs\n",
      "2022-08-21 20:34:20,483 - root - INFO - Getting Jobs\n",
      "2022-08-21 20:38:41,392 - root - INFO - Getting Jobs\n",
      "2022-08-21 20:43:01,915 - root - INFO - Getting Jobs\n",
      "2022-08-21 20:47:22,439 - root - INFO - Getting Jobs\n",
      "2022-08-21 20:51:42,795 - root - INFO - Getting Jobs\n",
      "2022-08-21 20:56:03,522 - root - INFO - Done scraping.\n",
      "2022-08-21 20:56:03,522 - root - INFO - Closing DB connection.\n",
      "2022-08-21 20:56:03,523 - root - INFO - Closing session\n"
     ]
    }
   ],
   "source": [
    "# Declare inputs \n",
    "print('Input Email')\n",
    "email = input()\n",
    "print('Input Password')\n",
    "password = input()\n",
    "\n",
    "email = email\n",
    "password = password\n",
    "bot = LinkedInBot()\n",
    "bot.run(email, password, \"Data Scientist\", \"Canada\")"
   ]
  },
  {
   "cell_type": "code",
   "execution_count": null,
   "metadata": {},
   "outputs": [],
   "source": []
  }
 ],
 "metadata": {
  "kernelspec": {
   "display_name": "Python 3.7.9 64-bit",
   "language": "python",
   "name": "python3"
  },
  "language_info": {
   "codemirror_mode": {
    "name": "ipython",
    "version": 3
   },
   "file_extension": ".py",
   "mimetype": "text/x-python",
   "name": "python",
   "nbconvert_exporter": "python",
   "pygments_lexer": "ipython3",
   "version": "3.7.9"
  },
  "orig_nbformat": 4,
  "vscode": {
   "interpreter": {
    "hash": "29bb4e092f6c1f742912b0512128460d096bc447cf66ae7db104fe556b73f130"
   }
  }
 },
 "nbformat": 4,
 "nbformat_minor": 2
}
