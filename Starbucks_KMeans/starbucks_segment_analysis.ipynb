{
  "nbformat": 4,
  "nbformat_minor": 0,
  "metadata": {
    "colab": {
      "name": "starbucks_segment_analysis.ipynb",
      "provenance": [],
      "toc_visible": true,
      "authorship_tag": "ABX9TyO0usKxjca6xQO/1ml5diiA",
      "include_colab_link": true
    },
    "kernelspec": {
      "name": "python3",
      "display_name": "Python 3"
    },
    "language_info": {
      "name": "python"
    }
  },
  "cells": [
    {
      "cell_type": "markdown",
      "metadata": {
        "id": "view-in-github",
        "colab_type": "text"
      },
      "source": [
        "<a href=\"https://colab.research.google.com/github/EmilianoLS/Data-Science/blob/main/Starbucks_KMeans/starbucks_segment_analysis.ipynb\" target=\"_parent\"><img src=\"https://colab.research.google.com/assets/colab-badge.svg\" alt=\"Open In Colab\"/></a>"
      ]
    },
    {
      "cell_type": "code",
      "metadata": {
        "id": "MeBAHRefhPzj"
      },
      "source": [
        "import pandas as pd\n",
        "import numpy as np\n",
        "import matplotlib.pyplot as plt\n",
        "import seaborn as sns \n",
        "import plotly.express as px\n",
        "import json\n",
        "\n",
        "plt.style.use('ggplot')"
      ],
      "execution_count": 1,
      "outputs": []
    },
    {
      "cell_type": "code",
      "metadata": {
        "id": "xxszmDEmhWcp"
      },
      "source": [
        "# Json file links \n",
        "portfolio_url  = 'https://raw.githubusercontent.com/seifip/starbucks-customer-segmentation/master/data/portfolio.json'\n",
        "profile_url    = 'https://raw.githubusercontent.com/seifip/starbucks-customer-segmentation/master/data/profile.json'\n",
        "transcript_url = 'https://raw.githubusercontent.com/seifip/starbucks-customer-segmentation/master/data/transcript.json'\n",
        "\n",
        "# Create dataframe\n",
        "portfolio = pd.read_json(portfolio_url, lines = True)\n",
        "profile = pd.read_json(profile_url, lines = True)\n",
        "transcript = pd.read_json(transcript_url, lines = True)"
      ],
      "execution_count": 2,
      "outputs": []
    },
    {
      "cell_type": "markdown",
      "metadata": {
        "id": "ZIGFXgRDjVaa"
      },
      "source": [
        "Examinar dataframes"
      ]
    },
    {
      "cell_type": "code",
      "metadata": {
        "colab": {
          "base_uri": "https://localhost:8080/",
          "height": 204
        },
        "id": "JNazVEWnh6DB",
        "outputId": "0a17575a-b779-47bc-b9ac-2b675636c111"
      },
      "source": [
        "# Portfolio\n",
        "# Historial de ofertas enviadas en los últimos 30 dias\n",
        "portfolio.head()"
      ],
      "execution_count": 3,
      "outputs": [
        {
          "output_type": "execute_result",
          "data": {
            "text/html": [
              "<div>\n",
              "<style scoped>\n",
              "    .dataframe tbody tr th:only-of-type {\n",
              "        vertical-align: middle;\n",
              "    }\n",
              "\n",
              "    .dataframe tbody tr th {\n",
              "        vertical-align: top;\n",
              "    }\n",
              "\n",
              "    .dataframe thead th {\n",
              "        text-align: right;\n",
              "    }\n",
              "</style>\n",
              "<table border=\"1\" class=\"dataframe\">\n",
              "  <thead>\n",
              "    <tr style=\"text-align: right;\">\n",
              "      <th></th>\n",
              "      <th>reward</th>\n",
              "      <th>channels</th>\n",
              "      <th>difficulty</th>\n",
              "      <th>duration</th>\n",
              "      <th>offer_type</th>\n",
              "      <th>id</th>\n",
              "    </tr>\n",
              "  </thead>\n",
              "  <tbody>\n",
              "    <tr>\n",
              "      <th>0</th>\n",
              "      <td>10</td>\n",
              "      <td>[email, mobile, social]</td>\n",
              "      <td>10</td>\n",
              "      <td>7</td>\n",
              "      <td>bogo</td>\n",
              "      <td>ae264e3637204a6fb9bb56bc8210ddfd</td>\n",
              "    </tr>\n",
              "    <tr>\n",
              "      <th>1</th>\n",
              "      <td>10</td>\n",
              "      <td>[web, email, mobile, social]</td>\n",
              "      <td>10</td>\n",
              "      <td>5</td>\n",
              "      <td>bogo</td>\n",
              "      <td>4d5c57ea9a6940dd891ad53e9dbe8da0</td>\n",
              "    </tr>\n",
              "    <tr>\n",
              "      <th>2</th>\n",
              "      <td>0</td>\n",
              "      <td>[web, email, mobile]</td>\n",
              "      <td>0</td>\n",
              "      <td>4</td>\n",
              "      <td>informational</td>\n",
              "      <td>3f207df678b143eea3cee63160fa8bed</td>\n",
              "    </tr>\n",
              "    <tr>\n",
              "      <th>3</th>\n",
              "      <td>5</td>\n",
              "      <td>[web, email, mobile]</td>\n",
              "      <td>5</td>\n",
              "      <td>7</td>\n",
              "      <td>bogo</td>\n",
              "      <td>9b98b8c7a33c4b65b9aebfe6a799e6d9</td>\n",
              "    </tr>\n",
              "    <tr>\n",
              "      <th>4</th>\n",
              "      <td>5</td>\n",
              "      <td>[web, email]</td>\n",
              "      <td>20</td>\n",
              "      <td>10</td>\n",
              "      <td>discount</td>\n",
              "      <td>0b1e1539f2cc45b7b9fa7c272da2e1d7</td>\n",
              "    </tr>\n",
              "  </tbody>\n",
              "</table>\n",
              "</div>"
            ],
            "text/plain": [
              "   reward  ...                                id\n",
              "0      10  ...  ae264e3637204a6fb9bb56bc8210ddfd\n",
              "1      10  ...  4d5c57ea9a6940dd891ad53e9dbe8da0\n",
              "2       0  ...  3f207df678b143eea3cee63160fa8bed\n",
              "3       5  ...  9b98b8c7a33c4b65b9aebfe6a799e6d9\n",
              "4       5  ...  0b1e1539f2cc45b7b9fa7c272da2e1d7\n",
              "\n",
              "[5 rows x 6 columns]"
            ]
          },
          "metadata": {
            "tags": []
          },
          "execution_count": 3
        }
      ]
    },
    {
      "cell_type": "code",
      "metadata": {
        "colab": {
          "base_uri": "https://localhost:8080/",
          "height": 204
        },
        "id": "GdEKLv4xjaPZ",
        "outputId": "2b455771-b343-45a2-9d1d-b7b34a869c30"
      },
      "source": [
        "# Profile\n",
        "# Contiene información sobre la edad, fecha en la que se volvio miembro y ofertas que ha recibido\n",
        "profile.head()"
      ],
      "execution_count": 4,
      "outputs": [
        {
          "output_type": "execute_result",
          "data": {
            "text/html": [
              "<div>\n",
              "<style scoped>\n",
              "    .dataframe tbody tr th:only-of-type {\n",
              "        vertical-align: middle;\n",
              "    }\n",
              "\n",
              "    .dataframe tbody tr th {\n",
              "        vertical-align: top;\n",
              "    }\n",
              "\n",
              "    .dataframe thead th {\n",
              "        text-align: right;\n",
              "    }\n",
              "</style>\n",
              "<table border=\"1\" class=\"dataframe\">\n",
              "  <thead>\n",
              "    <tr style=\"text-align: right;\">\n",
              "      <th></th>\n",
              "      <th>gender</th>\n",
              "      <th>age</th>\n",
              "      <th>id</th>\n",
              "      <th>became_member_on</th>\n",
              "      <th>income</th>\n",
              "    </tr>\n",
              "  </thead>\n",
              "  <tbody>\n",
              "    <tr>\n",
              "      <th>0</th>\n",
              "      <td>None</td>\n",
              "      <td>118</td>\n",
              "      <td>68be06ca386d4c31939f3a4f0e3dd783</td>\n",
              "      <td>20170212</td>\n",
              "      <td>NaN</td>\n",
              "    </tr>\n",
              "    <tr>\n",
              "      <th>1</th>\n",
              "      <td>F</td>\n",
              "      <td>55</td>\n",
              "      <td>0610b486422d4921ae7d2bf64640c50b</td>\n",
              "      <td>20170715</td>\n",
              "      <td>112000.0</td>\n",
              "    </tr>\n",
              "    <tr>\n",
              "      <th>2</th>\n",
              "      <td>None</td>\n",
              "      <td>118</td>\n",
              "      <td>38fe809add3b4fcf9315a9694bb96ff5</td>\n",
              "      <td>20180712</td>\n",
              "      <td>NaN</td>\n",
              "    </tr>\n",
              "    <tr>\n",
              "      <th>3</th>\n",
              "      <td>F</td>\n",
              "      <td>75</td>\n",
              "      <td>78afa995795e4d85b5d9ceeca43f5fef</td>\n",
              "      <td>20170509</td>\n",
              "      <td>100000.0</td>\n",
              "    </tr>\n",
              "    <tr>\n",
              "      <th>4</th>\n",
              "      <td>None</td>\n",
              "      <td>118</td>\n",
              "      <td>a03223e636434f42ac4c3df47e8bac43</td>\n",
              "      <td>20170804</td>\n",
              "      <td>NaN</td>\n",
              "    </tr>\n",
              "  </tbody>\n",
              "</table>\n",
              "</div>"
            ],
            "text/plain": [
              "  gender  age                                id  became_member_on    income\n",
              "0   None  118  68be06ca386d4c31939f3a4f0e3dd783          20170212       NaN\n",
              "1      F   55  0610b486422d4921ae7d2bf64640c50b          20170715  112000.0\n",
              "2   None  118  38fe809add3b4fcf9315a9694bb96ff5          20180712       NaN\n",
              "3      F   75  78afa995795e4d85b5d9ceeca43f5fef          20170509  100000.0\n",
              "4   None  118  a03223e636434f42ac4c3df47e8bac43          20170804       NaN"
            ]
          },
          "metadata": {
            "tags": []
          },
          "execution_count": 4
        }
      ]
    },
    {
      "cell_type": "code",
      "metadata": {
        "colab": {
          "base_uri": "https://localhost:8080/",
          "height": 204
        },
        "id": "EVQ8xD6njc2l",
        "outputId": "f53ca481-2894-460d-b1e9-c02b49db3999"
      },
      "source": [
        "# Transcript\n",
        "# Lista de interacciones y compras \n",
        "transcript.head()"
      ],
      "execution_count": 5,
      "outputs": [
        {
          "output_type": "execute_result",
          "data": {
            "text/html": [
              "<div>\n",
              "<style scoped>\n",
              "    .dataframe tbody tr th:only-of-type {\n",
              "        vertical-align: middle;\n",
              "    }\n",
              "\n",
              "    .dataframe tbody tr th {\n",
              "        vertical-align: top;\n",
              "    }\n",
              "\n",
              "    .dataframe thead th {\n",
              "        text-align: right;\n",
              "    }\n",
              "</style>\n",
              "<table border=\"1\" class=\"dataframe\">\n",
              "  <thead>\n",
              "    <tr style=\"text-align: right;\">\n",
              "      <th></th>\n",
              "      <th>person</th>\n",
              "      <th>event</th>\n",
              "      <th>value</th>\n",
              "      <th>time</th>\n",
              "    </tr>\n",
              "  </thead>\n",
              "  <tbody>\n",
              "    <tr>\n",
              "      <th>0</th>\n",
              "      <td>78afa995795e4d85b5d9ceeca43f5fef</td>\n",
              "      <td>offer received</td>\n",
              "      <td>{'offer id': '9b98b8c7a33c4b65b9aebfe6a799e6d9'}</td>\n",
              "      <td>0</td>\n",
              "    </tr>\n",
              "    <tr>\n",
              "      <th>1</th>\n",
              "      <td>a03223e636434f42ac4c3df47e8bac43</td>\n",
              "      <td>offer received</td>\n",
              "      <td>{'offer id': '0b1e1539f2cc45b7b9fa7c272da2e1d7'}</td>\n",
              "      <td>0</td>\n",
              "    </tr>\n",
              "    <tr>\n",
              "      <th>2</th>\n",
              "      <td>e2127556f4f64592b11af22de27a7932</td>\n",
              "      <td>offer received</td>\n",
              "      <td>{'offer id': '2906b810c7d4411798c6938adc9daaa5'}</td>\n",
              "      <td>0</td>\n",
              "    </tr>\n",
              "    <tr>\n",
              "      <th>3</th>\n",
              "      <td>8ec6ce2a7e7949b1bf142def7d0e0586</td>\n",
              "      <td>offer received</td>\n",
              "      <td>{'offer id': 'fafdcd668e3743c1bb461111dcafc2a4'}</td>\n",
              "      <td>0</td>\n",
              "    </tr>\n",
              "    <tr>\n",
              "      <th>4</th>\n",
              "      <td>68617ca6246f4fbc85e91a2a49552598</td>\n",
              "      <td>offer received</td>\n",
              "      <td>{'offer id': '4d5c57ea9a6940dd891ad53e9dbe8da0'}</td>\n",
              "      <td>0</td>\n",
              "    </tr>\n",
              "  </tbody>\n",
              "</table>\n",
              "</div>"
            ],
            "text/plain": [
              "                             person  ... time\n",
              "0  78afa995795e4d85b5d9ceeca43f5fef  ...    0\n",
              "1  a03223e636434f42ac4c3df47e8bac43  ...    0\n",
              "2  e2127556f4f64592b11af22de27a7932  ...    0\n",
              "3  8ec6ce2a7e7949b1bf142def7d0e0586  ...    0\n",
              "4  68617ca6246f4fbc85e91a2a49552598  ...    0\n",
              "\n",
              "[5 rows x 4 columns]"
            ]
          },
          "metadata": {
            "tags": []
          },
          "execution_count": 5
        }
      ]
    },
    {
      "cell_type": "markdown",
      "metadata": {
        "id": "HfSsVnQxkHF5"
      },
      "source": [
        "## Data Wrangling"
      ]
    },
    {
      "cell_type": "markdown",
      "metadata": {
        "id": "1EGkkohbkJns"
      },
      "source": [
        "A primera vista muchos campos no se encontrarían *normalizados*. Como mínimo, se esperaría que todos los datos se encuentren *atomizados*, motivo por el cual en la siguiente sección se buscará que en cada registro haya únicamente un solo dato (y no por ejemplo, una lista de elementos.\n",
        "\n",
        "* Feature *channels*: se pasará a columnas y serán datos binarios\n",
        "* Feature *value*: se extraerá el id de la oferta o el amount \n",
        "* Feature *became_member_on*: se convertirá a una variable tipo *datetime*"
      ]
    },
    {
      "cell_type": "markdown",
      "metadata": {
        "id": "ANuf6NP6kxcq"
      },
      "source": [
        "### Obteniendo variables dummies para la feature *channels*"
      ]
    },
    {
      "cell_type": "code",
      "metadata": {
        "colab": {
          "base_uri": "https://localhost:8080/"
        },
        "id": "cqoesZC1jgd7",
        "outputId": "0dc322d4-b912-4fa1-afa2-4bd4d9b25227"
      },
      "source": [
        "# Primero es necesario entender cuántos canales de comunicación posible existen\n",
        "columns = set()\n",
        "for i in range(len(portfolio)):\n",
        "  for j in portfolio['channels'][i]:\n",
        "    columns.add(j)\n",
        "\n",
        "print(columns)"
      ],
      "execution_count": 6,
      "outputs": [
        {
          "output_type": "stream",
          "text": [
            "{'web', 'mobile', 'email', 'social'}\n"
          ],
          "name": "stdout"
        }
      ]
    },
    {
      "cell_type": "markdown",
      "metadata": {
        "id": "qAFEji1HllYQ"
      },
      "source": [
        "Los canales existentes son:\n",
        "\n",
        "* email\n",
        "* mobile\n",
        "* social\n",
        "* web\n",
        "\n",
        "Por tal motivo se crearán 4 variables dummies de igual nombre, cada una de tipo *bool*"
      ]
    },
    {
      "cell_type": "code",
      "metadata": {
        "id": "56i_35BQl2I0",
        "outputId": "380abbb5-a7bc-4eab-e592-38542a66e447",
        "colab": {
          "base_uri": "https://localhost:8080/"
        }
      },
      "source": [
        "# Creo las columnas dummies vacias\n",
        "for i in columns:\n",
        "  portfolio[i] = 0\n",
        "\n",
        "# Coloco 1 en aquellos canales que están presentes en la columna channels\n",
        "for i in range(len(portfolio)):\n",
        "  for j in portfolio['channels'][i]:\n",
        "    portfolio[j][i] = 1"
      ],
      "execution_count": 7,
      "outputs": [
        {
          "output_type": "stream",
          "text": [
            "/usr/local/lib/python3.7/dist-packages/ipykernel_launcher.py:8: SettingWithCopyWarning:\n",
            "\n",
            "\n",
            "A value is trying to be set on a copy of a slice from a DataFrame\n",
            "\n",
            "See the caveats in the documentation: https://pandas.pydata.org/pandas-docs/stable/user_guide/indexing.html#returning-a-view-versus-a-copy\n",
            "\n"
          ],
          "name": "stderr"
        }
      ]
    },
    {
      "cell_type": "markdown",
      "metadata": {
        "id": "L53Xp1ky91-W"
      },
      "source": [
        "### Obtener el id/amount de la oferta"
      ]
    },
    {
      "cell_type": "code",
      "metadata": {
        "id": "K_DPOP8C-x-i",
        "outputId": "45d0d165-cdb8-4b4e-f7f5-a052c992c203",
        "colab": {
          "base_uri": "https://localhost:8080/",
          "height": 204
        }
      },
      "source": [
        "# Debido a la gran cantidad de registros, un for que ingrese individualmente \n",
        "# a cada uno y vaya extrayendo la informacion necesaria para luego colocarla\n",
        "# en una columna no sería practico (demora mucho tiempo). \n",
        "# Por este motivo, se crea un diccionario con los dos valores posibles de offer id y amount\n",
        "# y se van completando. Luego el diccionario se puede convertir a DataFrame para\n",
        "# apendearlo al dataframe original de transcripts\n",
        "\n",
        "# Creo el diccionario vacio\n",
        "diccionario = {'offer_id': [], 'amount': []}\n",
        "\n",
        "# Recorro los registros, extrayendo aquellos datos que tengan información, de\n",
        "# otra forma se coloca un nan\n",
        "for i in range(len(transcript)):\n",
        "  oferta = transcript['value'][i].get('offer id', np.nan)\n",
        "  amount = transcript['value'][i].get('amount', np.nan)\n",
        "  diccionario['offer_id'].append(oferta)\n",
        "  diccionario['amount'].append(amount)\n",
        "\n",
        "# Observamos el resultado final pasado a dataframe\n",
        "value_df = pd.DataFrame(diccionario)\n",
        "value_df.head()"
      ],
      "execution_count": 8,
      "outputs": [
        {
          "output_type": "execute_result",
          "data": {
            "text/html": [
              "<div>\n",
              "<style scoped>\n",
              "    .dataframe tbody tr th:only-of-type {\n",
              "        vertical-align: middle;\n",
              "    }\n",
              "\n",
              "    .dataframe tbody tr th {\n",
              "        vertical-align: top;\n",
              "    }\n",
              "\n",
              "    .dataframe thead th {\n",
              "        text-align: right;\n",
              "    }\n",
              "</style>\n",
              "<table border=\"1\" class=\"dataframe\">\n",
              "  <thead>\n",
              "    <tr style=\"text-align: right;\">\n",
              "      <th></th>\n",
              "      <th>offer_id</th>\n",
              "      <th>amount</th>\n",
              "    </tr>\n",
              "  </thead>\n",
              "  <tbody>\n",
              "    <tr>\n",
              "      <th>0</th>\n",
              "      <td>9b98b8c7a33c4b65b9aebfe6a799e6d9</td>\n",
              "      <td>NaN</td>\n",
              "    </tr>\n",
              "    <tr>\n",
              "      <th>1</th>\n",
              "      <td>0b1e1539f2cc45b7b9fa7c272da2e1d7</td>\n",
              "      <td>NaN</td>\n",
              "    </tr>\n",
              "    <tr>\n",
              "      <th>2</th>\n",
              "      <td>2906b810c7d4411798c6938adc9daaa5</td>\n",
              "      <td>NaN</td>\n",
              "    </tr>\n",
              "    <tr>\n",
              "      <th>3</th>\n",
              "      <td>fafdcd668e3743c1bb461111dcafc2a4</td>\n",
              "      <td>NaN</td>\n",
              "    </tr>\n",
              "    <tr>\n",
              "      <th>4</th>\n",
              "      <td>4d5c57ea9a6940dd891ad53e9dbe8da0</td>\n",
              "      <td>NaN</td>\n",
              "    </tr>\n",
              "  </tbody>\n",
              "</table>\n",
              "</div>"
            ],
            "text/plain": [
              "                           offer_id  amount\n",
              "0  9b98b8c7a33c4b65b9aebfe6a799e6d9     NaN\n",
              "1  0b1e1539f2cc45b7b9fa7c272da2e1d7     NaN\n",
              "2  2906b810c7d4411798c6938adc9daaa5     NaN\n",
              "3  fafdcd668e3743c1bb461111dcafc2a4     NaN\n",
              "4  4d5c57ea9a6940dd891ad53e9dbe8da0     NaN"
            ]
          },
          "metadata": {
            "tags": []
          },
          "execution_count": 8
        }
      ]
    },
    {
      "cell_type": "code",
      "metadata": {
        "id": "Dg2DAC-rHUOy"
      },
      "source": [
        "# Agregamos estas dos columnas al dataframe original de transcripts y dropeamos \n",
        "# la columna de value\n",
        "\n",
        "transcript = pd.concat([transcript, value_df], axis=1)\n",
        "transcript.drop(columns = 'value', axis = 1, inplace = True)"
      ],
      "execution_count": 9,
      "outputs": []
    },
    {
      "cell_type": "markdown",
      "metadata": {
        "id": "HqiVea2Lc7fw"
      },
      "source": [
        "### Convertir la fecha en la que el usuario se hizo miembro de *int* a *date*"
      ]
    },
    {
      "cell_type": "code",
      "metadata": {
        "id": "hn6FvPD6b64E"
      },
      "source": [
        "# Primero convierto el int en una variable str para luego utilizar la funcion\n",
        "# to datetime\n",
        "profile['became_member_on'] = [str(x) for x in profile['became_member_on']]\n",
        "\n",
        "# Convierto a datetime\n",
        "profile['became_member_on'] = pd.to_datetime(profile['became_member_on'])"
      ],
      "execution_count": 10,
      "outputs": []
    },
    {
      "cell_type": "markdown",
      "metadata": {
        "id": "mQpHM43wfDxv"
      },
      "source": [
        "## Feature Engineering"
      ]
    },
    {
      "cell_type": "markdown",
      "metadata": {
        "id": "VZeJfpp2hdAI"
      },
      "source": [
        "En esta sección, atenderemos los problemas más comunes en estos proyectos, los cuales son:\n",
        "\n",
        "* Valores nulos\n",
        "* Valores atípicos (*outliers*)\n",
        "\n",
        "El objetivo es obtener una base de datos lo suficientemente *limpia* para poder desarrollar nuestros modelos. Logicamente, si lo que introducimos a los modelos es basura, el modelo arrojará basura!"
      ]
    },
    {
      "cell_type": "markdown",
      "metadata": {
        "id": "UtnMN9tbfKIw"
      },
      "source": [
        "### Profiles"
      ]
    },
    {
      "cell_type": "code",
      "metadata": {
        "id": "wwH2FbJydwQu",
        "outputId": "800e936f-76e9-4450-facc-ab45210d9a40",
        "colab": {
          "base_uri": "https://localhost:8080/"
        }
      },
      "source": [
        "# Veamos la cantidad de nulos en cada columna\n",
        "print('Porcentaje de valores nulos en cada feature')\n",
        "profile.isna().sum()/profile.shape[0]*100"
      ],
      "execution_count": 11,
      "outputs": [
        {
          "output_type": "stream",
          "text": [
            "Porcentaje de valores nulos en cada feature\n"
          ],
          "name": "stdout"
        },
        {
          "output_type": "execute_result",
          "data": {
            "text/plain": [
              "gender              12.794118\n",
              "age                  0.000000\n",
              "id                   0.000000\n",
              "became_member_on     0.000000\n",
              "income              12.794118\n",
              "dtype: float64"
            ]
          },
          "metadata": {
            "tags": []
          },
          "execution_count": 11
        }
      ]
    },
    {
      "cell_type": "markdown",
      "metadata": {
        "id": "Ivw3zfkhnf7T"
      },
      "source": [
        "Se observa vque tanto el feature *gender* como *income* tienen el **mismo** porcentaje de valores nulos. Esto hace sospechar que en todo lugar donde haya un *gender* nulo, el income también lo será. "
      ]
    },
    {
      "cell_type": "code",
      "metadata": {
        "id": "9WX5ZGBBfMJC",
        "outputId": "e89f7375-81fb-4fa4-b922-21fd3a6e8c12",
        "colab": {
          "base_uri": "https://localhost:8080/"
        }
      },
      "source": [
        "profile.loc[profile['gender'].isna()].isna().sum()"
      ],
      "execution_count": 12,
      "outputs": [
        {
          "output_type": "execute_result",
          "data": {
            "text/plain": [
              "gender              2175\n",
              "age                    0\n",
              "id                     0\n",
              "became_member_on       0\n",
              "income              2175\n",
              "dtype: int64"
            ]
          },
          "metadata": {
            "tags": []
          },
          "execution_count": 12
        }
      ]
    },
    {
      "cell_type": "markdown",
      "metadata": {
        "id": "Ax8_sRa2oDQm"
      },
      "source": [
        "Arriba queda demostrado la teoría propuesta anteriormente. Observemos los valores únicos existentes en *gender*"
      ]
    },
    {
      "cell_type": "code",
      "metadata": {
        "id": "maoUs3NHn_Mi",
        "outputId": "fc3c7772-5b5e-498c-b46f-86e4595047f5",
        "colab": {
          "base_uri": "https://localhost:8080/",
          "height": 518
        }
      },
      "source": [
        "# Obtenemos las heights e index para graficar las proporciones de cada tipo de genero\n",
        "value_gender = profile.gender.value_counts(normalize = True).values\n",
        "index_gender = profile.gender.value_counts(normalize = True).index\n",
        "\n",
        "# Ploteamos\n",
        "plt.figure(figsize = (10,8))\n",
        "plt.title('Proporción de géneros')\n",
        "plt.bar(index_gender, value_gender)"
      ],
      "execution_count": 13,
      "outputs": [
        {
          "output_type": "execute_result",
          "data": {
            "text/plain": [
              "<BarContainer object of 3 artists>"
            ]
          },
          "metadata": {
            "tags": []
          },
          "execution_count": 13
        },
        {
          "output_type": "display_data",
          "data": {
            "image/png": "[encoded data removed]",
            "text/plain": [
              "<Figure size 720x576 with 1 Axes>"
            ]
          },
          "metadata": {
            "tags": [],
            "needs_background": "light"
          }
        }
      ]
    },
    {
      "cell_type": "markdown",
      "metadata": {
        "id": "187mWMOOphh7"
      },
      "source": [
        "**Nota**: Hay una pequeña proporción que se identifica como *others*. "
      ]
    },
    {
      "cell_type": "markdown",
      "metadata": {
        "id": "ZTZltVyjp-86"
      },
      "source": [
        "Distribución del *income* por género"
      ]
    },
    {
      "cell_type": "code",
      "metadata": {
        "id": "lFW9HQwXqERB",
        "outputId": "6a90afd4-1c76-4d36-b9aa-76afd84a7956",
        "colab": {
          "base_uri": "https://localhost:8080/",
          "height": 518
        }
      },
      "source": [
        "plt.figure(figsize = (10, 8))\n",
        "sns.histplot(data = profile, x = 'income', hue = 'gender', alpha = 0.5)"
      ],
      "execution_count": 14,
      "outputs": [
        {
          "output_type": "execute_result",
          "data": {
            "text/plain": [
              "<matplotlib.axes._subplots.AxesSubplot at 0x7fd741b6ca50>"
            ]
          },
          "metadata": {
            "tags": []
          },
          "execution_count": 14
        },
        {
          "output_type": "display_data",
          "data": {
            "image/png": "[encoded data removed]",
            "text/plain": [
              "<Figure size 720x576 with 1 Axes>"
            ]
          },
          "metadata": {
            "tags": [],
            "needs_background": "light"
          }
        }
      ]
    },
    {
      "cell_type": "markdown",
      "metadata": {
        "id": "sz8VHwyI8u10"
      },
      "source": [
        "No pareciera haber gran diferencia en la distribución del *income* según el género. Tanto los hombres como las mujeres tienen una distribución similar en sus ingresos. Aquellos que se identifican con *Others* también tienen una distribución parecida a la de los dos grupos anteriores, si bien debido a la baja proporción de este grupo, el número no es tan notable."
      ]
    },
    {
      "cell_type": "markdown",
      "metadata": {
        "id": "1UHdYBdkD6Vo"
      },
      "source": [
        "Observando un sample del *dataset* se encuentran algunas edades fuera de lo común, en particular, algunos individuos presentan 118 años de edad, y por lo que se observa, pareciera ser en aquellos casos donde el *gender* es desconocido."
      ]
    },
    {
      "cell_type": "code",
      "metadata": {
        "id": "OV0E764wpwal",
        "outputId": "f609c81d-a6b7-4fbe-d8f0-d1e10223f45b",
        "colab": {
          "base_uri": "https://localhost:8080/",
          "height": 488
        }
      },
      "source": [
        "# Ploteo la distribucion de las edades\n",
        "fig, ax = plt.subplots(nrows = 1, ncols = 2, figsize = (20,8))\n",
        "ax[0].set_title('Distribución de las edades')\n",
        "ax[1].set_title('Distribución de las edades')\n",
        "sns.histplot(profile['age'], ax = ax[0])\n",
        "sns.violinplot(data = profile, y = 'gender', x = 'age', inner = 'quart')"
      ],
      "execution_count": 29,
      "outputs": [
        {
          "output_type": "execute_result",
          "data": {
            "text/plain": [
              "<matplotlib.axes._subplots.AxesSubplot at 0x7fd741098450>"
            ]
          },
          "metadata": {
            "tags": []
          },
          "execution_count": 29
        },
        {
          "output_type": "display_data",
          "data": {
            "image/png": "[encoded data removed]",
            "text/plain": [
              "<Figure size 1440x576 with 2 Axes>"
            ]
          },
          "metadata": {
            "tags": [],
            "needs_background": "light"
          }
        }
      ]
    },
    {
      "cell_type": "markdown",
      "metadata": {
        "id": "QnRw1Kb2IE_C"
      },
      "source": [
        "Todos los grupos parecieran tener medias similares alrededor de los 57/58 años. De forma similar, el 75% de las personas en todos los grupos se concentra por debajo de los 65 años aproximadamente. La única ligera diferencia que puede percibirse en el grupo de las mujeres, donde encontramos que las edades parecen estar un poco más extendidas entre los 40 y los 65.\n",
        "\n",
        "Sin embargo, en el histograma de la izquierda observamos una gran concentración de individuos con una edad de 118 años, tal y como habíamos sospechado, ¿qué ocurrió?"
      ]
    },
    {
      "cell_type": "code",
      "metadata": {
        "id": "zCKX3zgLD3Ki",
        "outputId": "6bf55eba-4c69-4ea5-9366-0a535e172728",
        "colab": {
          "base_uri": "https://localhost:8080/"
        }
      },
      "source": [
        "# Chequeamos los nulos para aquellos registros con edades superiores a 100 años \n",
        "profile[profile['age'] > 100].isna().sum()"
      ],
      "execution_count": 32,
      "outputs": [
        {
          "output_type": "execute_result",
          "data": {
            "text/plain": [
              "gender              2175\n",
              "age                    0\n",
              "id                     0\n",
              "became_member_on       0\n",
              "income              2175\n",
              "dtype: int64"
            ]
          },
          "metadata": {
            "tags": []
          },
          "execution_count": 32
        }
      ]
    },
    {
      "cell_type": "markdown",
      "metadata": {
        "id": "47XXelbnSsX2"
      },
      "source": [
        "Pareciera ser que en todos los casos donde el *gender* es nulo, la edad toma un valor atípicamente grande. Podría ser que fuese un valor mal imputado, ya que si observamos la distribución de edades, un gran número se encuentra en este rango de edades, lo que sugiere que todo aquel individuo del cuál no se tenía información se imputaba una edad elevada."
      ]
    },
    {
      "cell_type": "code",
      "metadata": {
        "id": "4YKE2Qh9SBvP",
        "outputId": "f53c53dd-a909-485c-d18b-67b9a8551252",
        "colab": {
          "base_uri": "https://localhost:8080/",
          "height": 496
        }
      },
      "source": [
        "# Estudiamos más en detalle los valores extremos\n",
        "plt.hist(profile[profile['age'] > 100]['age'], bins = 30)"
      ],
      "execution_count": 34,
      "outputs": [
        {
          "output_type": "execute_result",
          "data": {
            "text/plain": [
              "(array([   5.,    0.,    0.,    0.,    0.,    0.,    0.,    0.,    0.,\n",
              "           0.,    0.,    0.,    0.,    0.,    0.,    0.,    0.,    0.,\n",
              "           0.,    0.,    0.,    0.,    0.,    0.,    0.,    0.,    0.,\n",
              "           0.,    0., 2175.]),\n",
              " array([101.        , 101.56666667, 102.13333333, 102.7       ,\n",
              "        103.26666667, 103.83333333, 104.4       , 104.96666667,\n",
              "        105.53333333, 106.1       , 106.66666667, 107.23333333,\n",
              "        107.8       , 108.36666667, 108.93333333, 109.5       ,\n",
              "        110.06666667, 110.63333333, 111.2       , 111.76666667,\n",
              "        112.33333333, 112.9       , 113.46666667, 114.03333333,\n",
              "        114.6       , 115.16666667, 115.73333333, 116.3       ,\n",
              "        116.86666667, 117.43333333, 118.        ]),\n",
              " <a list of 30 Patch objects>)"
            ]
          },
          "metadata": {
            "tags": []
          },
          "execution_count": 34
        },
        {
          "output_type": "display_data",
          "data": {
            "image/png": "[encoded data removed]",
            "text/plain": [
              "<Figure size 432x288 with 1 Axes>"
            ]
          },
          "metadata": {
            "tags": [],
            "needs_background": "light"
          }
        }
      ]
    },
    {
      "cell_type": "markdown",
      "metadata": {
        "id": "j2oI9JHwTVZF"
      },
      "source": [
        "La mayoría de los usuarios fue imputado con un valor de 118 años, sin embargo, existen unos muy pocos casos con 101 aproximadamente. Esta minoría no podemos asumirla como un outlier.\n",
        "\n",
        "Si fuesen unos pocos casos, o si estuviesen distribuidos de otra forma, no habría necesidad de cambiar estos datos. Sin embargo, hay una clara imputación de estos valores, de hecho tiene sentido ya que los valores extremos de *age* solamente se encuentran en los casos donde hay atributos faltantes, lo que sugiere que hubo una mala imputación.\n",
        "\n",
        "El procedimiento a seguir será primero imputar un genero (M, F, O) en el *feature gender*, a partir de la distribución resultante, se imputarán valores de edad más adecuados."
      ]
    },
    {
      "cell_type": "markdown",
      "metadata": {
        "id": "cFjAlmq14B-P"
      },
      "source": [
        "#### Imputacion de valores faltantes para la feature *gender*"
      ]
    },
    {
      "cell_type": "markdown",
      "metadata": {
        "id": "3lz50rSm4IXq"
      },
      "source": [
        "Para la imputación se hará algo distinto a lo usual. En lugar de colocar el valor más común (que en este caso sería el género masculino) se irán imputando los valores según la proporción de cada grupo a través de un *random choice* que tendrá en cuenta la probabilidad de que un individuo pertenezca a cada grupo."
      ]
    },
    {
      "cell_type": "code",
      "metadata": {
        "id": "X8jT8DK0TJ_Y"
      },
      "source": [
        "# Se imputan los valores a través de una lista de comprensión solo en caso de\n",
        "# que el individuo tenga genero NaN, sino, se mantiene el valor que ya tiene\n",
        "\n",
        "profile['gender'] = [np.random.choice(['M','F','O'], p = value_gender) if x not in ('M','F','O') else x for x in profile['gender']]"
      ],
      "execution_count": 55,
      "outputs": []
    },
    {
      "cell_type": "code",
      "metadata": {
        "id": "n8QpT-Fx3qy6"
      },
      "source": [
        ""
      ],
      "execution_count": null,
      "outputs": []
    }
  ]
}