{
 "metadata": {
  "language_info": {
   "codemirror_mode": {
    "name": "ipython",
    "version": 3
   },
   "file_extension": ".py",
   "mimetype": "text/x-python",
   "name": "python",
   "nbconvert_exporter": "python",
   "pygments_lexer": "ipython3",
   "version": "3.7.9-final"
  },
  "orig_nbformat": 2,
  "kernelspec": {
   "name": "python3",
   "display_name": "Python 3"
  }
 },
 "nbformat": 4,
 "nbformat_minor": 2,
 "cells": [
  {
   "cell_type": "code",
   "execution_count": 1,
   "metadata": {},
   "outputs": [],
   "source": [
    "import pandas as pd\n",
    "import numpy as np\n",
    "import json"
   ]
  },
  {
   "cell_type": "code",
   "execution_count": 2,
   "metadata": {},
   "outputs": [],
   "source": [
    "train_history = pd.read_json('train_dataset.jl', lines = True)\n",
    "item_data = pd.read_json('item_data.jl', lines = True)"
   ]
  },
  {
   "source": [
    "### Train history Dataset check"
   ],
   "cell_type": "markdown",
   "metadata": {}
  },
  {
   "cell_type": "code",
   "execution_count": 5,
   "metadata": {},
   "outputs": [
    {
     "output_type": "execute_result",
     "data": {
      "text/plain": [
       "(413163, 2)"
      ]
     },
     "metadata": {},
     "execution_count": 5
    }
   ],
   "source": [
    "train_history.shape"
   ]
  },
  {
   "cell_type": "code",
   "execution_count": 6,
   "metadata": {},
   "outputs": [
    {
     "output_type": "execute_result",
     "data": {
      "text/plain": [
       "                                        user_history  item_bought\n",
       "0  [{'event_info': 1786148, 'event_timestamp': '2...      1748830\n",
       "1  [{'event_info': 643652, 'event_timestamp': '20...       228737\n",
       "2  [{'event_info': 248595, 'event_timestamp': '20...      1909110\n",
       "3  [{'event_info': 'RADIOBOSS', 'event_timestamp'...      1197370\n",
       "4  [{'event_info': 'AMAZFIT BIP', 'event_timestam...      2049207"
      ],
      "text/html": "<div>\n<style scoped>\n    .dataframe tbody tr th:only-of-type {\n        vertical-align: middle;\n    }\n\n    .dataframe tbody tr th {\n        vertical-align: top;\n    }\n\n    .dataframe thead th {\n        text-align: right;\n    }\n</style>\n<table border=\"1\" class=\"dataframe\">\n  <thead>\n    <tr style=\"text-align: right;\">\n      <th></th>\n      <th>user_history</th>\n      <th>item_bought</th>\n    </tr>\n  </thead>\n  <tbody>\n    <tr>\n      <th>0</th>\n      <td>[{'event_info': 1786148, 'event_timestamp': '2...</td>\n      <td>1748830</td>\n    </tr>\n    <tr>\n      <th>1</th>\n      <td>[{'event_info': 643652, 'event_timestamp': '20...</td>\n      <td>228737</td>\n    </tr>\n    <tr>\n      <th>2</th>\n      <td>[{'event_info': 248595, 'event_timestamp': '20...</td>\n      <td>1909110</td>\n    </tr>\n    <tr>\n      <th>3</th>\n      <td>[{'event_info': 'RADIOBOSS', 'event_timestamp'...</td>\n      <td>1197370</td>\n    </tr>\n    <tr>\n      <th>4</th>\n      <td>[{'event_info': 'AMAZFIT BIP', 'event_timestam...</td>\n      <td>2049207</td>\n    </tr>\n  </tbody>\n</table>\n</div>"
     },
     "metadata": {},
     "execution_count": 6
    }
   ],
   "source": [
    "train_history.head()"
   ]
  },
  {
   "source": [
    "### Items Dataset check"
   ],
   "cell_type": "markdown",
   "metadata": {}
  },
  {
   "cell_type": "code",
   "execution_count": 7,
   "metadata": {},
   "outputs": [
    {
     "output_type": "execute_result",
     "data": {
      "text/plain": [
       "(2102277, 7)"
      ]
     },
     "metadata": {},
     "execution_count": 7
    }
   ],
   "source": [
    "item_data.shape"
   ]
  },
  {
   "cell_type": "code",
   "execution_count": 8,
   "metadata": {},
   "outputs": [
    {
     "output_type": "execute_result",
     "data": {
      "text/plain": [
       "   item_id                                              title  \\\n",
       "0   111260  Casa Sola En Venta Con Gran Patio Solo Pago De...   \n",
       "1   871377  Resident Evil Origins Collection Nintendo Swit...   \n",
       "2   490232                      Falda De Imitación Piel Negra   \n",
       "3  1150706       Powercolor Red Devil Radeon Rx 580 8gb Gddr5   \n",
       "4   934912  Laptop Hp Nx6320 Core Duo Con Puerto Db9 Windo...   \n",
       "\n",
       "                        domain_id  product_id       price category_id  \\\n",
       "0  MLM-INDIVIDUAL_HOUSES_FOR_SALE         NaN  1150000.00   MLM170527   \n",
       "1                 MLM-VIDEO_GAMES  15270800.0     1392.83   MLM151595   \n",
       "2                      MLM-SKIRTS         NaN      350.00     MLM7697   \n",
       "3              MLM-GRAPHICS_CARDS         NaN     3200.00     MLM9761   \n",
       "4                   MLM-NOTEBOOKS         NaN     1599.00     MLM1652   \n",
       "\n",
       "  condition  \n",
       "0       new  \n",
       "1       new  \n",
       "2       new  \n",
       "3      used  \n",
       "4      used  "
      ],
      "text/html": "<div>\n<style scoped>\n    .dataframe tbody tr th:only-of-type {\n        vertical-align: middle;\n    }\n\n    .dataframe tbody tr th {\n        vertical-align: top;\n    }\n\n    .dataframe thead th {\n        text-align: right;\n    }\n</style>\n<table border=\"1\" class=\"dataframe\">\n  <thead>\n    <tr style=\"text-align: right;\">\n      <th></th>\n      <th>item_id</th>\n      <th>title</th>\n      <th>domain_id</th>\n      <th>product_id</th>\n      <th>price</th>\n      <th>category_id</th>\n      <th>condition</th>\n    </tr>\n  </thead>\n  <tbody>\n    <tr>\n      <th>0</th>\n      <td>111260</td>\n      <td>Casa Sola En Venta Con Gran Patio Solo Pago De...</td>\n      <td>MLM-INDIVIDUAL_HOUSES_FOR_SALE</td>\n      <td>NaN</td>\n      <td>1150000.00</td>\n      <td>MLM170527</td>\n      <td>new</td>\n    </tr>\n    <tr>\n      <th>1</th>\n      <td>871377</td>\n      <td>Resident Evil Origins Collection Nintendo Swit...</td>\n      <td>MLM-VIDEO_GAMES</td>\n      <td>15270800.0</td>\n      <td>1392.83</td>\n      <td>MLM151595</td>\n      <td>new</td>\n    </tr>\n    <tr>\n      <th>2</th>\n      <td>490232</td>\n      <td>Falda De Imitación Piel Negra</td>\n      <td>MLM-SKIRTS</td>\n      <td>NaN</td>\n      <td>350.00</td>\n      <td>MLM7697</td>\n      <td>new</td>\n    </tr>\n    <tr>\n      <th>3</th>\n      <td>1150706</td>\n      <td>Powercolor Red Devil Radeon Rx 580 8gb Gddr5</td>\n      <td>MLM-GRAPHICS_CARDS</td>\n      <td>NaN</td>\n      <td>3200.00</td>\n      <td>MLM9761</td>\n      <td>used</td>\n    </tr>\n    <tr>\n      <th>4</th>\n      <td>934912</td>\n      <td>Laptop Hp Nx6320 Core Duo Con Puerto Db9 Windo...</td>\n      <td>MLM-NOTEBOOKS</td>\n      <td>NaN</td>\n      <td>1599.00</td>\n      <td>MLM1652</td>\n      <td>used</td>\n    </tr>\n  </tbody>\n</table>\n</div>"
     },
     "metadata": {},
     "execution_count": 8
    }
   ],
   "source": [
    "item_data.head()"
   ]
  },
  {
   "cell_type": "code",
   "execution_count": 10,
   "metadata": {},
   "outputs": [
    {
     "output_type": "execute_result",
     "data": {
      "text/plain": [
       "[{'event_info': 1786148,\n",
       "  'event_timestamp': '2019-10-19T11:25:42.444-0400',\n",
       "  'event_type': 'view'},\n",
       " {'event_info': 1786148,\n",
       "  'event_timestamp': '2019-10-19T11:25:57.487-0400',\n",
       "  'event_type': 'view'},\n",
       " {'event_info': 'RELOGIO SMARTWATCH',\n",
       "  'event_timestamp': '2019-10-19T11:26:07.063-0400',\n",
       "  'event_type': 'search'},\n",
       " {'event_info': 1615991,\n",
       "  'event_timestamp': '2019-10-19T11:27:26.879-0400',\n",
       "  'event_type': 'view'},\n",
       " {'event_info': 1615991,\n",
       "  'event_timestamp': '2019-10-19T11:28:36.558-0400',\n",
       "  'event_type': 'view'},\n",
       " {'event_info': 1615991,\n",
       "  'event_timestamp': '2019-10-19T11:28:40.827-0400',\n",
       "  'event_type': 'view'},\n",
       " {'event_info': 1615991,\n",
       "  'event_timestamp': '2019-10-19T11:30:42.089-0400',\n",
       "  'event_type': 'view'},\n",
       " {'event_info': 1615991,\n",
       "  'event_timestamp': '2019-10-19T21:51:29.622-0400',\n",
       "  'event_type': 'view'},\n",
       " {'event_info': 1615991,\n",
       "  'event_timestamp': '2019-10-19T21:52:09.281-0400',\n",
       "  'event_type': 'view'},\n",
       " {'event_info': 1615991,\n",
       "  'event_timestamp': '2019-10-19T21:52:41.863-0400',\n",
       "  'event_type': 'view'},\n",
       " {'event_info': 1615991,\n",
       "  'event_timestamp': '2019-10-19T21:54:16.119-0400',\n",
       "  'event_type': 'view'},\n",
       " {'event_info': 1615991,\n",
       "  'event_timestamp': '2019-10-19T21:54:40.629-0400',\n",
       "  'event_type': 'view'},\n",
       " {'event_info': 1615991,\n",
       "  'event_timestamp': '2019-10-19T21:54:57.329-0400',\n",
       "  'event_type': 'view'},\n",
       " {'event_info': 1615991,\n",
       "  'event_timestamp': '2019-10-19T22:00:04.577-0400',\n",
       "  'event_type': 'view'},\n",
       " {'event_info': 1615991,\n",
       "  'event_timestamp': '2019-10-20T10:36:47.525-0400',\n",
       "  'event_type': 'view'},\n",
       " {'event_info': 1615991,\n",
       "  'event_timestamp': '2019-10-20T10:37:23.202-0400',\n",
       "  'event_type': 'view'},\n",
       " {'event_info': 1615991,\n",
       "  'event_timestamp': '2019-10-20T10:37:47.699-0400',\n",
       "  'event_type': 'view'},\n",
       " {'event_info': 1615991,\n",
       "  'event_timestamp': '2019-10-20T19:28:14.619-0400',\n",
       "  'event_type': 'view'},\n",
       " {'event_info': 1615991,\n",
       "  'event_timestamp': '2019-10-20T19:28:41.646-0400',\n",
       "  'event_type': 'view'}]"
      ]
     },
     "metadata": {},
     "execution_count": 10
    }
   ],
   "source": [
    "train_history['user_history'][0]"
   ]
  },
  {
   "cell_type": "code",
   "execution_count": null,
   "metadata": {},
   "outputs": [],
   "source": []
  }
 ]
}